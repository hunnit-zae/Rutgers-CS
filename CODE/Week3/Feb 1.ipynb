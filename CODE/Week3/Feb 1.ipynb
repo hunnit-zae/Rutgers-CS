{
 "cells": [
  {
   "cell_type": "markdown",
   "id": "0c409986-d8c1-4899-bea1-caa1080ccbab",
   "metadata": {},
   "source": [
    "# FEB 1"
   ]
  },
  {
   "cell_type": "markdown",
   "id": "0e3b8929-96cd-46b9-b8c4-55f8a125636e",
   "metadata": {},
   "source": [
    "## List"
   ]
  },
  {
   "cell_type": "code",
   "execution_count": 2,
   "id": "1fbd25ce-538d-4f00-8692-2589e598a03e",
   "metadata": {},
   "outputs": [
    {
     "data": {
      "text/plain": [
       "'ee'"
      ]
     },
     "execution_count": 2,
     "metadata": {},
     "output_type": "execute_result"
    }
   ],
   "source": [
    "listofstrings = ['cs', 'ee', 'math']\n",
    "listofstrings[1]"
   ]
  },
  {
   "cell_type": "code",
   "execution_count": 4,
   "id": "02accbd6-c227-4aa2-9d10-50278f9d9823",
   "metadata": {},
   "outputs": [
    {
     "data": {
      "text/plain": [
       "[7, 8, 9]"
      ]
     },
     "execution_count": 4,
     "metadata": {},
     "output_type": "execute_result"
    }
   ],
   "source": [
    "# list of list\n",
    "alst = [1,2,3], [4,5,6], [7,8,9]\n",
    "alst[2]"
   ]
  },
  {
   "cell_type": "code",
   "execution_count": 8,
   "id": "18e13ed2-383a-4fa7-9652-cfc3ef623665",
   "metadata": {},
   "outputs": [
    {
     "data": {
      "text/plain": [
       "8"
      ]
     },
     "execution_count": 8,
     "metadata": {},
     "output_type": "execute_result"
    }
   ],
   "source": [
    "alst[2][1]"
   ]
  },
  {
   "cell_type": "code",
   "execution_count": 9,
   "id": "c98aa31f-a216-4e2b-b13f-1ba59a409ddf",
   "metadata": {},
   "outputs": [
    {
     "data": {
      "text/plain": [
       "7"
      ]
     },
     "execution_count": 9,
     "metadata": {},
     "output_type": "execute_result"
    }
   ],
   "source": [
    "alst[2][0]"
   ]
  },
  {
   "cell_type": "code",
   "execution_count": 10,
   "id": "252febaf-efcc-4721-83ca-adde2f77740a",
   "metadata": {},
   "outputs": [
    {
     "data": {
      "text/plain": [
       "False"
      ]
     },
     "execution_count": 10,
     "metadata": {},
     "output_type": "execute_result"
    }
   ],
   "source": [
    "# membership idea\n",
    "6 in alst"
   ]
  },
  {
   "cell_type": "code",
   "execution_count": 15,
   "id": "a8b18e7f-0ce4-43a2-ab95-2085d3b8802b",
   "metadata": {},
   "outputs": [
    {
     "data": {
      "text/plain": [
       "True"
      ]
     },
     "execution_count": 15,
     "metadata": {},
     "output_type": "execute_result"
    }
   ],
   "source": [
    "[7, 8, 9] in alst  # have to write all element in array then TRUE"
   ]
  },
  {
   "cell_type": "code",
   "execution_count": 18,
   "id": "29966d5b-2709-4037-8d4d-1963a1786f4d",
   "metadata": {},
   "outputs": [],
   "source": [
    "lst = [0,1,2,3,4,5,6,7,8,9]\n",
    "nine = lst[9]"
   ]
  },
  {
   "cell_type": "code",
   "execution_count": 19,
   "id": "71f4293d-e822-41bc-8863-d4e9d311ac1b",
   "metadata": {},
   "outputs": [
    {
     "data": {
      "text/plain": [
       "9"
      ]
     },
     "execution_count": 19,
     "metadata": {},
     "output_type": "execute_result"
    }
   ],
   "source": [
    "nine"
   ]
  },
  {
   "cell_type": "code",
   "execution_count": 20,
   "id": "81f67205-b2b6-4430-86ae-35332f236fe1",
   "metadata": {},
   "outputs": [],
   "source": [
    "nine = lst[-1]"
   ]
  },
  {
   "cell_type": "code",
   "execution_count": 21,
   "id": "7a88ac9a-a315-461b-b20f-3e94bb0c33c5",
   "metadata": {},
   "outputs": [
    {
     "data": {
      "text/plain": [
       "9"
      ]
     },
     "execution_count": 21,
     "metadata": {},
     "output_type": "execute_result"
    }
   ],
   "source": [
    "nine"
   ]
  },
  {
   "cell_type": "code",
   "execution_count": 22,
   "id": "47c45a67-bf62-41ba-a5f7-830489957922",
   "metadata": {},
   "outputs": [],
   "source": [
    "eight = lst[-2]"
   ]
  },
  {
   "cell_type": "code",
   "execution_count": 23,
   "id": "79824eb4-dff5-41fd-8d4f-fe13261668e8",
   "metadata": {},
   "outputs": [
    {
     "data": {
      "text/plain": [
       "8"
      ]
     },
     "execution_count": 23,
     "metadata": {},
     "output_type": "execute_result"
    }
   ],
   "source": [
    "eight"
   ]
  },
  {
   "cell_type": "code",
   "execution_count": 24,
   "id": "683781a8-761c-4f7f-9b69-f344d02936fd",
   "metadata": {},
   "outputs": [
    {
     "data": {
      "text/plain": [
       "[0, 11, 2, 3, 4, 5, 6, 7, 8, 9]"
      ]
     },
     "execution_count": 24,
     "metadata": {},
     "output_type": "execute_result"
    }
   ],
   "source": [
    "lst[1] = 11\n",
    "lst"
   ]
  },
  {
   "cell_type": "code",
   "execution_count": 25,
   "id": "0fee8936-4670-46cb-884e-de269dbd9870",
   "metadata": {},
   "outputs": [
    {
     "data": {
      "text/plain": [
       "[11, 2, 3]"
      ]
     },
     "execution_count": 25,
     "metadata": {},
     "output_type": "execute_result"
    }
   ],
   "source": [
    "#slices of list\n",
    "second_thru_fourth = lst[1:4] # element 1 2 3 is come\n",
    "second_thru_fourth"
   ]
  },
  {
   "cell_type": "code",
   "execution_count": 26,
   "id": "b19c8920-1f25-4ad4-84b9-8c7d9e0293c6",
   "metadata": {},
   "outputs": [
    {
     "data": {
      "text/plain": [
       "[0, 11, 2]"
      ]
     },
     "execution_count": 26,
     "metadata": {},
     "output_type": "execute_result"
    }
   ],
   "source": [
    "first_three = lst[:3] # same [0:3]\n",
    "first_three"
   ]
  },
  {
   "cell_type": "code",
   "execution_count": 27,
   "id": "453169e8-4aef-4db1-a28a-813b45ad3303",
   "metadata": {},
   "outputs": [
    {
     "data": {
      "text/plain": [
       "[7, 8, 9]"
      ]
     },
     "execution_count": 27,
     "metadata": {},
     "output_type": "execute_result"
    }
   ],
   "source": [
    "last_three = lst [-3:] \n",
    "last_three"
   ]
  },
  {
   "cell_type": "code",
   "execution_count": 28,
   "id": "fdfee470-f9e1-4d37-ba18-485749d65100",
   "metadata": {},
   "outputs": [
    {
     "data": {
      "text/plain": [
       "[11, 2, 3, 4, 5, 6, 7, 8]"
      ]
     },
     "execution_count": 28,
     "metadata": {},
     "output_type": "execute_result"
    }
   ],
   "source": [
    "stuff = lst[1:-1] #last elemnt is not include\n",
    "stuff"
   ]
  },
  {
   "cell_type": "code",
   "execution_count": 29,
   "id": "a8ad5e28-02d5-4eac-9c31-09e8ad126870",
   "metadata": {},
   "outputs": [
    {
     "data": {
      "text/plain": [
       "[0, 11, 2, 3, 4, 5, 6, 7, 8, 9]"
      ]
     },
     "execution_count": 29,
     "metadata": {},
     "output_type": "execute_result"
    }
   ],
   "source": [
    "lst[:] #whole list"
   ]
  },
  {
   "cell_type": "code",
   "execution_count": 30,
   "id": "319932e9-ad1d-451c-bd2a-53b4eba90e8a",
   "metadata": {},
   "outputs": [
    {
     "data": {
      "text/plain": [
       "[0, 11, 2, 3, 4, 5, 6, 7, 8, 9]"
      ]
     },
     "execution_count": 30,
     "metadata": {},
     "output_type": "execute_result"
    }
   ],
   "source": [
    "lst"
   ]
  },
  {
   "cell_type": "code",
   "execution_count": 31,
   "id": "706fd145-2881-450d-b1f3-f03aac9ef785",
   "metadata": {},
   "outputs": [
    {
     "data": {
      "text/plain": [
       "[0, 3, 6, 9]"
      ]
     },
     "execution_count": 31,
     "metadata": {},
     "output_type": "execute_result"
    }
   ],
   "source": [
    "lst[::3] # : start begining : jump up one element"
   ]
  },
  {
   "cell_type": "code",
   "execution_count": 33,
   "id": "2d8f8947-bcd9-4dbc-b674-d1f584ba6b1f",
   "metadata": {},
   "outputs": [
    {
     "data": {
      "text/plain": [
       "[8, 6, 4, 2]"
      ]
     },
     "execution_count": 33,
     "metadata": {},
     "output_type": "execute_result"
    }
   ],
   "source": [
    "lst[8:0:-2] # start at 8 and going backward 2 steps !END point is never included!"
   ]
  },
  {
   "cell_type": "code",
   "execution_count": 34,
   "id": "ca9fb893-c28a-4b32-8b34-226d44549ab9",
   "metadata": {},
   "outputs": [
    {
     "name": "stdout",
     "output_type": "stream",
     "text": [
      "[1, 2, 3, 4, 5, 6, 7]\n",
      "[1, 2, 3]\n"
     ]
    }
   ],
   "source": [
    "xx = [1,2,3]\n",
    "yy = xx + [4,5,6,7]\n",
    "print(yy)\n",
    "print(xx)"
   ]
  },
  {
   "cell_type": "code",
   "execution_count": 35,
   "id": "13f5cdd0-9199-4320-bd29-40b344ee22c7",
   "metadata": {},
   "outputs": [
    {
     "ename": "TypeError",
     "evalue": "can only concatenate list (not \"int\") to list",
     "output_type": "error",
     "traceback": [
      "\u001b[1;31m---------------------------------------------------------------------------\u001b[0m",
      "\u001b[1;31mTypeError\u001b[0m                                 Traceback (most recent call last)",
      "\u001b[1;32mC:\\Users\\BAEKGE~1\\AppData\\Local\\Temp/ipykernel_2032/666190974.py\u001b[0m in \u001b[0;36m<module>\u001b[1;34m\u001b[0m\n\u001b[1;32m----> 1\u001b[1;33m \u001b[0mzz\u001b[0m \u001b[1;33m=\u001b[0m \u001b[0mxx\u001b[0m \u001b[1;33m+\u001b[0m \u001b[1;36m2\u001b[0m \u001b[1;31m#fail\u001b[0m\u001b[1;33m\u001b[0m\u001b[1;33m\u001b[0m\u001b[0m\n\u001b[0m",
      "\u001b[1;31mTypeError\u001b[0m: can only concatenate list (not \"int\") to list"
     ]
    }
   ],
   "source": [
    "zz = xx + 2 #fail can only concatenate list (not \"int\") to list"
   ]
  },
  {
   "cell_type": "code",
   "execution_count": 39,
   "id": "a433c8f3-0090-4d66-b876-ffa47af65544",
   "metadata": {},
   "outputs": [
    {
     "data": {
      "text/plain": [
       "[1, 2, 3, 4, 5, 6, 7]"
      ]
     },
     "execution_count": 39,
     "metadata": {},
     "output_type": "execute_result"
    }
   ],
   "source": [
    "xx = [1,2,3]\n",
    "xx.extend([4,5,6,7]) # add element symtax\n",
    "xx"
   ]
  },
  {
   "cell_type": "code",
   "execution_count": 41,
   "id": "e853d28c-5d69-4955-bbb9-9eff2487674e",
   "metadata": {},
   "outputs": [
    {
     "ename": "TypeError",
     "evalue": "'int' object is not iterable",
     "output_type": "error",
     "traceback": [
      "\u001b[1;31m---------------------------------------------------------------------------\u001b[0m",
      "\u001b[1;31mTypeError\u001b[0m                                 Traceback (most recent call last)",
      "\u001b[1;32mC:\\Users\\BAEKGE~1\\AppData\\Local\\Temp/ipykernel_2032/2510020655.py\u001b[0m in \u001b[0;36m<module>\u001b[1;34m\u001b[0m\n\u001b[1;32m----> 1\u001b[1;33m \u001b[0mxx\u001b[0m\u001b[1;33m.\u001b[0m\u001b[0mextend\u001b[0m\u001b[1;33m(\u001b[0m\u001b[1;36m27\u001b[0m\u001b[1;33m)\u001b[0m \u001b[1;31m#'int' object is not iterable\u001b[0m\u001b[1;33m\u001b[0m\u001b[1;33m\u001b[0m\u001b[0m\n\u001b[0m",
      "\u001b[1;31mTypeError\u001b[0m: 'int' object is not iterable"
     ]
    }
   ],
   "source": [
    "xx.extend(27) #'int' object is not iterable"
   ]
  },
  {
   "cell_type": "code",
   "execution_count": 43,
   "id": "f8c4fb49-40a4-444d-998e-1404a73738b4",
   "metadata": {},
   "outputs": [
    {
     "data": {
      "text/plain": [
       "[2, 3, 4]"
      ]
     },
     "execution_count": 43,
     "metadata": {},
     "output_type": "execute_result"
    }
   ],
   "source": [
    "yy = [2,3,4]\n",
    "yy + [4,5,6] # + is not a symtax to add element at array\n",
    "yy"
   ]
  },
  {
   "cell_type": "code",
   "execution_count": 49,
   "id": "29c4636d-b241-4f46-a79a-88e108ba8254",
   "metadata": {},
   "outputs": [
    {
     "data": {
      "text/plain": [
       "[1,\n",
       " 2,\n",
       " 3,\n",
       " 4,\n",
       " 5,\n",
       " 6,\n",
       " 7,\n",
       " 'a',\n",
       " 'a',\n",
       " 'a',\n",
       " 'b',\n",
       " 'c',\n",
       " 'a',\n",
       " 'b',\n",
       " 'c',\n",
       " 'a',\n",
       " 'b',\n",
       " 'c',\n",
       " 'a',\n",
       " 'b',\n",
       " 'c']"
      ]
     },
     "execution_count": 49,
     "metadata": {},
     "output_type": "execute_result"
    }
   ],
   "source": [
    "xx.extend(\"abc\") #string is iterable\n",
    "xx"
   ]
  },
  {
   "cell_type": "code",
   "execution_count": 50,
   "id": "5f5c7910-3e8d-4808-99c2-19b49824c485",
   "metadata": {},
   "outputs": [
    {
     "data": {
      "text/plain": [
       "[1, 2, 3, 4]"
      ]
     },
     "execution_count": 50,
     "metadata": {},
     "output_type": "execute_result"
    }
   ],
   "source": [
    "x = [1,2,3]\n",
    "x.append(4) # different with .extend append is took the whole things as a 1 unit !not seperate!\n",
    "x"
   ]
  },
  {
   "cell_type": "code",
   "execution_count": 51,
   "id": "5824c5c0-9cc9-4837-b9a1-8994c6697c95",
   "metadata": {},
   "outputs": [
    {
     "data": {
      "text/plain": [
       "[1, 2, 3, 4, 'abc']"
      ]
     },
     "execution_count": 51,
     "metadata": {},
     "output_type": "execute_result"
    }
   ],
   "source": [
    "x.append(\"abc\")\n",
    "x"
   ]
  },
  {
   "cell_type": "code",
   "execution_count": 52,
   "id": "5b6196a1-59d7-4cf4-8b3f-a55592aca591",
   "metadata": {},
   "outputs": [
    {
     "data": {
      "text/plain": [
       "[1, 2, 3, 4, 'abc', [5, 6, 7]]"
      ]
     },
     "execution_count": 52,
     "metadata": {},
     "output_type": "execute_result"
    }
   ],
   "source": [
    "x.append([5,6,7])\n",
    "x"
   ]
  },
  {
   "cell_type": "code",
   "execution_count": 55,
   "id": "9224486d-a94f-4fcd-9a01-ef838aaf3614",
   "metadata": {},
   "outputs": [
    {
     "name": "stdout",
     "output_type": "stream",
     "text": [
      "4 6\n"
     ]
    }
   ],
   "source": [
    "# unpacking\n",
    "a,b = [4,6]\n",
    "print(a,b)"
   ]
  },
  {
   "cell_type": "code",
   "execution_count": 57,
   "id": "a4a25610-e92c-481f-ac34-668bb1155939",
   "metadata": {},
   "outputs": [
    {
     "name": "stdout",
     "output_type": "stream",
     "text": [
      "6\n"
     ]
    }
   ],
   "source": [
    "_,b = [4,6]\n",
    "print(b)"
   ]
  },
  {
   "cell_type": "code",
   "execution_count": 61,
   "id": "955ef45a-d67b-4c65-a8b0-1884e4c95959",
   "metadata": {},
   "outputs": [
    {
     "name": "stdout",
     "output_type": "stream",
     "text": [
      "5\n",
      "[4, -3, 6, 1, -7, 3, 8]\n"
     ]
    }
   ],
   "source": [
    "mylst = [5,4,-3,6,1,-7,3,8]\n",
    "first, *rest = mylst # * means pick the largest chunk in the array\n",
    "print(first)\n",
    "print(rest)"
   ]
  },
  {
   "cell_type": "code",
   "execution_count": 63,
   "id": "73f4d1c4-85ae-43d0-81e8-6867c24964a9",
   "metadata": {},
   "outputs": [
    {
     "name": "stdout",
     "output_type": "stream",
     "text": [
      "5\n",
      "[4, -3, 6, 1, -7, 3]\n",
      "8\n"
     ]
    }
   ],
   "source": [
    "first, *chunk, last = mylst # * means pick the largest chunk in the array\n",
    "print(first)\n",
    "print(chunk)\n",
    "print(last)"
   ]
  },
  {
   "cell_type": "code",
   "execution_count": 68,
   "id": "0ecf6916-18c7-4317-bb4b-3049630eb072",
   "metadata": {},
   "outputs": [
    {
     "ename": "ValueError",
     "evalue": "too many values to unpack (expected 2)",
     "output_type": "error",
     "traceback": [
      "\u001b[1;31m---------------------------------------------------------------------------\u001b[0m",
      "\u001b[1;31mValueError\u001b[0m                                Traceback (most recent call last)",
      "\u001b[1;32mC:\\Users\\BAEKGE~1\\AppData\\Local\\Temp/ipykernel_2032/3935816183.py\u001b[0m in \u001b[0;36m<module>\u001b[1;34m\u001b[0m\n\u001b[0;32m      1\u001b[0m \u001b[0mmylst\u001b[0m \u001b[1;33m=\u001b[0m \u001b[1;33m[\u001b[0m\u001b[1;36m5\u001b[0m\u001b[1;33m,\u001b[0m\u001b[1;36m4\u001b[0m\u001b[1;33m,\u001b[0m\u001b[1;33m-\u001b[0m\u001b[1;36m3\u001b[0m\u001b[1;33m,\u001b[0m\u001b[1;36m6\u001b[0m\u001b[1;33m,\u001b[0m\u001b[1;36m1\u001b[0m\u001b[1;33m,\u001b[0m\u001b[1;33m-\u001b[0m\u001b[1;36m7\u001b[0m\u001b[1;33m,\u001b[0m\u001b[1;36m3\u001b[0m\u001b[1;33m,\u001b[0m\u001b[1;36m8\u001b[0m\u001b[1;33m]\u001b[0m\u001b[1;33m\u001b[0m\u001b[1;33m\u001b[0m\u001b[0m\n\u001b[1;32m----> 2\u001b[1;33m \u001b[0mabc\u001b[0m\u001b[1;33m,\u001b[0m \u001b[0mefg\u001b[0m \u001b[1;33m=\u001b[0m \u001b[0mmylst\u001b[0m\u001b[1;33m\u001b[0m\u001b[1;33m\u001b[0m\u001b[0m\n\u001b[0m",
      "\u001b[1;31mValueError\u001b[0m: too many values to unpack (expected 2)"
     ]
    }
   ],
   "source": [
    "mylst = [5,4,-3,6,1,-7,3,8]\n",
    "abc, efg = mylst"
   ]
  },
  {
   "cell_type": "markdown",
   "id": "0ed5a7b5-8214-4b84-a0f4-b3d2591b8fa7",
   "metadata": {},
   "source": [
    "---"
   ]
  },
  {
   "cell_type": "code",
   "execution_count": 70,
   "id": "33232c26-2c2b-49c5-a299-b087f478e0cf",
   "metadata": {},
   "outputs": [
    {
     "data": {
      "text/plain": [
       "3"
      ]
     },
     "execution_count": 70,
     "metadata": {},
     "output_type": "execute_result"
    }
   ],
   "source": [
    "clst = ['a','b','a','c','d','a','b','f']\n",
    "clst.count('a')"
   ]
  },
  {
   "cell_type": "code",
   "execution_count": 72,
   "id": "9db0a6c7-4931-42f6-bc5e-51e349d6f4aa",
   "metadata": {},
   "outputs": [
    {
     "data": {
      "text/plain": [
       "3"
      ]
     },
     "execution_count": 72,
     "metadata": {},
     "output_type": "execute_result"
    }
   ],
   "source": [
    "# find index of item\n",
    "clst.index('c')"
   ]
  },
  {
   "cell_type": "code",
   "execution_count": 74,
   "id": "c4e6edef-be8c-4682-9f0b-c10a31317f96",
   "metadata": {},
   "outputs": [
    {
     "data": {
      "text/plain": [
       "5"
      ]
     },
     "execution_count": 74,
     "metadata": {},
     "output_type": "execute_result"
    }
   ],
   "source": [
    "clst.index('a',3) #start from 3"
   ]
  },
  {
   "cell_type": "code",
   "execution_count": 75,
   "id": "d832cd3f-bc26-46bf-aee6-c8b959bd5643",
   "metadata": {},
   "outputs": [
    {
     "data": {
      "text/plain": [
       "5"
      ]
     },
     "execution_count": 75,
     "metadata": {},
     "output_type": "execute_result"
    }
   ],
   "source": [
    "clst.index('a',3,6)"
   ]
  },
  {
   "cell_type": "code",
   "execution_count": 77,
   "id": "2c944754-a40a-4612-9154-9e33e8e43245",
   "metadata": {},
   "outputs": [
    {
     "ename": "ValueError",
     "evalue": "'a' is not in list",
     "output_type": "error",
     "traceback": [
      "\u001b[1;31m---------------------------------------------------------------------------\u001b[0m",
      "\u001b[1;31mValueError\u001b[0m                                Traceback (most recent call last)",
      "\u001b[1;32mC:\\Users\\BAEKGE~1\\AppData\\Local\\Temp/ipykernel_2032/2251692268.py\u001b[0m in \u001b[0;36m<module>\u001b[1;34m\u001b[0m\n\u001b[1;32m----> 1\u001b[1;33m \u001b[0mclst\u001b[0m\u001b[1;33m.\u001b[0m\u001b[0mindex\u001b[0m\u001b[1;33m(\u001b[0m\u001b[1;34m'a'\u001b[0m\u001b[1;33m,\u001b[0m\u001b[1;36m3\u001b[0m\u001b[1;33m,\u001b[0m\u001b[1;36m5\u001b[0m\u001b[1;33m)\u001b[0m \u001b[1;31m# start and ending 3 and 5 !End is not include!\u001b[0m\u001b[1;33m\u001b[0m\u001b[1;33m\u001b[0m\u001b[0m\n\u001b[0m",
      "\u001b[1;31mValueError\u001b[0m: 'a' is not in list"
     ]
    }
   ],
   "source": [
    "clst.index('a',3,5) # start and ending 3 and 5 !End is not include!"
   ]
  },
  {
   "cell_type": "code",
   "execution_count": 79,
   "id": "178a061a-4a80-4ff7-b6ba-8ccfe5e86a4d",
   "metadata": {},
   "outputs": [
    {
     "data": {
      "text/plain": [
       "['f', 'b', 'a', 'd', 'c', 'a', 'b', 'a']"
      ]
     },
     "execution_count": 79,
     "metadata": {},
     "output_type": "execute_result"
    }
   ],
   "source": [
    "clst[::-1]"
   ]
  },
  {
   "cell_type": "code",
   "execution_count": 80,
   "id": "27d2ad67-440c-4b78-b1b0-c67789b75e49",
   "metadata": {},
   "outputs": [
    {
     "name": "stdout",
     "output_type": "stream",
     "text": [
      "z is not in list\n"
     ]
    }
   ],
   "source": [
    "try:\n",
    "    res = clst.index('z')\n",
    "    print('z is in list')\n",
    "except:\n",
    "    print('z is not in list')"
   ]
  },
  {
   "cell_type": "code",
   "execution_count": 82,
   "id": "67badee7-b514-495d-9bcc-7d65bc44a541",
   "metadata": {},
   "outputs": [
    {
     "ename": "AttributeError",
     "evalue": "'list' object has no attribute 'find'",
     "output_type": "error",
     "traceback": [
      "\u001b[1;31m---------------------------------------------------------------------------\u001b[0m",
      "\u001b[1;31mAttributeError\u001b[0m                            Traceback (most recent call last)",
      "\u001b[1;32mC:\\Users\\BAEKGE~1\\AppData\\Local\\Temp/ipykernel_2032/1147491538.py\u001b[0m in \u001b[0;36m<module>\u001b[1;34m\u001b[0m\n\u001b[1;32m----> 1\u001b[1;33m \u001b[0mclst\u001b[0m\u001b[1;33m.\u001b[0m\u001b[0mfind\u001b[0m\u001b[1;33m(\u001b[0m\u001b[1;33m[\u001b[0m\u001b[0ma\u001b[0m\u001b[1;33m]\u001b[0m\u001b[1;33m)\u001b[0m\u001b[1;33m\u001b[0m\u001b[1;33m\u001b[0m\u001b[0m\n\u001b[0m",
      "\u001b[1;31mAttributeError\u001b[0m: 'list' object has no attribute 'find'"
     ]
    }
   ],
   "source": [
    "clst.find('a')"
   ]
  },
  {
   "cell_type": "markdown",
   "id": "9a01c298-be99-4031-b02f-2998873edb29",
   "metadata": {},
   "source": [
    "---"
   ]
  },
  {
   "cell_type": "code",
   "execution_count": 84,
   "id": "8932b062-a3b2-49a4-961d-c37b2ca1c616",
   "metadata": {},
   "outputs": [
    {
     "data": {
      "text/plain": [
       "['a', 'b', 'x', 'x', 'a', 'c', 'd', 'a', 'b', 'f']"
      ]
     },
     "execution_count": 84,
     "metadata": {},
     "output_type": "execute_result"
    }
   ],
   "source": [
    "clst.insert(2,'x') #insert x on second place \n",
    "clst"
   ]
  },
  {
   "cell_type": "code",
   "execution_count": 87,
   "id": "90217dad-603c-4c48-8aa9-5365aeb20dfd",
   "metadata": {},
   "outputs": [
    {
     "data": {
      "text/plain": [
       "['a', 'b', 'x', 'x', 'a', 'c', 'd', 'a', 'b', 'f', 'z', 'z']"
      ]
     },
     "execution_count": 87,
     "metadata": {},
     "output_type": "execute_result"
    }
   ],
   "source": [
    "clst.insert(len(clst), 'z')\n",
    "clst"
   ]
  },
  {
   "cell_type": "code",
   "execution_count": 89,
   "id": "56262340-2804-471b-bdf1-8f82b9b8d770",
   "metadata": {},
   "outputs": [],
   "source": [
    "clst.append('k')"
   ]
  },
  {
   "cell_type": "code",
   "execution_count": 90,
   "id": "917da764-9bf3-4832-9c00-80e7affefbbf",
   "metadata": {},
   "outputs": [
    {
     "data": {
      "text/plain": [
       "['a', 'b', 'x', 'x', 'a', 'c', 'd', 'a', 'b', 'f', 'z', 'z', 'k']"
      ]
     },
     "execution_count": 90,
     "metadata": {},
     "output_type": "execute_result"
    }
   ],
   "source": [
    "clst"
   ]
  },
  {
   "cell_type": "code",
   "execution_count": 91,
   "id": "c4c09b61-ca3a-4d71-aacf-65bee912d8b3",
   "metadata": {},
   "outputs": [
    {
     "data": {
      "text/plain": [
       "['a', 'b', 'abc', 'x', 'x', 'a', 'c', 'd', 'a', 'b', 'f', 'z', 'z', 'k']"
      ]
     },
     "execution_count": 91,
     "metadata": {},
     "output_type": "execute_result"
    }
   ],
   "source": [
    "clst.insert(2, 'abc')\n",
    "clst"
   ]
  },
  {
   "cell_type": "code",
   "execution_count": 92,
   "id": "48e21eb5-5208-4329-b578-a2944b82b25e",
   "metadata": {},
   "outputs": [
    {
     "data": {
      "text/plain": [
       "['a', 'b', 'abc', 'x', 'a', 'c', 'd', 'a', 'b', 'f', 'z', 'z', 'k']"
      ]
     },
     "execution_count": 92,
     "metadata": {},
     "output_type": "execute_result"
    }
   ],
   "source": [
    "clst.remove('x') #remove only one element\n",
    "clst"
   ]
  },
  {
   "cell_type": "code",
   "execution_count": 93,
   "id": "595652e5-6b92-4423-bd8f-874af0d8c1f7",
   "metadata": {},
   "outputs": [
    {
     "ename": "ValueError",
     "evalue": "list.remove(x): x not in list",
     "output_type": "error",
     "traceback": [
      "\u001b[1;31m---------------------------------------------------------------------------\u001b[0m",
      "\u001b[1;31mValueError\u001b[0m                                Traceback (most recent call last)",
      "\u001b[1;32mC:\\Users\\BAEKGE~1\\AppData\\Local\\Temp/ipykernel_2032/2590412535.py\u001b[0m in \u001b[0;36m<module>\u001b[1;34m\u001b[0m\n\u001b[1;32m----> 1\u001b[1;33m \u001b[0mclst\u001b[0m\u001b[1;33m.\u001b[0m\u001b[0mremove\u001b[0m\u001b[1;33m(\u001b[0m\u001b[1;34m'p'\u001b[0m\u001b[1;33m)\u001b[0m\u001b[1;33m\u001b[0m\u001b[1;33m\u001b[0m\u001b[0m\n\u001b[0m",
      "\u001b[1;31mValueError\u001b[0m: list.remove(x): x not in list"
     ]
    }
   ],
   "source": [
    "clst.remove('p')"
   ]
  },
  {
   "cell_type": "code",
   "execution_count": 94,
   "id": "8fa454cf-6ab7-4b0b-b2e2-bd6195ee82de",
   "metadata": {},
   "outputs": [
    {
     "name": "stdout",
     "output_type": "stream",
     "text": [
      "['a', 'a', 'c', 'd', 'a', 'f']\n"
     ]
    }
   ],
   "source": [
    "#remove all occurrences of 'b' from clst Verson 1\n",
    "clst = ['a','b','a','c','d','a','b','f']\n",
    "while True:\n",
    "    try:\n",
    "        clst.remove('b')\n",
    "    except:\n",
    "        break\n",
    "print(clst)\n"
   ]
  },
  {
   "cell_type": "code",
   "execution_count": 95,
   "id": "f01b9643-adde-4868-af29-d9aaf3db9fdd",
   "metadata": {},
   "outputs": [
    {
     "name": "stdout",
     "output_type": "stream",
     "text": [
      "['a', 'a', 'c', 'd', 'a', 'f']\n"
     ]
    }
   ],
   "source": [
    "# Version 2\n",
    "clst = ['a','b','a','c','d','a','b','f']\n",
    "for _ in range(clst.count('b')):\n",
    "    clst.remove('b')\n",
    "print(clst)"
   ]
  },
  {
   "cell_type": "code",
   "execution_count": 96,
   "id": "9cc25613-660f-4ff6-9833-53aa3e22c833",
   "metadata": {},
   "outputs": [
    {
     "name": "stdout",
     "output_type": "stream",
     "text": [
      "['a', 'a', 'c', 'd', 'a', 'f']\n"
     ]
    }
   ],
   "source": [
    "# Version 3\n",
    "clst = ['a','b','a','c','d','a','b','f']\n",
    "while 'b' in clst:\n",
    "    clst.remove('b')\n",
    "print(clst)"
   ]
  },
  {
   "cell_type": "code",
   "execution_count": 97,
   "id": "a8d70f5d-3bb5-4373-8f48-81bfc348d0fb",
   "metadata": {},
   "outputs": [
    {
     "data": {
      "text/plain": [
       "['f', 'a', 'd', 'c', 'a', 'a']"
      ]
     },
     "execution_count": 97,
     "metadata": {},
     "output_type": "execute_result"
    }
   ],
   "source": [
    "clst.reverse()\n",
    "clst"
   ]
  },
  {
   "cell_type": "code",
   "execution_count": 99,
   "id": "c5d51f2a-117f-4e44-9534-3ebb30b33ffe",
   "metadata": {},
   "outputs": [
    {
     "data": {
      "text/plain": [
       "['a', 'a', 'c', 'd', 'a', 'f']"
      ]
     },
     "execution_count": 99,
     "metadata": {},
     "output_type": "execute_result"
    }
   ],
   "source": [
    "clst[::-1]"
   ]
  },
  {
   "cell_type": "markdown",
   "id": "95287c59-f799-44fb-8e43-92dac1416de6",
   "metadata": {},
   "source": [
    "---"
   ]
  },
  {
   "cell_type": "code",
   "execution_count": 100,
   "id": "4d8fa92c-217b-49e4-9293-8554777ffc77",
   "metadata": {},
   "outputs": [
    {
     "name": "stdout",
     "output_type": "stream",
     "text": [
      "(0, 1)\n",
      "(1, 2)\n",
      "(2, 3)\n"
     ]
    }
   ],
   "source": [
    "# enumeration\n",
    "for item in enumerate([1,2,3]):\n",
    "    print(item)"
   ]
  },
  {
   "cell_type": "code",
   "execution_count": 102,
   "id": "033c81e0-ab4e-4ad5-99aa-7fc5dfa62335",
   "metadata": {},
   "outputs": [
    {
     "name": "stdout",
     "output_type": "stream",
     "text": [
      "0 1\n",
      "1 2\n",
      "2 3\n"
     ]
    }
   ],
   "source": [
    "for i,item in enumerate([1,2,3]): # can print it seperate\n",
    "    print(i, item)"
   ]
  },
  {
   "cell_type": "code",
   "execution_count": 105,
   "id": "3b4e3599-67d7-44b2-a887-9f855767bdd3",
   "metadata": {},
   "outputs": [
    {
     "name": "stdout",
     "output_type": "stream",
     "text": [
      "(0, 2)\n",
      "(1, 4)\n"
     ]
    }
   ],
   "source": [
    "for item in enumerate(range(2,5,2)):\n",
    "    print(item)"
   ]
  },
  {
   "cell_type": "code",
   "execution_count": 106,
   "id": "d377da51-77fd-42fa-893a-caafc361c687",
   "metadata": {},
   "outputs": [
    {
     "data": {
      "text/plain": [
       "range(2, 5, 2)"
      ]
     },
     "execution_count": 106,
     "metadata": {},
     "output_type": "execute_result"
    }
   ],
   "source": [
    "rlst = range(2,5,2)\n",
    "rlst"
   ]
  },
  {
   "cell_type": "markdown",
   "id": "823486db-0aec-4596-958c-58aed1c15abd",
   "metadata": {},
   "source": [
    "---"
   ]
  },
  {
   "cell_type": "markdown",
   "id": "2539a237-a338-4b22-b0f1-9efbc7badb35",
   "metadata": {},
   "source": [
    "### Tuples"
   ]
  },
  {
   "cell_type": "code",
   "execution_count": 108,
   "id": "5d70691c-bcea-44b5-827a-a8e927496e0e",
   "metadata": {},
   "outputs": [
    {
     "data": {
      "text/plain": [
       "(2, 4)"
      ]
     },
     "execution_count": 108,
     "metadata": {},
     "output_type": "execute_result"
    }
   ],
   "source": [
    "atup = (2,4)\n",
    "atup"
   ]
  },
  {
   "cell_type": "code",
   "execution_count": 110,
   "id": "d702c9ec-52e0-40d3-bf71-8a237d61e7dd",
   "metadata": {},
   "outputs": [
    {
     "data": {
      "text/plain": [
       "(3, 5)"
      ]
     },
     "execution_count": 110,
     "metadata": {},
     "output_type": "execute_result"
    }
   ],
   "source": [
    "atup = 3,5 # comma seperate means tuples\n",
    "atup"
   ]
  },
  {
   "cell_type": "code",
   "execution_count": 117,
   "id": "31bf881b-d6b7-4a00-96df-269d1fdd16f5",
   "metadata": {},
   "outputs": [
    {
     "data": {
      "text/plain": [
       "(1, 2)"
      ]
     },
     "execution_count": 117,
     "metadata": {},
     "output_type": "execute_result"
    }
   ],
   "source": [
    "atup = tuple((1,2))\n",
    "atup"
   ]
  },
  {
   "cell_type": "code",
   "execution_count": 113,
   "id": "2160c316-9f38-4ac3-b6c9-15c1ccb286f4",
   "metadata": {},
   "outputs": [
    {
     "ename": "TypeError",
     "evalue": "tuple expected at most 1 argument, got 2",
     "output_type": "error",
     "traceback": [
      "\u001b[1;31m---------------------------------------------------------------------------\u001b[0m",
      "\u001b[1;31mTypeError\u001b[0m                                 Traceback (most recent call last)",
      "\u001b[1;32mC:\\Users\\BAEKGE~1\\AppData\\Local\\Temp/ipykernel_2032/3840001989.py\u001b[0m in \u001b[0;36m<module>\u001b[1;34m\u001b[0m\n\u001b[1;32m----> 1\u001b[1;33m \u001b[0mbtup\u001b[0m \u001b[1;33m=\u001b[0m \u001b[0mtuple\u001b[0m\u001b[1;33m(\u001b[0m\u001b[1;36m3\u001b[0m\u001b[1;33m,\u001b[0m\u001b[1;36m4\u001b[0m\u001b[1;33m)\u001b[0m\u001b[1;33m\u001b[0m\u001b[1;33m\u001b[0m\u001b[0m\n\u001b[0m\u001b[0;32m      2\u001b[0m \u001b[0mbtup\u001b[0m\u001b[1;33m\u001b[0m\u001b[1;33m\u001b[0m\u001b[0m\n",
      "\u001b[1;31mTypeError\u001b[0m: tuple expected at most 1 argument, got 2"
     ]
    }
   ],
   "source": [
    "btup = tuple(3,4)\n",
    "btup"
   ]
  },
  {
   "cell_type": "code",
   "execution_count": 114,
   "id": "f9df0be4-6acb-4325-a0f1-9bafdd052b73",
   "metadata": {},
   "outputs": [
    {
     "data": {
      "text/plain": [
       "()"
      ]
     },
     "execution_count": 114,
     "metadata": {},
     "output_type": "execute_result"
    }
   ],
   "source": [
    "ctup = tuple()\n",
    "ctup"
   ]
  },
  {
   "cell_type": "code",
   "execution_count": 115,
   "id": "71a50b57-af79-49b4-9f1b-7c20bd739c80",
   "metadata": {},
   "outputs": [
    {
     "data": {
      "text/plain": [
       "('a', 'b', 'c', 'd', 'e')"
      ]
     },
     "execution_count": 115,
     "metadata": {},
     "output_type": "execute_result"
    }
   ],
   "source": [
    "stup = tuple('abcde')\n",
    "stup"
   ]
  },
  {
   "cell_type": "code",
   "execution_count": 119,
   "id": "5373bc33-9883-4d1b-9457-bbd9e6269260",
   "metadata": {},
   "outputs": [
    {
     "data": {
      "text/plain": [
       "(1, [3, 2], 5)"
      ]
     },
     "execution_count": 119,
     "metadata": {},
     "output_type": "execute_result"
    }
   ],
   "source": [
    "ltup = tuple([1,[3,2],5])\n",
    "ltup"
   ]
  },
  {
   "cell_type": "code",
   "execution_count": 120,
   "id": "5279aec6-5e07-4f78-aa8a-b4e9d1f4dd88",
   "metadata": {},
   "outputs": [
    {
     "ename": "TypeError",
     "evalue": "tuple expected at most 1 argument, got 6",
     "output_type": "error",
     "traceback": [
      "\u001b[1;31m---------------------------------------------------------------------------\u001b[0m",
      "\u001b[1;31mTypeError\u001b[0m                                 Traceback (most recent call last)",
      "\u001b[1;32mC:\\Users\\BAEKGE~1\\AppData\\Local\\Temp/ipykernel_2032/2496332485.py\u001b[0m in \u001b[0;36m<module>\u001b[1;34m\u001b[0m\n\u001b[1;32m----> 1\u001b[1;33m \u001b[0mmtup\u001b[0m \u001b[1;33m=\u001b[0m \u001b[0mtuple\u001b[0m\u001b[1;33m(\u001b[0m\u001b[1;34m'a'\u001b[0m\u001b[1;33m,\u001b[0m\u001b[1;36m2\u001b[0m\u001b[1;33m,\u001b[0m\u001b[1;36m5\u001b[0m\u001b[1;33m,\u001b[0m\u001b[1;34m'cde'\u001b[0m\u001b[1;33m,\u001b[0m\u001b[1;36m15\u001b[0m\u001b[1;33m,\u001b[0m\u001b[1;33m[\u001b[0m\u001b[1;36m1\u001b[0m\u001b[1;33m,\u001b[0m\u001b[1;36m2\u001b[0m\u001b[1;33m,\u001b[0m\u001b[1;36m3\u001b[0m\u001b[1;33m]\u001b[0m\u001b[1;33m)\u001b[0m\u001b[1;33m\u001b[0m\u001b[1;33m\u001b[0m\u001b[0m\n\u001b[0m\u001b[0;32m      2\u001b[0m \u001b[0mmtup\u001b[0m\u001b[1;33m\u001b[0m\u001b[1;33m\u001b[0m\u001b[0m\n",
      "\u001b[1;31mTypeError\u001b[0m: tuple expected at most 1 argument, got 6"
     ]
    }
   ],
   "source": [
    "mtup = tuple('a',2,5,'cde',15,[1,2,3])\n",
    "mtup"
   ]
  },
  {
   "cell_type": "code",
   "execution_count": 121,
   "id": "5851c24b-6462-4387-9410-9f183b2d88c2",
   "metadata": {},
   "outputs": [
    {
     "data": {
      "text/plain": [
       "('a', 2, 5, 'cde', 15, [1, 2, 3])"
      ]
     },
     "execution_count": 121,
     "metadata": {},
     "output_type": "execute_result"
    }
   ],
   "source": [
    "mtup = ('a',2,5,'cde',15,[1,2,3])\n",
    "mtup"
   ]
  },
  {
   "cell_type": "code",
   "execution_count": 122,
   "id": "e6c9048f-2736-493a-bce2-3a8dc8bd4daf",
   "metadata": {},
   "outputs": [
    {
     "ename": "TypeError",
     "evalue": "'tuple' object does not support item assignment",
     "output_type": "error",
     "traceback": [
      "\u001b[1;31m---------------------------------------------------------------------------\u001b[0m",
      "\u001b[1;31mTypeError\u001b[0m                                 Traceback (most recent call last)",
      "\u001b[1;32mC:\\Users\\BAEKGE~1\\AppData\\Local\\Temp/ipykernel_2032/50912579.py\u001b[0m in \u001b[0;36m<module>\u001b[1;34m\u001b[0m\n\u001b[1;32m----> 1\u001b[1;33m \u001b[0matup\u001b[0m\u001b[1;33m[\u001b[0m\u001b[1;36m1\u001b[0m\u001b[1;33m]\u001b[0m \u001b[1;33m=\u001b[0m \u001b[1;36m5\u001b[0m\u001b[1;33m\u001b[0m\u001b[1;33m\u001b[0m\u001b[0m\n\u001b[0m",
      "\u001b[1;31mTypeError\u001b[0m: 'tuple' object does not support item assignment"
     ]
    }
   ],
   "source": [
    "atup[1] = 5 #'tuple' object does not support item assignment"
   ]
  },
  {
   "cell_type": "code",
   "execution_count": 124,
   "id": "60498ae0-b046-464b-8d45-d6bf51a49e2e",
   "metadata": {},
   "outputs": [
    {
     "name": "stdout",
     "output_type": "stream",
     "text": [
      "2 3\n"
     ]
    }
   ],
   "source": [
    "# swap\n",
    "a=3\n",
    "b=2\n",
    "a,b=b,a\n",
    "print(a,b)"
   ]
  },
  {
   "cell_type": "markdown",
   "id": "c86248f1-1914-4f80-9c35-b1f7121d2467",
   "metadata": {},
   "source": [
    "---"
   ]
  },
  {
   "cell_type": "markdown",
   "id": "648109a7-eeee-4d87-98cd-0e10ba4d8067",
   "metadata": {},
   "source": [
    "#### Strings as iterables"
   ]
  },
  {
   "cell_type": "code",
   "execution_count": 126,
   "id": "ec657dd4-61af-40c0-940f-5f57996eb926",
   "metadata": {},
   "outputs": [
    {
     "data": {
      "text/plain": [
       "'Science'"
      ]
     },
     "execution_count": 126,
     "metadata": {},
     "output_type": "execute_result"
    }
   ],
   "source": [
    "ds = 'Data Science'\n",
    "ds[5:]"
   ]
  },
  {
   "cell_type": "code",
   "execution_count": 127,
   "id": "fff2200c-ea5c-471b-8244-bf45bb02e141",
   "metadata": {},
   "outputs": [
    {
     "data": {
      "text/plain": [
       "'Data'"
      ]
     },
     "execution_count": 127,
     "metadata": {},
     "output_type": "execute_result"
    }
   ],
   "source": [
    "ds[:4]"
   ]
  },
  {
   "cell_type": "code",
   "execution_count": 128,
   "id": "917f828d-f563-45dd-816a-7ff1ea5ec9c0",
   "metadata": {},
   "outputs": [
    {
     "data": {
      "text/plain": [
       "'a S'"
      ]
     },
     "execution_count": 128,
     "metadata": {},
     "output_type": "execute_result"
    }
   ],
   "source": [
    "ds[3:6]"
   ]
  },
  {
   "cell_type": "code",
   "execution_count": 129,
   "id": "50c194f1-1bfd-49d1-bd11-5fcc97fb820c",
   "metadata": {},
   "outputs": [
    {
     "data": {
      "text/plain": [
       "'ecneicS ataD'"
      ]
     },
     "execution_count": 129,
     "metadata": {},
     "output_type": "execute_result"
    }
   ],
   "source": [
    "ds[::-1]"
   ]
  },
  {
   "cell_type": "code",
   "execution_count": 134,
   "id": "37c6b7e3-f962-41d4-a935-cb258bfb406b",
   "metadata": {},
   "outputs": [],
   "source": [
    "# tell if a sting is a palindrome - Version 1\n",
    "def isPalindrome(st):\n",
    "    while True:\n",
    "        n = len(st)\n",
    "        if n == 0 or n == 1:\n",
    "            return True\n",
    "        if st[0].lower() != st[-1].lower():\n",
    "            return False\n",
    "        st = st[1:-1]"
   ]
  },
  {
   "cell_type": "code",
   "execution_count": 135,
   "id": "60125d27-13ce-4014-89ba-d00abb5161e7",
   "metadata": {},
   "outputs": [
    {
     "data": {
      "text/plain": [
       "True"
      ]
     },
     "execution_count": 135,
     "metadata": {},
     "output_type": "execute_result"
    }
   ],
   "source": [
    "isPalindrome(\"raceCar\")"
   ]
  },
  {
   "cell_type": "code",
   "execution_count": 136,
   "id": "52aca46f-68d9-4f87-9ff1-8dfbcb8753a4",
   "metadata": {},
   "outputs": [
    {
     "data": {
      "text/plain": [
       "True"
      ]
     },
     "execution_count": 136,
     "metadata": {},
     "output_type": "execute_result"
    }
   ],
   "source": [
    "isPalindrome(\"a\")"
   ]
  },
  {
   "cell_type": "code",
   "execution_count": 137,
   "id": "d93d3832-f36b-420c-b724-e8f383db2723",
   "metadata": {},
   "outputs": [
    {
     "data": {
      "text/plain": [
       "True"
      ]
     },
     "execution_count": 137,
     "metadata": {},
     "output_type": "execute_result"
    }
   ],
   "source": [
    "isPalindrome(\"\")"
   ]
  },
  {
   "cell_type": "code",
   "execution_count": 140,
   "id": "1a960885-1646-4ce8-be6a-143bf252d5d6",
   "metadata": {},
   "outputs": [],
   "source": [
    "# Version 2\n",
    "def isPalindrome(st):\n",
    "    st = st.lower()\n",
    "    while True:\n",
    "        n = len(st)\n",
    "        if n == 0 or n == 1:\n",
    "            return True\n",
    "        f, *st, l = st #unpack the elemt and find f and l\n",
    "        if f != l:\n",
    "            return False"
   ]
  },
  {
   "cell_type": "code",
   "execution_count": 141,
   "id": "92b43567-9266-43f5-9c03-3a12bd527de3",
   "metadata": {},
   "outputs": [
    {
     "data": {
      "text/plain": [
       "True"
      ]
     },
     "execution_count": 141,
     "metadata": {},
     "output_type": "execute_result"
    }
   ],
   "source": [
    "isPalindrome(\"raceCar\")"
   ]
  },
  {
   "cell_type": "code",
   "execution_count": 144,
   "id": "f89f36cf-d4db-4609-ae80-4e928fcdc39a",
   "metadata": {},
   "outputs": [],
   "source": [
    "# Version 3\n",
    "def isPalindrome(st):\n",
    "    return st.lower() == st.lower()[::-1]"
   ]
  },
  {
   "cell_type": "code",
   "execution_count": 145,
   "id": "8b373b08-7fac-4109-8de5-df06aa627cd3",
   "metadata": {},
   "outputs": [
    {
     "data": {
      "text/plain": [
       "True"
      ]
     },
     "execution_count": 145,
     "metadata": {},
     "output_type": "execute_result"
    }
   ],
   "source": [
    "isPalindrome(\"raceCar\")"
   ]
  },
  {
   "cell_type": "code",
   "execution_count": 149,
   "id": "4d21f623-ad9b-49fa-a4f8-d458c245961e",
   "metadata": {},
   "outputs": [
    {
     "ename": "AttributeError",
     "evalue": "'str' object has no attribute 'reverse'",
     "output_type": "error",
     "traceback": [
      "\u001b[1;31m---------------------------------------------------------------------------\u001b[0m",
      "\u001b[1;31mAttributeError\u001b[0m                            Traceback (most recent call last)",
      "\u001b[1;32mC:\\Users\\BAEKGE~1\\AppData\\Local\\Temp/ipykernel_2032/1377729336.py\u001b[0m in \u001b[0;36m<module>\u001b[1;34m\u001b[0m\n\u001b[1;32m----> 1\u001b[1;33m \u001b[1;34m'raceCar'\u001b[0m\u001b[1;33m.\u001b[0m\u001b[0mreverse\u001b[0m\u001b[1;33m(\u001b[0m\u001b[1;33m)\u001b[0m \u001b[1;31m# reverse is not working int\u001b[0m\u001b[1;33m\u001b[0m\u001b[1;33m\u001b[0m\u001b[0m\n\u001b[0m",
      "\u001b[1;31mAttributeError\u001b[0m: 'str' object has no attribute 'reverse'"
     ]
    }
   ],
   "source": [
    "'raceCar'.reverse() # reverse is not working int"
   ]
  },
  {
   "cell_type": "code",
   "execution_count": null,
   "id": "6be42f30-4688-498c-bdbb-8e15096f3335",
   "metadata": {},
   "outputs": [],
   "source": []
  }
 ],
 "metadata": {
  "kernelspec": {
   "display_name": "Python 3 (ipykernel)",
   "language": "python",
   "name": "python3"
  },
  "language_info": {
   "codemirror_mode": {
    "name": "ipython",
    "version": 3
   },
   "file_extension": ".py",
   "mimetype": "text/x-python",
   "name": "python",
   "nbconvert_exporter": "python",
   "pygments_lexer": "ipython3",
   "version": "3.9.7"
  }
 },
 "nbformat": 4,
 "nbformat_minor": 5
}
