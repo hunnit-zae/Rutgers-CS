{
 "cells": [
  {
   "cell_type": "markdown",
   "id": "d79ad5f5-39a9-41e5-9125-b602011c2d6b",
   "metadata": {},
   "source": [
    "### List Comprehension"
   ]
  },
  {
   "cell_type": "markdown",
   "id": "c3144a31-4798-42df-8607-b3e86fa04af9",
   "metadata": {},
   "source": [
    "## Building lists using general symtax"
   ]
  },
  {
   "cell_type": "code",
   "execution_count": 2,
   "id": "03b89f0d-fe18-418b-a2e2-093607311976",
   "metadata": {},
   "outputs": [
    {
     "data": {
      "text/plain": [
       "[0, 1, 2, 3, 4, 5, 6, 7, 8, 9, 10]"
      ]
     },
     "execution_count": 2,
     "metadata": {},
     "output_type": "execute_result"
    }
   ],
   "source": [
    "num = [ x for x in range(11)]\n",
    "num"
   ]
  },
  {
   "cell_type": "code",
   "execution_count": 4,
   "id": "ca1db93a-c7be-43f4-b8c6-069f823a890d",
   "metadata": {},
   "outputs": [
    {
     "data": {
      "text/plain": [
       "[0, 2, 4, 6, 8, 10, 12, 14, 16, 18, 20]"
      ]
     },
     "execution_count": 4,
     "metadata": {},
     "output_type": "execute_result"
    }
   ],
   "source": [
    "evens = [ x for x in range(21) if x % 2 == 0]\n",
    "evens"
   ]
  },
  {
   "cell_type": "code",
   "execution_count": 5,
   "id": "f48c4df8-6353-4cb4-828e-31c90201acee",
   "metadata": {},
   "outputs": [
    {
     "data": {
      "text/plain": [
       "[(1, 1), (2, 4), (3, 9), (4, 16), (5, 25)]"
      ]
     },
     "execution_count": 5,
     "metadata": {},
     "output_type": "execute_result"
    }
   ],
   "source": [
    "squares = [(x,x*x) for x in range(1,6)]\n",
    "squares"
   ]
  },
  {
   "cell_type": "code",
   "execution_count": 10,
   "id": "a7faaa99-e92e-4c5f-9064-bbc162812ca2",
   "metadata": {},
   "outputs": [
    {
     "data": {
      "text/plain": [
       "['i',\n",
       " 'e',\n",
       " 'o',\n",
       " 'a',\n",
       " 'o',\n",
       " 'u',\n",
       " 'e',\n",
       " 'e',\n",
       " 'a',\n",
       " 'e',\n",
       " 'o',\n",
       " 'u',\n",
       " 'e',\n",
       " 'a',\n",
       " 'I',\n",
       " 'a',\n",
       " 'o',\n",
       " 'u',\n",
       " 'a',\n",
       " 'e',\n",
       " 'a',\n",
       " 'o',\n",
       " 'o',\n",
       " 'a',\n",
       " 'i',\n",
       " 'e',\n",
       " 'i']"
      ]
     },
     "execution_count": 10,
     "metadata": {},
     "output_type": "execute_result"
    }
   ],
   "source": [
    "# extract all vowels from a string\n",
    "txt = 'Friends, Romans, countrymen, lean me your ears; I can to bury Casear, not to praise him'\n",
    "vowel = [v for v in txt if v.lower() in 'aeiou']\n",
    "vowel"
   ]
  },
  {
   "cell_type": "code",
   "execution_count": 13,
   "id": "5bbbd5ee-1003-47eb-abed-08c304f0b353",
   "metadata": {},
   "outputs": [
    {
     "data": {
      "text/plain": [
       "['Friends,',\n",
       " 'Romans,',\n",
       " 'countrymen,',\n",
       " 'lead',\n",
       " 'an',\n",
       " 'me',\n",
       " 'your',\n",
       " 'ears;',\n",
       " 'I',\n",
       " 'can',\n",
       " 'to',\n",
       " 'bury',\n",
       " 'Casear,',\n",
       " 'not',\n",
       " 'to',\n",
       " 'praise',\n",
       " 'him']"
      ]
     },
     "execution_count": 13,
     "metadata": {},
     "output_type": "execute_result"
    }
   ],
   "source": [
    "# extract all vowels from a string, only if they are NOT standalone, list 'I' above\n",
    "# same above\n",
    "txt = 'Friends, Romans, countrymen, lead an me your ears; I can to bury Casear, not to praise him'\n",
    "lst = txt.split() # USEFUL STRING METHOD\n",
    "lst"
   ]
  },
  {
   "cell_type": "code",
   "execution_count": 15,
   "id": "280ac2f3-60e4-4b69-9633-14bdc45492da",
   "metadata": {},
   "outputs": [
    {
     "data": {
      "text/plain": [
       "['i',\n",
       " 'e',\n",
       " 'o',\n",
       " 'a',\n",
       " 'o',\n",
       " 'u',\n",
       " 'e',\n",
       " 'e',\n",
       " 'a',\n",
       " 'a',\n",
       " 'e',\n",
       " 'o',\n",
       " 'u',\n",
       " 'e',\n",
       " 'a',\n",
       " 'a',\n",
       " 'o',\n",
       " 'u',\n",
       " 'a',\n",
       " 'e',\n",
       " 'a',\n",
       " 'o',\n",
       " 'o',\n",
       " 'a',\n",
       " 'i',\n",
       " 'e',\n",
       " 'i']"
      ]
     },
     "execution_count": 15,
     "metadata": {},
     "output_type": "execute_result"
    }
   ],
   "source": [
    "# extract all vowels from a string, only if they are NOT standalone, list 'I' above - Part 2\n",
    "vowels = [ v for word in lst for v in word if len(word) > 1 and v.lower() in 'aeiou']\n",
    "vowels"
   ]
  },
  {
   "cell_type": "code",
   "execution_count": 20,
   "id": "d5733a5c-3b70-456d-bb29-a38e51570360",
   "metadata": {},
   "outputs": [
    {
     "data": {
      "text/plain": [
       "['198:210', '640:250']"
      ]
     },
     "execution_count": 20,
     "metadata": {},
     "output_type": "execute_result"
    }
   ],
   "source": [
    "# extract all 200 level classes from a list of course numbers\n",
    "courses = ['198:111', '198:210', '640:250', '750:313']\n",
    "sub200 = [cl for cl in courses if cl[cl.find(':') + 1] == '2']\n",
    "sub200"
   ]
  },
  {
   "cell_type": "code",
   "execution_count": 23,
   "id": "f0c1108b-09f8-44e6-b519-323c62de0f95",
   "metadata": {},
   "outputs": [
    {
     "data": {
      "text/plain": [
       "['198:111', '198:210', '640:250', '750:313']"
      ]
     },
     "execution_count": 23,
     "metadata": {},
     "output_type": "execute_result"
    }
   ],
   "source": [
    "courses = ['198:111', '198:210', '640:250', '750:313']\n",
    "sub200 = [cl for cl in courses if cl[cl.find(':2')]] # if there is no comparsion the result is all true\n",
    "sub200"
   ]
  },
  {
   "cell_type": "markdown",
   "id": "b680405e-de4a-4336-a62b-93f2475ac12b",
   "metadata": {},
   "source": [
    "#### Above doesn't work because if doesn't do a comparsion, and if 'num' is always true "
   ]
  },
  {
   "cell_type": "code",
   "execution_count": 25,
   "id": "0c608f12-c6f2-412e-9756-e5853108455d",
   "metadata": {},
   "outputs": [
    {
     "data": {
      "text/plain": [
       "[1992, 1996, 2000, 2004, 2008, 2012, 2016]"
      ]
     },
     "execution_count": 25,
     "metadata": {},
     "output_type": "execute_result"
    }
   ],
   "source": [
    "# list of leap years from 1990 to 2020, NOT using list comprehension\n",
    "# this is not comprehension\n",
    "leaps = []\n",
    "for yr in range(1990,2020):\n",
    "    if (yr % 4 == 0 and yr % 100 != 0) or (yr % 400 == 0):\n",
    "        leaps.append(yr)\n",
    "leaps"
   ]
  },
  {
   "cell_type": "code",
   "execution_count": 29,
   "id": "dbe5a1e3-14a9-4fac-8a86-d0a0a4e53816",
   "metadata": {},
   "outputs": [
    {
     "data": {
      "text/plain": [
       "[1992, 1996, 2000, 2004, 2008, 2012, 2016]"
      ]
     },
     "execution_count": 29,
     "metadata": {},
     "output_type": "execute_result"
    }
   ],
   "source": [
    "#using list comprehension\n",
    "leapyrs = [yr for yr in range (1990,2020) if (yr % 4 == 0 and yr % 100 != 0) or (yr % 400 ==0)]\n",
    "leapyrs"
   ]
  },
  {
   "cell_type": "code",
   "execution_count": 30,
   "id": "37a35a5b-352a-45b9-a4cc-6610f458c05f",
   "metadata": {},
   "outputs": [],
   "source": [
    "# given lists of intergers x and y, generate all pairs of values in x and y, except if they are equal\n",
    "# ex) x = [1,2,3], y = [2,4] result = [(1,2), (3,2), (1,4), (3,4), (2,4)]\n",
    "def get_pairs(x,y):\n",
    "    return[(xv,yv) for xv in x for yv in y if xv != yv]"
   ]
  },
  {
   "cell_type": "code",
   "execution_count": 32,
   "id": "4b5298dd-d21a-431e-a52a-244015311f03",
   "metadata": {},
   "outputs": [
    {
     "data": {
      "text/plain": [
       "[(2, 3),\n",
       " (2, 6),\n",
       " (2, 1),\n",
       " (1, 3),\n",
       " (1, 6),\n",
       " (5, 3),\n",
       " (5, 6),\n",
       " (5, 1),\n",
       " (4, 3),\n",
       " (4, 6),\n",
       " (4, 1)]"
      ]
     },
     "execution_count": 32,
     "metadata": {},
     "output_type": "execute_result"
    }
   ],
   "source": [
    "get_pairs([2,1,5,4], [3,6,1])"
   ]
  },
  {
   "cell_type": "code",
   "execution_count": 36,
   "id": "7d8e2776-d190-4080-be5e-615b979f6b8c",
   "metadata": {},
   "outputs": [
    {
     "data": {
      "text/plain": [
       "[(0, 1),\n",
       " (0, 2),\n",
       " (0, 3),\n",
       " (0, 4),\n",
       " (1, 2),\n",
       " (1, 3),\n",
       " (1, 4),\n",
       " (2, 3),\n",
       " (2, 4),\n",
       " (3, 4)]"
      ]
     },
     "execution_count": 36,
     "metadata": {},
     "output_type": "execute_result"
    }
   ],
   "source": [
    "# generate pairs x,y where 0 <= x < 5, and x < y < 5\n",
    "increasing_pairs = [(x,y) for x in range(5) for y in range(x+1,5)]\n",
    "increasing_pairs"
   ]
  },
  {
   "cell_type": "code",
   "execution_count": 38,
   "id": "f03167ac-6faa-4d28-87f3-de89da86a415",
   "metadata": {},
   "outputs": [
    {
     "data": {
      "text/plain": [
       "[(0, 1),\n",
       " (0, 2),\n",
       " (0, 3),\n",
       " (0, 4),\n",
       " (1, 2),\n",
       " (1, 3),\n",
       " (1, 4),\n",
       " (2, 3),\n",
       " (2, 4),\n",
       " (3, 4)]"
      ]
     },
     "execution_count": 38,
     "metadata": {},
     "output_type": "execute_result"
    }
   ],
   "source": [
    "# generate pairs x,y where 0 <= x < 5, and x < y < 5 - version 2 (less efficient than previous version)\n",
    "increasing_pairs = [(x,y) for x in range(5) for y in range(5) if y > x]\n",
    "increasing_pairs"
   ]
  },
  {
   "cell_type": "code",
   "execution_count": 47,
   "id": "b7f09186-fa49-4b77-a83b-11c65b2a8f2d",
   "metadata": {},
   "outputs": [
    {
     "data": {
      "text/plain": [
       "[[1, 2, 3], [1, 2, 3], [1, 2, 3]]"
      ]
     },
     "execution_count": 47,
     "metadata": {},
     "output_type": "execute_result"
    }
   ],
   "source": [
    "#generate list of list\n",
    "#list [[1,2,3], [1,2,3], [1,2,3]]\n",
    "list_of_lists = [[j for j in range (1,4)] for i in range(1,4)] # definition of i is not nessearily\n",
    "list_of_lists"
   ]
  },
  {
   "cell_type": "code",
   "execution_count": 56,
   "id": "f1f5fc94-7d8e-490f-a080-7b4e5ba78484",
   "metadata": {},
   "outputs": [
    {
     "data": {
      "text/plain": [
       "[[1, 2, 3], [4, 5, 6], [7, 8, 9]]"
      ]
     },
     "execution_count": 56,
     "metadata": {},
     "output_type": "execute_result"
    }
   ],
   "source": [
    "#generate the list  [[1,2,3], [4,5,6], [7,8,9]]\n",
    "list_of_lists = [[j+(i-1)*3 for j in range (1,4)] for i in range(1,4)] # definition of i is not nessearily\n",
    "list_of_lists"
   ]
  },
  {
   "cell_type": "code",
   "execution_count": 63,
   "id": "0708eb09-5afd-4d21-b365-df7e2ad862ae",
   "metadata": {},
   "outputs": [
    {
     "data": {
      "text/plain": [
       "[[1], [1, 2], [1, 2, 3]]"
      ]
     },
     "execution_count": 63,
     "metadata": {},
     "output_type": "execute_result"
    }
   ],
   "source": [
    "# lists of varying lengths\n",
    "varying_lengths = [[j for j in range(1,i)] for i in range(2,5)]\n",
    "varying_lengths"
   ]
  },
  {
   "cell_type": "markdown",
   "id": "19541a71-70b7-4049-8d53-4ae5d3c85645",
   "metadata": {},
   "source": [
    "**Sorting**"
   ]
  },
  {
   "cell_type": "code",
   "execution_count": 66,
   "id": "1ef34f6a-4dc7-442f-8ac3-3584eae4ab0f",
   "metadata": {},
   "outputs": [
    {
     "data": {
      "text/plain": [
       "[1, 2, 2, 3, 3, 4, 5, 6]"
      ]
     },
     "execution_count": 66,
     "metadata": {},
     "output_type": "execute_result"
    }
   ],
   "source": [
    "lst1 = [3,2,4,1,5,6,2,3]\n",
    "lst1.sort()\n",
    "lst1"
   ]
  },
  {
   "cell_type": "code",
   "execution_count": 71,
   "id": "05d88656-eb50-407a-9d79-80386c0845d6",
   "metadata": {},
   "outputs": [
    {
     "data": {
      "text/plain": [
       "[6, 5, 4, 3, 3, 2, 2, 1]"
      ]
     },
     "execution_count": 71,
     "metadata": {},
     "output_type": "execute_result"
    }
   ],
   "source": [
    "lst1.sort(reverse = True)\n",
    "lst1"
   ]
  },
  {
   "cell_type": "code",
   "execution_count": 72,
   "id": "c2efe8f8-66a8-4447-95d2-2d48386dae93",
   "metadata": {},
   "outputs": [
    {
     "data": {
      "text/plain": [
       "[1, 1, 2, 2, 3, 3, -3, 4, -6, -9]"
      ]
     },
     "execution_count": 72,
     "metadata": {},
     "output_type": "execute_result"
    }
   ],
   "source": [
    "lst2 = [3,4,2,1,3,-3,-6,-9,1,2]\n",
    "lst2.sort(key=abs) # key says how to use each list item when sorting, here take absolute value\n",
    "lst2"
   ]
  },
  {
   "cell_type": "code",
   "execution_count": 73,
   "id": "3005d929-4beb-473e-a83b-bb7e9f2d50f1",
   "metadata": {},
   "outputs": [
    {
     "name": "stdout",
     "output_type": "stream",
     "text": [
      "[3, 4, 2, 1, 3, -3, -6, -9, 1, 2]\n",
      "[-9, -6, 4, 3, 3, -3, 2, 2, 1, 1]\n"
     ]
    }
   ],
   "source": [
    "# reverse sort list, don't modify it so get sorted list as a new result\n",
    "lst2 = [3,4,2,1,3,-3,-6,-9,1,2]\n",
    "lst2sort = sorted(lst2, key = abs, reverse = True)\n",
    "print(lst2)\n",
    "print(lst2sort)"
   ]
  },
  {
   "cell_type": "markdown",
   "id": "6440c3e8-708c-4998-bf34-37b37d1092c2",
   "metadata": {},
   "source": [
    "**Lambda**"
   ]
  },
  {
   "cell_type": "code",
   "execution_count": 74,
   "id": "6724d380-9c93-4ef7-a3d0-19c236adc885",
   "metadata": {},
   "outputs": [
    {
     "data": {
      "text/plain": [
       "5"
      ]
     },
     "execution_count": 74,
     "metadata": {},
     "output_type": "execute_result"
    }
   ],
   "source": [
    "# two params in , result out - no explicit return\n",
    "lam = lambda a,b: a + b\n",
    "lam(2,3)"
   ]
  },
  {
   "cell_type": "code",
   "execution_count": 78,
   "id": "eadb45c1-38d6-4140-954f-69f8bdbcc246",
   "metadata": {},
   "outputs": [
    {
     "data": {
      "text/plain": [
       "5"
      ]
     },
     "execution_count": 78,
     "metadata": {},
     "output_type": "execute_result"
    }
   ],
   "source": [
    "# cna rool up lambda deifinition and call in one statment\n",
    "(lambda a,b: a+b)(2,3)"
   ]
  },
  {
   "cell_type": "code",
   "execution_count": 81,
   "id": "02be7e63-11e9-4afc-8ec6-ffb5b2667e93",
   "metadata": {},
   "outputs": [
    {
     "data": {
      "text/plain": [
       "1.5"
      ]
     },
     "execution_count": 81,
     "metadata": {},
     "output_type": "execute_result"
    }
   ],
   "source": [
    "lam1 = lambda tup: tup[0]/tup[1]\n",
    "lam1((3,2))"
   ]
  },
  {
   "cell_type": "code",
   "execution_count": 82,
   "id": "a7a456f7-02c5-427b-ac66-c05c46bffee6",
   "metadata": {},
   "outputs": [
    {
     "name": "stdout",
     "output_type": "stream",
     "text": [
      "7\n",
      "12\n"
     ]
    }
   ],
   "source": [
    "lam2 = lambda x,y,z = 0: x+y+z\n",
    "print(lam2(3,4))\n",
    "print(lam2(3,4,5))"
   ]
  },
  {
   "cell_type": "code",
   "execution_count": 84,
   "id": "269cd0db-bafb-4dfe-b5b4-5b0b4f06c6fd",
   "metadata": {},
   "outputs": [
    {
     "data": {
      "text/plain": [
       "[1, 1, 2, 2, 3, 3, -3, 4, -6, -9]"
      ]
     },
     "execution_count": 84,
     "metadata": {},
     "output_type": "execute_result"
    }
   ],
   "source": [
    "lst2 = [3,4,2,1,3,-3,-6,-9,1,2] # lambda is usually sorting\n",
    "lst2.sort(key=lambda x : abs(x))\n",
    "lst2"
   ]
  },
  {
   "cell_type": "code",
   "execution_count": 85,
   "id": "d5bde5e2-31e7-4d7f-b241-8846652e3e84",
   "metadata": {},
   "outputs": [
    {
     "data": {
      "text/plain": [
       "['cs210', 'econ103', 'math250', 'phy313']"
      ]
     },
     "execution_count": 85,
     "metadata": {},
     "output_type": "execute_result"
    }
   ],
   "source": [
    "courses = ['math250', 'econ103', 'cs210', 'phy313'] #sort by alphabet\n",
    "sorted(courses)"
   ]
  },
  {
   "cell_type": "code",
   "execution_count": 86,
   "id": "6c973e0a-bb5d-4eb8-81cc-5811f5b44b18",
   "metadata": {},
   "outputs": [
    {
     "data": {
      "text/plain": [
       "['econ103', 'cs210', 'math250', 'phy313']"
      ]
     },
     "execution_count": 86,
     "metadata": {},
     "output_type": "execute_result"
    }
   ],
   "source": [
    "sorted(courses,key=lambda x: x[-3:])"
   ]
  },
  {
   "cell_type": "code",
   "execution_count": null,
   "id": "04c694b4-ee2b-4cce-8d6b-b00f8dd085bc",
   "metadata": {},
   "outputs": [],
   "source": []
  }
 ],
 "metadata": {
  "kernelspec": {
   "display_name": "Python 3 (ipykernel)",
   "language": "python",
   "name": "python3"
  },
  "language_info": {
   "codemirror_mode": {
    "name": "ipython",
    "version": 3
   },
   "file_extension": ".py",
   "mimetype": "text/x-python",
   "name": "python",
   "nbconvert_exporter": "python",
   "pygments_lexer": "ipython3",
   "version": "3.9.7"
  }
 },
 "nbformat": 4,
 "nbformat_minor": 5
}
