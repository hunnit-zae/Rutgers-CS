{
 "cells": [
  {
   "cell_type": "code",
   "execution_count": 2,
   "id": "2cd712fe-ab46-4e9c-8486-73a09f498e5c",
   "metadata": {},
   "outputs": [],
   "source": [
    "import csv\n",
    "import math as mt\n",
    "import re"
   ]
  },
  {
   "cell_type": "code",
   "execution_count": null,
   "id": "bafdd969-dc74-420b-89d5-9120a14945a4",
   "metadata": {},
   "outputs": [],
   "source": [
    "def preprocessing as pp:\n",
    "    for i in range:\n",
    "        "
   ]
  }
 ],
 "metadata": {
  "kernelspec": {
   "display_name": "Python 3 (ipykernel)",
   "language": "python",
   "name": "python3"
  },
  "language_info": {
   "codemirror_mode": {
    "name": "ipython",
    "version": 3
   },
   "file_extension": ".py",
   "mimetype": "text/x-python",
   "name": "python",
   "nbconvert_exporter": "python",
   "pygments_lexer": "ipython3",
   "version": "3.9.7"
  }
 },
 "nbformat": 4,
 "nbformat_minor": 5
}
