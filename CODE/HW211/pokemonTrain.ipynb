{
 "cells": [
  {
   "cell_type": "code",
   "execution_count": 2,
   "id": "8aff163e-8b31-48c8-8f5c-ab0190efb3c4",
   "metadata": {},
   "outputs": [],
   "source": [
    "import csv"
   ]
  },
  {
   "cell_type": "code",
   "execution_count": 5,
   "id": "08ce9bd3-2c9e-43a2-aa58-6da72d299370",
   "metadata": {},
   "outputs": [],
   "source": [
    "with open('pokemonTrain.csv') as pokemon:\n",
    "    reader = csv.reader(pokemon)"
   ]
  },
  {
   "cell_type": "code",
   "execution_count": null,
   "id": "a56bfd8d-1047-469a-99bc-9af912ea8f18",
   "metadata": {},
   "outputs": [],
   "source": []
  }
 ],
 "metadata": {
  "kernelspec": {
   "display_name": "Python 3 (ipykernel)",
   "language": "python",
   "name": "python3"
  },
  "language_info": {
   "codemirror_mode": {
    "name": "ipython",
    "version": 3
   },
   "file_extension": ".py",
   "mimetype": "text/x-python",
   "name": "python",
   "nbconvert_exporter": "python",
   "pygments_lexer": "ipython3",
   "version": "3.9.7"
  }
 },
 "nbformat": 4,
 "nbformat_minor": 5
}
