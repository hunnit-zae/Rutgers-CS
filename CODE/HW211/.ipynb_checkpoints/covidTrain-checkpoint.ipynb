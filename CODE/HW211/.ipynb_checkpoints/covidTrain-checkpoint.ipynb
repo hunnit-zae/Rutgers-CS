{
 "cells": [
  {
   "cell_type": "code",
   "execution_count": 8,
   "id": "c36a8681-939c-417c-9c7f-bfcadb1dbb45",
   "metadata": {},
   "outputs": [],
   "source": [
    "import csv"
   ]
  },
  {
   "cell_type": "code",
   "execution_count": null,
   "id": "eb07c6df-9644-4339-a796-b4524eae6ef1",
   "metadata": {},
   "outputs": [],
   "source": [
    "f = open('covidTrain.csv', 'r')\n",
    "rdr = csv.reader(f)\n",
    "for line in rdr:\n",
    "    print(line)\n",
    "f.close()"
   ]
  },
  {
   "cell_type": "code",
   "execution_count": 30,
   "id": "0b5d9f67-a538-4cc8-b361-f7736fd72b40",
   "metadata": {},
   "outputs": [
    {
     "name": "stdout",
     "output_type": "stream",
     "text": [
      "['ID', 'age', 'sex', 'city', 'province', 'country', 'latitude', 'longitude', 'date_onset_symptoms', 'date_admission_hospital', 'date_confirmation', 'symptoms']\n",
      "ID,age,sex,city,province,country,latitude,longitude,date_onset_symptoms,date_admission_hospital,date_confirmation,symptoms\n"
     ]
    }
   ],
   "source": [
    "rdr = csv.DictReader(open('covidTrain.csv'))\n",
    "print(rdr.fieldnames)\n",
    "print(','.join(rdr.fieldnames))\n",
    "    "
   ]
  },
  {
   "cell_type": "code",
   "execution_count": 43,
   "id": "a2928430-b43e-4a0e-8105-e658c878a594",
   "metadata": {},
   "outputs": [
    {
     "name": "stdout",
     "output_type": "stream",
     "text": [
      "40-49\n",
      "60-69\n",
      "60-69\n",
      "60-69\n",
      "60-60\n",
      "60-69\n",
      "0-10\n",
      "0-10\n",
      "30-39\n",
      "70-79\n"
     ]
    }
   ],
   "source": [
    "with open('covidTrain.csv') as covidTrain:\n",
    "    reader = csv.reader(covidTrain)\n",
    "    next(reader)                          \n",
    "    \n",
    "    for num,row in enumerate(reader):\n",
    "        if len(row[1]) > 2:\n",
    "            print(row[1]) "
   ]
  },
  {
   "cell_type": "code",
   "execution_count": null,
   "id": "cefe19df-da7c-4d63-98f7-65a2cde62f71",
   "metadata": {},
   "outputs": [],
   "source": []
  }
 ],
 "metadata": {
  "kernelspec": {
   "display_name": "Python 3 (ipykernel)",
   "language": "python",
   "name": "python3"
  },
  "language_info": {
   "codemirror_mode": {
    "name": "ipython",
    "version": 3
   },
   "file_extension": ".py",
   "mimetype": "text/x-python",
   "name": "python",
   "nbconvert_exporter": "python",
   "pygments_lexer": "ipython3",
   "version": "3.9.7"
  }
 },
 "nbformat": 4,
 "nbformat_minor": 5
}
