{
 "cells": [
  {
   "cell_type": "code",
   "execution_count": 1,
   "id": "79053b0c-5cac-410a-b952-b5b2a09e3713",
   "metadata": {},
   "outputs": [],
   "source": [
    "import mysql.connector"
   ]
  },
  {
   "cell_type": "code",
   "execution_count": 5,
   "id": "f889d00c-79ef-4799-9c68-31ab72086d21",
   "metadata": {},
   "outputs": [
    {
     "ename": "SyntaxError",
     "evalue": "invalid syntax (Temp/ipykernel_24556/2507412943.py, line 3)",
     "output_type": "error",
     "traceback": [
      "\u001b[1;36m  File \u001b[1;32m\"C:\\Users\\BAEKGE~1\\AppData\\Local\\Temp/ipykernel_24556/2507412943.py\"\u001b[1;36m, line \u001b[1;32m3\u001b[0m\n\u001b[1;33m    user='baek'\u001b[0m\n\u001b[1;37m    ^\u001b[0m\n\u001b[1;31mSyntaxError\u001b[0m\u001b[1;31m:\u001b[0m invalid syntax\n"
     ]
    }
   ],
   "source": [
    "mydb = mysql.conntector.connect(\n",
    "    host='localhost'\n",
    "    user='baek'\n",
    "    passwd='baek'\n",
    "    database='college'\n",
    ")"
   ]
  },
  {
   "cell_type": "code",
   "execution_count": null,
   "id": "c02d368b-578c-4388-895e-a5fde50161e7",
   "metadata": {},
   "outputs": [],
   "source": []
  }
 ],
 "metadata": {
  "kernelspec": {
   "display_name": "Python 3 (ipykernel)",
   "language": "python",
   "name": "python3"
  },
  "language_info": {
   "codemirror_mode": {
    "name": "ipython",
    "version": 3
   },
   "file_extension": ".py",
   "mimetype": "text/x-python",
   "name": "python",
   "nbconvert_exporter": "python",
   "pygments_lexer": "ipython3",
   "version": "3.9.7"
  }
 },
 "nbformat": 4,
 "nbformat_minor": 5
}
