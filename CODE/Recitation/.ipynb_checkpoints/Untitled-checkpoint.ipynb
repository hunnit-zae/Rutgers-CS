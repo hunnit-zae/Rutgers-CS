{
 "cells": [
  {
   "cell_type": "code",
   "execution_count": 75,
   "id": "c9fa75b1-f92e-4712-bf41-54f45cd96c75",
   "metadata": {},
   "outputs": [],
   "source": [
    "def filterTemps(filename, LowerBoundtemp = 50, UpperBoundtemp = 60):\n",
    "\n",
    "    month = {\n",
    "        'Jan':'01', 'Feb':'02','Mar':'03', \n",
    "        'Apr':'04', 'May':'05','Jun':'06',\n",
    "        'Jul':'07', 'Aug':'08','Sep':'09', \n",
    "        'Oct':'10', 'Nov':'11','Dec':'12'}\n",
    "    output = [] \n",
    "    \n",
    "    with open(filename,'r') as f:\n",
    "        for lines in f.readlines():\n",
    "            dates, temp = lines.split(':')   \n",
    "            temp = int(temp)\n",
    "           \n",
    "            if UpperBoundtemp >= temp >= LowerBoundtemp:\n",
    "                \n",
    "                if not dates[0].isdigit():\n",
    "                    mm,dd = dates.split()\n",
    "                    mm = month[mm]               \n",
    "                else:\n",
    "                    mm,dd = dates.split(',')\n",
    "                    \n",
    "                mm = mm.strip()\n",
    "                dd = dd.strip()\n",
    "                output.append((mm + ' / ' + dd, temp))\n",
    "                \n",
    "        return output "
   ]
  },
  {
   "cell_type": "code",
   "execution_count": 76,
   "id": "a647894e-56d9-450a-b857-189db736545d",
   "metadata": {},
   "outputs": [
    {
     "data": {
      "text/plain": [
       "[('04 / 5', 57)]"
      ]
     },
     "execution_count": 76,
     "metadata": {},
     "output_type": "execute_result"
    }
   ],
   "source": [
    "filterTemps('1.txt')"
   ]
  },
  {
   "cell_type": "code",
   "execution_count": 8,
   "id": "6f03b16b-7839-44b2-8dbd-c6d0d6755756",
   "metadata": {},
   "outputs": [
    {
     "ename": "IndentationError",
     "evalue": "unexpected indent (Temp/ipykernel_28340/3837761463.py, line 3)",
     "output_type": "error",
     "traceback": [
      "\u001b[1;36m  File \u001b[1;32m\"C:\\Users\\BAEKGE~1\\AppData\\Local\\Temp/ipykernel_28340/3837761463.py\"\u001b[1;36m, line \u001b[1;32m3\u001b[0m\n\u001b[1;33m    [city for city, temp in city_temp if temp > 70]\u001b[0m\n\u001b[1;37m    ^\u001b[0m\n\u001b[1;31mIndentationError\u001b[0m\u001b[1;31m:\u001b[0m unexpected indent\n"
     ]
    }
   ],
   "source": [
    "#3.2\n",
    "3.2\n",
    " [city for city, temp in city_temp if temp > 70]\n",
    "\n",
    "Explanation:\n",
    "-------------\n",
    "iterate through city, temp of the list\n",
    "if temp is greater than 70, then save the city value in list\n",
    "Answer: [city for city, temp in city_temp if temp > 70]\n"
   ]
  },
  {
   "cell_type": "code",
   "execution_count": 18,
   "id": "445c5eb9-0066-451d-afb0-89c444816abe",
   "metadata": {},
   "outputs": [
    {
     "name": "stdout",
     "output_type": "stream",
     "text": [
      "['FR', 'FC', 'SR', 'SC', 'JR', 'JC', 'ER', 'EC']\n"
     ]
    }
   ],
   "source": [
    "3.3\n",
    "output = []\n",
    "year = {'Freshman':'F', 'Sophomore':'S', 'Junior':'J', 'Senior':'E'}\n",
    "live = {'Resident':'R', 'Commuter':'C'}\n",
    "\n",
    "for i in year:\n",
    "    for j in live:\n",
    "            output.append(year[i]+live[j])\n",
    "\n",
    "print(output)\n"
   ]
  },
  {
   "cell_type": "code",
   "execution_count": 19,
   "id": "3a8ab2c4-3fac-4c11-a1fd-6dff19278d72",
   "metadata": {},
   "outputs": [],
   "source": [
    "#3.1 \n",
    "\n",
    "MultiplesOfFour = [i for i in range(1, 101) if i % 4 == 0]"
   ]
  },
  {
   "cell_type": "code",
   "execution_count": null,
   "id": "521ec87c-e8b2-49b6-9b1e-43684b5b0976",
   "metadata": {},
   "outputs": [],
   "source": [
    "#3.3\n",
    "[city for city, temperature in city_temp if temperature > 70]\n",
    "\n",
    "[(city,temperature) for (city,temperature) in city_temp if temperature > 70]"
   ]
  }
 ],
 "metadata": {
  "kernelspec": {
   "display_name": "Python 3 (ipykernel)",
   "language": "python",
   "name": "python3"
  },
  "language_info": {
   "codemirror_mode": {
    "name": "ipython",
    "version": 3
   },
   "file_extension": ".py",
   "mimetype": "text/x-python",
   "name": "python",
   "nbconvert_exporter": "python",
   "pygments_lexer": "ipython3",
   "version": "3.9.7"
  }
 },
 "nbformat": 4,
 "nbformat_minor": 5
}
