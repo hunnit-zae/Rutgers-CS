{
 "cells": [
  {
   "cell_type": "code",
   "execution_count": 87,
   "id": "c9fa75b1-f92e-4712-bf41-54f45cd96c75",
   "metadata": {},
   "outputs": [],
   "source": [
    "def filterTemps(filename, LowerBoundtemp = 30, UpperBoundtemp = 80):\n",
    "\n",
    "    month = {\n",
    "        'Jan':'01', 'Feb':'02','Mar':'03', \n",
    "        'Apr':'04', 'May':'05','Jun':'06',\n",
    "        'Jul':'07', 'Aug':'08','Sep':'09', \n",
    "        'Oct':'10', 'Nov':'11','Dec':'12'}\n",
    "    output = [] \n",
    "    \n",
    "    with open(filename,'r') as f:\n",
    "        for lines in f.readlines():\n",
    "            dates, temp = lines.split(':')   \n",
    "            temp = int(temp)\n",
    "           \n",
    "            if UpperBoundtemp >= temp >= LowerBoundtemp:\n",
    "                \n",
    "                if not dates[0].isdigit():\n",
    "                    mm,dd = dates.split()\n",
    "                    mm = month[mm]\n",
    "                else:\n",
    "                    mm,dd = dates.split(',')\n",
    "                    \n",
    "                mm = mm.strip()\n",
    "                dd = dd.strip()\n",
    "                output.append((mm + ' / ' + dd, temp))\n",
    "                \n",
    "        return output "
   ]
  },
  {
   "cell_type": "code",
   "execution_count": 88,
   "id": "a647894e-56d9-450a-b857-189db736545d",
   "metadata": {},
   "outputs": [
    {
     "data": {
      "text/plain": [
       "[('03 / 15', 46),\n",
       " ('01 / 2', 32),\n",
       " ('09 / 09', 79),\n",
       " ('08 / 16', 46),\n",
       " ('04 / 5', 57)]"
      ]
     },
     "execution_count": 88,
     "metadata": {},
     "output_type": "execute_result"
    }
   ],
   "source": [
    "filterTemps('1.txt')"
   ]
  },
  {
   "cell_type": "code",
   "execution_count": 8,
   "id": "6f03b16b-7839-44b2-8dbd-c6d0d6755756",
   "metadata": {},
   "outputs": [
    {
     "ename": "IndentationError",
     "evalue": "unexpected indent (Temp/ipykernel_28340/3837761463.py, line 3)",
     "output_type": "error",
     "traceback": [
      "\u001b[1;36m  File \u001b[1;32m\"C:\\Users\\BAEKGE~1\\AppData\\Local\\Temp/ipykernel_28340/3837761463.py\"\u001b[1;36m, line \u001b[1;32m3\u001b[0m\n\u001b[1;33m    [city for city, temp in city_temp if temp > 70]\u001b[0m\n\u001b[1;37m    ^\u001b[0m\n\u001b[1;31mIndentationError\u001b[0m\u001b[1;31m:\u001b[0m unexpected indent\n"
     ]
    }
   ],
   "source": [
    "#3.2\n",
    "3.2\n",
    " [city for city, temp in city_temp if temp > 70]\n",
    "\n",
    "Explanation:\n",
    "-------------\n",
    "iterate through city, temp of the list\n",
    "if temp is greater than 70, then save the city value in list\n",
    "Answer: [city for city, temp in city_temp if temp > 70]\n"
   ]
  },
  {
   "cell_type": "code",
   "execution_count": 18,
   "id": "445c5eb9-0066-451d-afb0-89c444816abe",
   "metadata": {},
   "outputs": [
    {
     "name": "stdout",
     "output_type": "stream",
     "text": [
      "['FR', 'FC', 'SR', 'SC', 'JR', 'JC', 'ER', 'EC']\n"
     ]
    }
   ],
   "source": [
    "3.3\n",
    "output = []\n",
    "year = {'Freshman':'F', 'Sophomore':'S', 'Junior':'J', 'Senior':'E'}\n",
    "live = {'Resident':'R', 'Commuter':'C'}\n",
    "\n",
    "for i in year:\n",
    "    for j in live:\n",
    "            output.append(year[i]+live[j])\n",
    "\n",
    "print(output)\n"
   ]
  },
  {
   "cell_type": "code",
   "execution_count": 19,
   "id": "3a8ab2c4-3fac-4c11-a1fd-6dff19278d72",
   "metadata": {},
   "outputs": [],
   "source": [
    "#3.1 \n",
    "\n",
    "MultiplesOfFour = [i for i in range(1, 101) if i % 4 == 0]"
   ]
  },
  {
   "cell_type": "code",
   "execution_count": 89,
   "id": "521ec87c-e8b2-49b6-9b1e-43684b5b0976",
   "metadata": {},
   "outputs": [
    {
     "ename": "NameError",
     "evalue": "name 'city_temp' is not defined",
     "output_type": "error",
     "traceback": [
      "\u001b[1;31m---------------------------------------------------------------------------\u001b[0m",
      "\u001b[1;31mNameError\u001b[0m                                 Traceback (most recent call last)",
      "\u001b[1;32mC:\\Users\\BAEKGE~1\\AppData\\Local\\Temp/ipykernel_28340/130569478.py\u001b[0m in \u001b[0;36m<module>\u001b[1;34m\u001b[0m\n\u001b[0;32m      1\u001b[0m \u001b[1;31m#3.3\u001b[0m\u001b[1;33m\u001b[0m\u001b[1;33m\u001b[0m\u001b[1;33m\u001b[0m\u001b[0m\n\u001b[1;32m----> 2\u001b[1;33m \u001b[1;33m[\u001b[0m\u001b[0mcity\u001b[0m \u001b[1;32mfor\u001b[0m \u001b[0mcity\u001b[0m\u001b[1;33m,\u001b[0m \u001b[0mtemperature\u001b[0m \u001b[1;32min\u001b[0m \u001b[0mcity_temp\u001b[0m \u001b[1;32mif\u001b[0m \u001b[0mtemperature\u001b[0m \u001b[1;33m>\u001b[0m \u001b[1;36m70\u001b[0m\u001b[1;33m]\u001b[0m\u001b[1;33m\u001b[0m\u001b[1;33m\u001b[0m\u001b[0m\n\u001b[0m\u001b[0;32m      3\u001b[0m \u001b[1;33m\u001b[0m\u001b[0m\n\u001b[0;32m      4\u001b[0m \u001b[1;33m[\u001b[0m\u001b[1;33m(\u001b[0m\u001b[0mcity\u001b[0m\u001b[1;33m,\u001b[0m\u001b[0mtemperature\u001b[0m\u001b[1;33m)\u001b[0m \u001b[1;32mfor\u001b[0m \u001b[1;33m(\u001b[0m\u001b[0mcity\u001b[0m\u001b[1;33m,\u001b[0m\u001b[0mtemperature\u001b[0m\u001b[1;33m)\u001b[0m \u001b[1;32min\u001b[0m \u001b[0mcity_temp\u001b[0m \u001b[1;32mif\u001b[0m \u001b[0mtemperature\u001b[0m \u001b[1;33m>\u001b[0m \u001b[1;36m70\u001b[0m\u001b[1;33m]\u001b[0m\u001b[1;33m\u001b[0m\u001b[1;33m\u001b[0m\u001b[0m\n",
      "\u001b[1;31mNameError\u001b[0m: name 'city_temp' is not defined"
     ]
    }
   ],
   "source": [
    "#3.3\n",
    "[city for city, temperature in city_temp if temperature > 70]\n",
    "\n",
    "[(city,temperature) for (city,temperature) in city_temp if temperature > 70]"
   ]
  },
  {
   "cell_type": "code",
   "execution_count": 90,
   "id": "74b4e12d-0ad5-495f-80ce-9edafd49db38",
   "metadata": {},
   "outputs": [],
   "source": [
    "def wordcount(filename):\n",
    "    try:\n",
    "        d = {}\n",
    "        f = open(filename)\n",
    "        for line in f:\n",
    "            for word in line.strip().split():\n",
    "                word = word.strip('.,!?')\n",
    "                modified = ''\n",
    "                for ch in word:\n",
    "                    if ch.isalpha():\n",
    "                        modified += ch\n",
    "                if len(word) >= 4 and modified == word:\n",
    "                    if word not in d:\n",
    "                        d[word] = 0\n",
    "                    d[word] += 1\n",
    "        f.close()\n",
    "        return list(d.items())\n",
    "    except:\n",
    "        pass"
   ]
  },
  {
   "cell_type": "code",
   "execution_count": 93,
   "id": "0a756aac-806c-4c00-a9d8-3ef7f650ea6a",
   "metadata": {},
   "outputs": [
    {
     "data": {
      "text/plain": [
       "[('this', 2),\n",
       " ('movie', 2),\n",
       " ('absolutely', 1),\n",
       " ('amazing', 1),\n",
       " ('crazy', 1),\n",
       " ('what', 1),\n",
       " ('funniest', 1),\n",
       " ('year', 1)]"
      ]
     },
     "execution_count": 93,
     "metadata": {},
     "output_type": "execute_result"
    }
   ],
   "source": [
    "from collections import Counter\n",
    "\n",
    "word_counts = Counter()\n",
    "for line in open('metamorphosis.txt'):\n",
    "    tokens = line.split()\n",
    "    for token in tokens:\n",
    "            if len(token.lower().strip(',.?!')) > 3 and token.find(\"\\'\") == -1:\n",
    "                word_counts.update([token.lower().strip(',.?!')])\n",
    "        \n",
    "output = [(w,c) for w,c in word_counts.most_common() if len(w) > 3] \n",
    "output"
   ]
  },
  {
   "cell_type": "code",
   "execution_count": null,
   "id": "5b42fc96-652d-4861-b7a2-fecd8ec0c36a",
   "metadata": {},
   "outputs": [],
   "source": [
    "from collections import Counter\n",
    "word_counts = Counter()\n",
    "def wordcount(filename):\n",
    "    for line in open(filename):\n",
    "        tokens = line.split()  # separate into non-whitespace sequences\n",
    "        for token in tokens:\n",
    "            token = token.lower()\n",
    "            if len(token.lower().strip(',.?!')) > 3 and token.find(\"\\'\") == -1:\n",
    "                word_counts.update([token.lower().strip(',.?!')])\n",
    "    return word_counts"
   ]
  }
 ],
 "metadata": {
  "kernelspec": {
   "display_name": "Python 3 (ipykernel)",
   "language": "python",
   "name": "python3"
  },
  "language_info": {
   "codemirror_mode": {
    "name": "ipython",
    "version": 3
   },
   "file_extension": ".py",
   "mimetype": "text/x-python",
   "name": "python",
   "nbconvert_exporter": "python",
   "pygments_lexer": "ipython3",
   "version": "3.9.7"
  }
 },
 "nbformat": 4,
 "nbformat_minor": 5
}
