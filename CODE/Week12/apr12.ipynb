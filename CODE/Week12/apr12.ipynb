{
 "cells": [
  {
   "cell_type": "code",
   "execution_count": 3,
   "id": "b548cb9f-a4d3-4f2e-bf30-0be815926ae4",
   "metadata": {},
   "outputs": [
    {
     "ename": "NameError",
     "evalue": "name 'nobels' is not defined",
     "output_type": "error",
     "traceback": [
      "\u001b[1;31m---------------------------------------------------------------------------\u001b[0m",
      "\u001b[1;31mNameError\u001b[0m                                 Traceback (most recent call last)",
      "\u001b[1;32mC:\\Users\\BAEKGE~1\\AppData\\Local\\Temp/ipykernel_24540/4212185782.py\u001b[0m in \u001b[0;36m<module>\u001b[1;34m\u001b[0m\n\u001b[0;32m      6\u001b[0m \u001b[0mno_laureates\u001b[0m \u001b[1;33m=\u001b[0m \u001b[1;33m[\u001b[0m\u001b[1;33m]\u001b[0m\u001b[1;33m\u001b[0m\u001b[1;33m\u001b[0m\u001b[0m\n\u001b[0;32m      7\u001b[0m \u001b[1;33m\u001b[0m\u001b[0m\n\u001b[1;32m----> 8\u001b[1;33m \u001b[1;32mfor\u001b[0m \u001b[0mprize\u001b[0m \u001b[1;32min\u001b[0m \u001b[0mnobels\u001b[0m\u001b[1;33m[\u001b[0m\u001b[1;34m'prizes'\u001b[0m\u001b[1;33m]\u001b[0m\u001b[1;33m:\u001b[0m\u001b[1;33m\u001b[0m\u001b[1;33m\u001b[0m\u001b[0m\n\u001b[0m\u001b[0;32m      9\u001b[0m     \u001b[1;32mif\u001b[0m \u001b[1;32mnot\u001b[0m \u001b[1;34m'laureates'\u001b[0m \u001b[1;32min\u001b[0m \u001b[0mprize\u001b[0m\u001b[1;33m:\u001b[0m\u001b[1;33m\u001b[0m\u001b[1;33m\u001b[0m\u001b[0m\n\u001b[0;32m     10\u001b[0m         \u001b[0mno_laureates\u001b[0m\u001b[1;33m.\u001b[0m\u001b[0mappend\u001b[0m\u001b[1;33m(\u001b[0m\u001b[0mprize\u001b[0m\u001b[1;33m[\u001b[0m\u001b[1;34m'year'\u001b[0m\u001b[1;33m]\u001b[0m\u001b[1;33m)\u001b[0m\u001b[1;33m\u001b[0m\u001b[1;33m\u001b[0m\u001b[0m\n",
      "\u001b[1;31mNameError\u001b[0m: name 'nobels' is not defined"
     ]
    }
   ],
   "source": [
    "# max lengths of motivation, first name, and last name\n",
    "category_maxlen=0\n",
    "motiv_maxlen=0\n",
    "fname_maxlen=0\n",
    "lname_maxlen=0\n",
    "no_laureates = []\n",
    "\n",
    "for prize in nobels['prizes']:\n",
    "    if not 'laureates' in prize:\n",
    "        no_laureates.append(prize['year'])\n",
    "        continue\n",
    "        \n",
    "    cat = prize['category']\n",
    "    category_maxlen = max(category_maxlen, len(cat))\n",
    "\n",
    "    for winner in prize['laureates']:\n",
    "        motiv = winner.get('motivation').strip('\"')\n",
    "        motiv_maxlen = max(motiv_maxlen, len(motiv))\n",
    "        fname = winner.get('firstname')\n",
    "        fname_maxlen = max(fname_maxlen, len(fname))\n",
    "        lname = winner.get('surname','')\n",
    "        lname_maxlen = max(lname_maxlen, len(lname))\n",
    "\n",
    "print(f'No laureates in the years: {no_laureates}\\n')\n",
    "print('Max lengths')\n",
    "print(f'Category: {category_maxlen}')\n",
    "print(f'Motivation: {motiv_maxlen}')\n",
    "print(f'First name: {fname_maxlen}')\n",
    "print(f'Last name: {lname_maxlen}')"
   ]
  },
  {
   "cell_type": "code",
   "execution_count": null,
   "id": "6a5b560b-530b-4f67-8758-1909a544735d",
   "metadata": {},
   "outputs": [],
   "source": []
  }
 ],
 "metadata": {
  "kernelspec": {
   "display_name": "Python 3 (ipykernel)",
   "language": "python",
   "name": "python3"
  },
  "language_info": {
   "codemirror_mode": {
    "name": "ipython",
    "version": 3
   },
   "file_extension": ".py",
   "mimetype": "text/x-python",
   "name": "python",
   "nbconvert_exporter": "python",
   "pygments_lexer": "ipython3",
   "version": "3.9.7"
  }
 },
 "nbformat": 4,
 "nbformat_minor": 5
}
