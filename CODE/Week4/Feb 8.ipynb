{
 "cells": [
  {
   "cell_type": "markdown",
   "id": "363e7249-889d-452a-b277-0e46fa0cb1aa",
   "metadata": {},
   "source": [
    "**Dictionary**"
   ]
  },
  {
   "cell_type": "code",
   "execution_count": 13,
   "id": "fa4490f2-4d0c-46b7-bd38-05caf72eda6a",
   "metadata": {},
   "outputs": [
    {
     "data": {
      "text/plain": [
       "{'James': 88, 'Sam': 90, 'Anis': 60}"
      ]
     },
     "execution_count": 13,
     "metadata": {},
     "output_type": "execute_result"
    }
   ],
   "source": [
    "#simply way to set up dic\n",
    "\n",
    "empty_dict1 = ()\n",
    "emoty_dict2 = dict()\n",
    "grades = {'James': 88, 'Sam': 90, 'Anis': 60}\n",
    "grades"
   ]
  },
  {
   "cell_type": "code",
   "execution_count": 45,
   "id": "287b2704-4a39-4bc2-bec8-d65b53a3af59",
   "metadata": {},
   "outputs": [
    {
     "data": {
      "text/plain": [
       "78"
      ]
     },
     "execution_count": 45,
     "metadata": {},
     "output_type": "execute_result"
    }
   ],
   "source": [
    "grade = grades['James']\n",
    "grade"
   ]
  },
  {
   "cell_type": "code",
   "execution_count": 46,
   "id": "86babdcb-4e81-4aab-a2b7-4fe95b46b3d8",
   "metadata": {},
   "outputs": [
    {
     "data": {
      "text/plain": [
       "90"
      ]
     },
     "execution_count": 46,
     "metadata": {},
     "output_type": "execute_result"
    }
   ],
   "source": [
    "garde = grades.get('Sam')\n",
    "garde"
   ]
  },
  {
   "cell_type": "code",
   "execution_count": 47,
   "id": "b3715965-9d1f-4475-9e10-4d03247ce73a",
   "metadata": {},
   "outputs": [],
   "source": [
    "grade = grades.get('Keshia', 0)"
   ]
  },
  {
   "cell_type": "code",
   "execution_count": 15,
   "id": "dda38360-7542-4cef-8e07-25bcdfa14167",
   "metadata": {},
   "outputs": [
    {
     "data": {
      "text/plain": [
       "{'James': 88, 'Sam': 90, 'Anis': 60, 'Keshia': 82}"
      ]
     },
     "execution_count": 15,
     "metadata": {},
     "output_type": "execute_result"
    }
   ],
   "source": [
    "grades['Keshia'] = 82\n",
    "grades"
   ]
  },
  {
   "cell_type": "code",
   "execution_count": 16,
   "id": "2f3f7602-df27-44bc-a0a6-9df5b18901fd",
   "metadata": {},
   "outputs": [
    {
     "name": "stdout",
     "output_type": "stream",
     "text": [
      "James: 88\n",
      "Sam: 90\n",
      "Anis: 60\n",
      "Keshia: 82\n"
     ]
    }
   ],
   "source": [
    "for key in grades:\n",
    "    print(f'{key}: {grades.get(key)}')"
   ]
  },
  {
   "cell_type": "code",
   "execution_count": 17,
   "id": "8c19575a-7c0a-440e-9e28-3cb6feb8f1ce",
   "metadata": {},
   "outputs": [
    {
     "name": "stdout",
     "output_type": "stream",
     "text": [
      "James\n",
      "Sam\n",
      "Anis\n",
      "Keshia\n"
     ]
    }
   ],
   "source": [
    "for key in grades.keys():\n",
    "    print(key)"
   ]
  },
  {
   "cell_type": "code",
   "execution_count": 20,
   "id": "27659f55-d0cd-4e72-9580-9cc7ce6ff4b5",
   "metadata": {},
   "outputs": [
    {
     "name": "stdout",
     "output_type": "stream",
     "text": [
      "88\n"
     ]
    },
    {
     "data": {
      "text/plain": [
       "{'James': 78, 'Sam': 90, 'Anis': 60, 'Keshia': 82}"
      ]
     },
     "execution_count": 20,
     "metadata": {},
     "output_type": "execute_result"
    }
   ],
   "source": [
    "print(grades.get('James'))\n",
    "grades['James'] = 78\n",
    "grades"
   ]
  },
  {
   "cell_type": "code",
   "execution_count": 23,
   "id": "c8fcf79f-cd1b-4728-b8ae-18bbd8ddce71",
   "metadata": {},
   "outputs": [
    {
     "data": {
      "text/plain": [
       "dict_values([78, 90, 60, 82])"
      ]
     },
     "execution_count": 23,
     "metadata": {},
     "output_type": "execute_result"
    }
   ],
   "source": [
    "grades.values()"
   ]
  },
  {
   "cell_type": "code",
   "execution_count": 25,
   "id": "a560dbf1-f7ea-4a27-8561-425513c14926",
   "metadata": {},
   "outputs": [
    {
     "data": {
      "text/plain": [
       "dict_items([('James', 78), ('Sam', 90), ('Anis', 60), ('Keshia', 82)])"
      ]
     },
     "execution_count": 25,
     "metadata": {},
     "output_type": "execute_result"
    }
   ],
   "source": [
    "grades.items() #combination of key and value"
   ]
  },
  {
   "cell_type": "code",
   "execution_count": 28,
   "id": "b34d5eb8-2a7a-4927-bdfe-23808d098931",
   "metadata": {},
   "outputs": [
    {
     "name": "stdout",
     "output_type": "stream",
     "text": [
      "James : 78\n",
      "Sam : 90\n",
      "Anis : 60\n",
      "Keshia : 82\n"
     ]
    }
   ],
   "source": [
    "for key, value in grades.items():\n",
    "    print(key, ':', value)"
   ]
  },
  {
   "cell_type": "code",
   "execution_count": 31,
   "id": "69aab26e-4ffc-4706-bb3b-62db8e85da54",
   "metadata": {},
   "outputs": [],
   "source": [
    "prereqs = {'cs112':'cs111', 'cs336':['cs112','cs205']}"
   ]
  },
  {
   "cell_type": "code",
   "execution_count": 32,
   "id": "5cfe57aa-07b4-447d-8dee-d849ab1477bf",
   "metadata": {},
   "outputs": [
    {
     "data": {
      "text/plain": [
       "'cs111'"
      ]
     },
     "execution_count": 32,
     "metadata": {},
     "output_type": "execute_result"
    }
   ],
   "source": [
    "prereqs['cs112']"
   ]
  },
  {
   "cell_type": "code",
   "execution_count": 33,
   "id": "fd75e600-8d9c-47fe-99db-974588dfa1b4",
   "metadata": {},
   "outputs": [
    {
     "data": {
      "text/plain": [
       "['cs112', 'cs205']"
      ]
     },
     "execution_count": 33,
     "metadata": {},
     "output_type": "execute_result"
    }
   ],
   "source": [
    "prereqs['cs336']"
   ]
  },
  {
   "cell_type": "code",
   "execution_count": 36,
   "id": "6ea08a6f-174b-4dc9-b399-356ff4e478e9",
   "metadata": {},
   "outputs": [],
   "source": [
    "counties = {'nj': {'middlesex':825000, 'bergen':855000, 'essex':783000},\n",
    "            'ca': {'Los angeles':100000, 'san diego':30000}}"
   ]
  },
  {
   "cell_type": "code",
   "execution_count": 37,
   "id": "c288e835-63b8-4e4b-b747-9c28ea7f82d2",
   "metadata": {},
   "outputs": [
    {
     "data": {
      "text/plain": [
       "783000"
      ]
     },
     "execution_count": 37,
     "metadata": {},
     "output_type": "execute_result"
    }
   ],
   "source": [
    "counties['nj']['essex']"
   ]
  },
  {
   "cell_type": "code",
   "execution_count": 38,
   "id": "c406627a-1662-4354-b55d-92ec1a590cfc",
   "metadata": {},
   "outputs": [
    {
     "data": {
      "text/plain": [
       "{'x': 10, 'y': 10}"
      ]
     },
     "execution_count": 38,
     "metadata": {},
     "output_type": "execute_result"
    }
   ],
   "source": [
    "mydict = dict.fromkeys(['x','y',], 10) #give the value to each keys\n",
    "mydict"
   ]
  },
  {
   "cell_type": "code",
   "execution_count": 40,
   "id": "7f8ede9d-80e5-4b31-a2d6-fe242e6ce43c",
   "metadata": {},
   "outputs": [
    {
     "data": {
      "text/plain": [
       "{'a': None, 'b': None, 'c': None, 'd': None, 'e': None}"
      ]
     },
     "execution_count": 40,
     "metadata": {},
     "output_type": "execute_result"
    }
   ],
   "source": [
    "mydict2 = dict.fromkeys('abcde')\n",
    "mydict2"
   ]
  },
  {
   "cell_type": "code",
   "execution_count": 41,
   "id": "b7291596-203f-4536-93b9-48e5afc88a9f",
   "metadata": {},
   "outputs": [
    {
     "name": "stdout",
     "output_type": "stream",
     "text": [
      "no vlaue for key \"a\"\n"
     ]
    }
   ],
   "source": [
    "if mydict2['a'] == None:\n",
    "    print('no vlaue for key \"a\"')"
   ]
  },
  {
   "cell_type": "code",
   "execution_count": 42,
   "id": "5e1a47a2-f6f8-40c6-bab7-c2c9c0a92a4d",
   "metadata": {},
   "outputs": [
    {
     "data": {
      "text/plain": [
       "{'cs111': 800, 'cs112': 500}"
      ]
     },
     "execution_count": 42,
     "metadata": {},
     "output_type": "execute_result"
    }
   ],
   "source": [
    "mydict = dict([('cs111',800), ('cs112',500)]) #can make the each value to list\n",
    "mydict"
   ]
  },
  {
   "cell_type": "code",
   "execution_count": 51,
   "id": "e8a62899-83d2-4b20-b1cb-6c532ce42b0e",
   "metadata": {},
   "outputs": [
    {
     "data": {
      "text/plain": [
       "{'table': 1, 'chair': 4, 'desk': 5}"
      ]
     },
     "execution_count": 51,
     "metadata": {},
     "output_type": "execute_result"
    }
   ],
   "source": [
    "mydict2 = dict([('table',2), ('chair',3), ('table',1), ('chair',4), ('desk',5)])\n",
    "mydict2\n",
    "\n",
    "# overwriting. Keys are unique "
   ]
  },
  {
   "cell_type": "markdown",
   "id": "5d3334d5-0cf5-41ce-8167-ed1ede44e267",
   "metadata": {},
   "source": [
    "### Default Dictionary"
   ]
  },
  {
   "cell_type": "code",
   "execution_count": 53,
   "id": "eefe6074-3c3b-43b8-939f-a176bf6f2d41",
   "metadata": {},
   "outputs": [
    {
     "name": "stdout",
     "output_type": "stream",
     "text": [
      "{4: 2, 5: 2, 6: 4, 9: 1, 7: 2, 1: 1, 2: 2, 3: 3, 10: 1}\n"
     ]
    }
   ],
   "source": [
    "quiz_scores = [4,5,6,9,7,1,5,2,3,6,10,7,6,6,3,4,2,3]\n",
    "scores = {}\n",
    "for qs in quiz_scores:\n",
    "    if qs in scores:    # membership check for key in dictionary : find qs key in scores\n",
    "        scores[qs] += 1\n",
    "    else:\n",
    "        scores[qs] = 1\n",
    "print(scores)"
   ]
  },
  {
   "cell_type": "code",
   "execution_count": 55,
   "id": "1773f230-f026-44ed-8810-141053e84cb8",
   "metadata": {},
   "outputs": [
    {
     "name": "stdout",
     "output_type": "stream",
     "text": [
      "defaultdict(<class 'int'>, {4: 2, 5: 2, 6: 4, 9: 1, 7: 2, 1: 1, 2: 2, 3: 3, 10: 1})\n"
     ]
    }
   ],
   "source": [
    "#using default dictionary\n",
    "\n",
    "from collections import defaultdict  #collection is module\n",
    "\n",
    "scores2 = defaultdict(int)\n",
    "for qs in quiz_scores:\n",
    "    scores2[qs] += 1\n",
    "print(scores2)"
   ]
  },
  {
   "cell_type": "code",
   "execution_count": 66,
   "id": "4e14ce17-c170-49fb-bce9-b2553d60ccbb",
   "metadata": {},
   "outputs": [],
   "source": [
    "lst = dict[('table',2), ('chair',3), ('table',1), ('chair',4), ('desk',5)]"
   ]
  },
  {
   "cell_type": "code",
   "execution_count": 84,
   "id": "67b12a37-00fa-4f76-b7c4-818d498765ee",
   "metadata": {},
   "outputs": [
    {
     "ename": "IndentationError",
     "evalue": "unexpected indent (Temp/ipykernel_8168/783590948.py, line 3)",
     "output_type": "error",
     "traceback": [
      "\u001b[1;36m  File \u001b[1;32m\"C:\\Users\\BAEKGE~1\\AppData\\Local\\Temp/ipykernel_8168/783590948.py\"\u001b[1;36m, line \u001b[1;32m3\u001b[0m\n\u001b[1;33m    for k,v in lst:\u001b[0m\n\u001b[1;37m    ^\u001b[0m\n\u001b[1;31mIndentationError\u001b[0m\u001b[1;31m:\u001b[0m unexpected indent\n"
     ]
    }
   ],
   "source": [
    "lst = dict[('table',2), ('chair',3), ('table',1), ('chair',4), ('desk',5)]\n",
    "mydict3 = defaultdict(list)\n",
    "    for k,v in lst:\n",
    "    mydict3[k].append(v)\n",
    "mydict3"
   ]
  },
  {
   "cell_type": "markdown",
   "id": "4d8e104a-28c1-4a13-96cb-0317a877cded",
   "metadata": {},
   "source": [
    "### Ordered Dictionary"
   ]
  },
  {
   "cell_type": "code",
   "execution_count": 74,
   "id": "4c1fcef7-1318-468f-b541-d54b2da76c05",
   "metadata": {},
   "outputs": [
    {
     "data": {
      "text/plain": [
       "OrderedDict([('Hill Center', 'Busch'),\n",
       "             ('AB', 'College Ave'),\n",
       "             ('Hickman', 'Douglass'),\n",
       "             ('SEC', 'Busch')])"
      ]
     },
     "execution_count": 74,
     "metadata": {},
     "output_type": "execute_result"
    }
   ],
   "source": [
    "from collections import OrderedDict\n",
    "\n",
    "od = OrderedDict()\n",
    "od['Hill Center'] = 'Busch'\n",
    "od['AB'] = 'College Ave'\n",
    "od['Hickman'] = 'Douglass'\n",
    "od['SEC'] = 'Busch'\n",
    "od"
   ]
  },
  {
   "cell_type": "code",
   "execution_count": 76,
   "id": "75425c1a-436b-4071-af19-fe3e2affd33f",
   "metadata": {},
   "outputs": [
    {
     "data": {
      "text/plain": [
       "False"
      ]
     },
     "execution_count": 76,
     "metadata": {},
     "output_type": "execute_result"
    }
   ],
   "source": [
    "OrderedDict([('a',1),('b',2),]) == OrderedDict([('b',2),('a',1),])"
   ]
  },
  {
   "cell_type": "code",
   "execution_count": 77,
   "id": "65a81f39-3c23-4f1f-ad6e-f2650d533156",
   "metadata": {},
   "outputs": [
    {
     "data": {
      "text/plain": [
       "True"
      ]
     },
     "execution_count": 77,
     "metadata": {},
     "output_type": "execute_result"
    }
   ],
   "source": [
    "dict([('a',1),('b',2),]) == dict([('b',2),('a',1),])"
   ]
  },
  {
   "cell_type": "code",
   "execution_count": 87,
   "id": "67e2defc-b6c1-4e80-8c06-6770b64ccaa8",
   "metadata": {},
   "outputs": [
    {
     "data": {
      "text/plain": [
       "{'a': 3, 'b': 2}"
      ]
     },
     "execution_count": 87,
     "metadata": {},
     "output_type": "execute_result"
    }
   ],
   "source": [
    "dict1 = {'a':1, 'b':2}\n",
    "dict2 = dict1\n",
    "dict2['a'] = 3\n",
    "dict1"
   ]
  },
  {
   "cell_type": "code",
   "execution_count": 89,
   "id": "0422f1be-1eaf-481d-8f2a-789e243211ae",
   "metadata": {},
   "outputs": [
    {
     "data": {
      "text/plain": [
       "{'a': 3, 'b': 2}"
      ]
     },
     "execution_count": 89,
     "metadata": {},
     "output_type": "execute_result"
    }
   ],
   "source": [
    "dict3 = dict1.copy() #seperate physical copy\n",
    "dict3 ['b'] = 5\n",
    "dict1"
   ]
  },
  {
   "cell_type": "markdown",
   "id": "60c9f104-35b8-44fd-b765-8f89096b1572",
   "metadata": {},
   "source": [
    "### Counter"
   ]
  },
  {
   "cell_type": "code",
   "execution_count": 94,
   "id": "b03bf9fc-82cc-4ebb-8fff-a8944792445b",
   "metadata": {},
   "outputs": [
    {
     "data": {
      "text/plain": [
       "Counter({1: 4, 2: 2, 4: 1, 5: 1, 6: 1, 3: 1})"
      ]
     },
     "execution_count": 94,
     "metadata": {},
     "output_type": "execute_result"
    }
   ],
   "source": [
    "from collections import Counter\n",
    "\n",
    "ctr = Counter([1,2,2,4,5,6,3,1,1,1])\n",
    "ctr"
   ]
  },
  {
   "cell_type": "code",
   "execution_count": 95,
   "id": "985035ab-7df7-435a-930b-bfdd8d8e1e2f",
   "metadata": {},
   "outputs": [
    {
     "data": {
      "text/plain": [
       "dict_items([(1, 4), (2, 2), (4, 1), (5, 1), (6, 1), (3, 1)])"
      ]
     },
     "execution_count": 95,
     "metadata": {},
     "output_type": "execute_result"
    }
   ],
   "source": [
    "ctr.items()"
   ]
  },
  {
   "cell_type": "code",
   "execution_count": 96,
   "id": "8d70904c-8bc2-47c6-9c28-9a828c5b539b",
   "metadata": {},
   "outputs": [
    {
     "data": {
      "text/plain": [
       "dict_keys([1, 2, 4, 5, 6, 3])"
      ]
     },
     "execution_count": 96,
     "metadata": {},
     "output_type": "execute_result"
    }
   ],
   "source": [
    "ctr.keys()"
   ]
  },
  {
   "cell_type": "code",
   "execution_count": 97,
   "id": "87c0089a-2a86-4d81-a3d0-89c7f0528b1a",
   "metadata": {},
   "outputs": [
    {
     "data": {
      "text/plain": [
       "dict_values([4, 2, 1, 1, 1, 1])"
      ]
     },
     "execution_count": 97,
     "metadata": {},
     "output_type": "execute_result"
    }
   ],
   "source": [
    "ctr.values()"
   ]
  },
  {
   "cell_type": "code",
   "execution_count": 101,
   "id": "d4703be9-a35f-4dde-9487-69eeb7fa69a6",
   "metadata": {},
   "outputs": [
    {
     "data": {
      "text/plain": [
       "Counter({1: 8, 2: 4, 4: 1, 5: 1, 6: 1, 3: 1, 9: 1})"
      ]
     },
     "execution_count": 101,
     "metadata": {},
     "output_type": "execute_result"
    }
   ],
   "source": [
    "ctr.update([1, 2, 9])\n",
    "ctr# only way to update"
   ]
  },
  {
   "cell_type": "code",
   "execution_count": 102,
   "id": "99919d72-7d4f-4504-a3e5-e854227c6baa",
   "metadata": {},
   "outputs": [
    {
     "data": {
      "text/plain": [
       "Counter({'this': 1, 'that': 1})"
      ]
     },
     "execution_count": 102,
     "metadata": {},
     "output_type": "execute_result"
    }
   ],
   "source": [
    "ctr1 = Counter()\n",
    "ctr1.update(['this','that'])\n",
    "ctr1"
   ]
  },
  {
   "cell_type": "code",
   "execution_count": 106,
   "id": "c93ca911-c96a-4411-b441-f76f5166f087",
   "metadata": {},
   "outputs": [
    {
     "data": {
      "text/plain": [
       "Counter({'w': 1,\n",
       "         'h': 1,\n",
       "         'a': 3,\n",
       "         'y': 1,\n",
       "         ' ': 4,\n",
       "         'g': 1,\n",
       "         'o': 4,\n",
       "         'e': 2,\n",
       "         's': 2,\n",
       "         'r': 2,\n",
       "         'u': 2,\n",
       "         'n': 2,\n",
       "         'd': 2,\n",
       "         'c': 1,\n",
       "         'm': 1})"
      ]
     },
     "execution_count": 106,
     "metadata": {},
     "output_type": "execute_result"
    }
   ],
   "source": [
    "ctr2 = Counter('whay goes around comes around') #same as line 94. blank is also character\n",
    "ctr2"
   ]
  },
  {
   "cell_type": "code",
   "execution_count": 110,
   "id": "0a9dfef0-3ee6-4f35-85cc-e1cfe8726a0e",
   "metadata": {},
   "outputs": [
    {
     "data": {
      "text/plain": [
       "[(' ', 4), ('o', 4), ('a', 3)]"
      ]
     },
     "execution_count": 110,
     "metadata": {},
     "output_type": "execute_result"
    }
   ],
   "source": [
    "ctr2.most_common(3)"
   ]
  },
  {
   "cell_type": "code",
   "execution_count": 111,
   "id": "87e0c295-3a80-4364-9889-7b7be419f85f",
   "metadata": {},
   "outputs": [
    {
     "data": {
      "text/plain": [
       "[(' ', 4),\n",
       " ('o', 4),\n",
       " ('a', 3),\n",
       " ('e', 2),\n",
       " ('s', 2),\n",
       " ('r', 2),\n",
       " ('u', 2),\n",
       " ('n', 2),\n",
       " ('d', 2),\n",
       " ('w', 1),\n",
       " ('h', 1),\n",
       " ('y', 1),\n",
       " ('g', 1),\n",
       " ('c', 1),\n",
       " ('m', 1)]"
      ]
     },
     "execution_count": 111,
     "metadata": {},
     "output_type": "execute_result"
    }
   ],
   "source": [
    "ctr2.most_common()"
   ]
  },
  {
   "cell_type": "code",
   "execution_count": 112,
   "id": "14ae74b2-ead8-435c-a8a8-91ae07e06c59",
   "metadata": {},
   "outputs": [
    {
     "data": {
      "text/plain": [
       "[('g', 1), ('c', 1), ('m', 1)]"
      ]
     },
     "execution_count": 112,
     "metadata": {},
     "output_type": "execute_result"
    }
   ],
   "source": [
    "ctr2.most_common()[-3:]"
   ]
  },
  {
   "cell_type": "code",
   "execution_count": 119,
   "id": "4ac18929-427b-4765-a879-490d85f99207",
   "metadata": {},
   "outputs": [
    {
     "data": {
      "text/plain": [
       "[('y', 1),\n",
       " ('w', 1),\n",
       " ('u', 2),\n",
       " ('s', 2),\n",
       " ('r', 2),\n",
       " ('o', 4),\n",
       " ('n', 2),\n",
       " ('m', 1),\n",
       " ('h', 1),\n",
       " ('g', 1),\n",
       " ('e', 2),\n",
       " ('d', 2),\n",
       " ('c', 1),\n",
       " ('a', 3),\n",
       " (' ', 4)]"
      ]
     },
     "execution_count": 119,
     "metadata": {},
     "output_type": "execute_result"
    }
   ],
   "source": [
    "sorted(ctr2.most_common(), reverse = True)  #this is not the true reverse way "
   ]
  },
  {
   "cell_type": "code",
   "execution_count": 121,
   "id": "768e1cd5-6b38-4b21-b311-12faddc05ffb",
   "metadata": {},
   "outputs": [
    {
     "data": {
      "text/plain": [
       "[(' ', 4),\n",
       " ('o', 4),\n",
       " ('a', 3),\n",
       " ('e', 2),\n",
       " ('s', 2),\n",
       " ('r', 2),\n",
       " ('u', 2),\n",
       " ('n', 2),\n",
       " ('d', 2),\n",
       " ('w', 1),\n",
       " ('h', 1),\n",
       " ('y', 1),\n",
       " ('g', 1),\n",
       " ('c', 1),\n",
       " ('m', 1)]"
      ]
     },
     "execution_count": 121,
     "metadata": {},
     "output_type": "execute_result"
    }
   ],
   "source": [
    "sorted(ctr2.most_common(), key= lambda tup: tup[1], reverse = True) # use lambda to reverse the tup: tup[1]"
   ]
  },
  {
   "cell_type": "code",
   "execution_count": 127,
   "id": "b19bfbf8-ab1e-4173-95a5-73911cb06f9e",
   "metadata": {},
   "outputs": [
    {
     "data": {
      "text/plain": [
       "[('w', 1),\n",
       " ('h', 1),\n",
       " ('y', 1),\n",
       " ('g', 1),\n",
       " ('c', 1),\n",
       " ('m', 1),\n",
       " ('e', 2),\n",
       " ('s', 2),\n",
       " ('r', 2),\n",
       " ('u', 2),\n",
       " ('n', 2),\n",
       " ('d', 2),\n",
       " ('a', 3),\n",
       " (' ', 4),\n",
       " ('o', 4)]"
      ]
     },
     "execution_count": 127,
     "metadata": {},
     "output_type": "execute_result"
    }
   ],
   "source": [
    "sorted(ctr2.most_common(), key= lambda tup: tup[1]) #natural sorting method"
   ]
  },
  {
   "cell_type": "markdown",
   "id": "9564f042-df31-458c-a8a1-bba665ddb0c7",
   "metadata": {},
   "source": [
    "### Reading from a file"
   ]
  },
  {
   "cell_type": "code",
   "execution_count": 1,
   "id": "370fd5d6-47e3-4024-a00e-1045970c7d52",
   "metadata": {},
   "outputs": [
    {
     "ename": "FileNotFoundError",
     "evalue": "[Errno 2] No such file or directory: 'oscars.txt'",
     "output_type": "error",
     "traceback": [
      "\u001b[1;31m---------------------------------------------------------------------------\u001b[0m",
      "\u001b[1;31mFileNotFoundError\u001b[0m                         Traceback (most recent call last)",
      "\u001b[1;32mC:\\Users\\BAEKGE~1\\AppData\\Local\\Temp/ipykernel_2444/114660491.py\u001b[0m in \u001b[0;36m<module>\u001b[1;34m\u001b[0m\n\u001b[0;32m      1\u001b[0m \u001b[0moscars\u001b[0m \u001b[1;33m=\u001b[0m \u001b[1;33m{\u001b[0m\u001b[1;33m}\u001b[0m\u001b[1;33m\u001b[0m\u001b[1;33m\u001b[0m\u001b[0m\n\u001b[1;32m----> 2\u001b[1;33m \u001b[1;32mfor\u001b[0m \u001b[0mline\u001b[0m \u001b[1;32min\u001b[0m \u001b[0mopen\u001b[0m\u001b[1;33m(\u001b[0m\u001b[1;34m'oscars.txt'\u001b[0m\u001b[1;33m)\u001b[0m\u001b[1;33m:\u001b[0m \u001b[1;31m# read one line at a time\u001b[0m\u001b[1;33m\u001b[0m\u001b[1;33m\u001b[0m\u001b[0m\n\u001b[0m\u001b[0;32m      3\u001b[0m     \u001b[0mmoive\u001b[0m\u001b[1;33m,\u001b[0m \u001b[0myear\u001b[0m \u001b[1;33m=\u001b[0m \u001b[0mline\u001b[0m\u001b[1;33m.\u001b[0m\u001b[0msplit\u001b[0m\u001b[1;33m(\u001b[0m\u001b[1;34m':'\u001b[0m\u001b[1;33m)\u001b[0m \u001b[1;31m# split line into two pieces around ':' unpacking the list\u001b[0m\u001b[1;33m\u001b[0m\u001b[1;33m\u001b[0m\u001b[0m\n\u001b[0;32m      4\u001b[0m     \u001b[0moscars\u001b[0m\u001b[1;33m[\u001b[0m\u001b[0mmovie\u001b[0m\u001b[1;33m.\u001b[0m\u001b[0mstrip\u001b[0m\u001b[1;33m(\u001b[0m\u001b[1;33m)\u001b[0m\u001b[1;33m]\u001b[0m \u001b[1;33m=\u001b[0m \u001b[0myear\u001b[0m\u001b[1;33m.\u001b[0m\u001b[0mstrip\u001b[0m\u001b[1;33m(\u001b[0m\u001b[1;33m)\u001b[0m\u001b[1;33m\u001b[0m\u001b[1;33m\u001b[0m\u001b[0m\n\u001b[0;32m      5\u001b[0m \u001b[0mprint\u001b[0m\u001b[1;33m(\u001b[0m\u001b[0moscars\u001b[0m\u001b[1;33m)\u001b[0m\u001b[1;33m\u001b[0m\u001b[1;33m\u001b[0m\u001b[0m\n",
      "\u001b[1;31mFileNotFoundError\u001b[0m: [Errno 2] No such file or directory: 'oscars.txt'"
     ]
    }
   ],
   "source": [
    "oscars = {}\n",
    "for line in open('oscars.txt'): # read one line at a time\n",
    "    moive, year = line.split(':') # split line into two pieces around ':' unpacking the list\n",
    "    oscars[movie.strip()] = year.strip()\n",
    "print(oscars)"
   ]
  },
  {
   "cell_type": "code",
   "execution_count": 5,
   "id": "364c68c7-abdd-43b2-8d2d-e6af4db2d211",
   "metadata": {},
   "outputs": [
    {
     "data": {
      "text/plain": [
       "[]"
      ]
     },
     "execution_count": 5,
     "metadata": {},
     "output_type": "execute_result"
    }
   ],
   "source": [
    "# sort by year\n",
    "oscar_years = sorted(oscars.items(), #dictionary items are return a tuple\n",
    "                     key = lambda movie: movie[1])\n",
    "oscar_years"
   ]
  },
  {
   "cell_type": "code",
   "execution_count": null,
   "id": "e8287ee9-203e-47bc-8f56-1686606dca46",
   "metadata": {},
   "outputs": [],
   "source": []
  }
 ],
 "metadata": {
  "kernelspec": {
   "display_name": "Python 3 (ipykernel)",
   "language": "python",
   "name": "python3"
  },
  "language_info": {
   "codemirror_mode": {
    "name": "ipython",
    "version": 3
   },
   "file_extension": ".py",
   "mimetype": "text/x-python",
   "name": "python",
   "nbconvert_exporter": "python",
   "pygments_lexer": "ipython3",
   "version": "3.9.7"
  }
 },
 "nbformat": 4,
 "nbformat_minor": 5
}
