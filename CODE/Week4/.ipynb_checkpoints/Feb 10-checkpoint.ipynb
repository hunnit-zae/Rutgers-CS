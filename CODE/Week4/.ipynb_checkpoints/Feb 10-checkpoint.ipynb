{
 "cells": [
  {
   "cell_type": "markdown",
   "id": "6557bc59-1311-48d7-a138-940b6bdb64ca",
   "metadata": {},
   "source": [
    "### Wiriting to a file"
   ]
  },
  {
   "cell_type": "code",
   "execution_count": 5,
   "id": "241b55ef-ceeb-48db-a33c-7d00071b4218",
   "metadata": {},
   "outputs": [
    {
     "data": {
      "text/plain": [
       "{'James': 88, 'Sam': 90, 'Anis': 60}"
      ]
     },
     "execution_count": 5,
     "metadata": {},
     "output_type": "execute_result"
    }
   ],
   "source": [
    "grades = {'James': 88, 'Sam': 90, 'Anis': 60}\n",
    "grades"
   ]
  },
  {
   "cell_type": "code",
   "execution_count": 6,
   "id": "ccf1f74d-045e-49f9-a094-43a4941d8f96",
   "metadata": {},
   "outputs": [],
   "source": [
    "scores_file = open('scores_file.txt', 'w')  #'r' is read 'w' is writing\n",
    "for key, value in grades.items():\n",
    "    scores_file.write(key + ':' + str(value) + '\\n')\n",
    "scores_file.close()              # IMPORTANT TO CLOSE!!!"
   ]
  },
  {
   "cell_type": "markdown",
   "id": "4813fdb2-ed5f-4454-9180-d4b9c687a77c",
   "metadata": {
    "tags": []
   },
   "source": [
    "### Exercise"
   ]
  },
  {
   "cell_type": "code",
   "execution_count": 17,
   "id": "27ce3cde-8fcc-4af8-9568-b16cd225a709",
   "metadata": {},
   "outputs": [],
   "source": [
    "def getPopulation(file):\n",
    "    pops = {}\n",
    "    for line in open(file):         #line is not keyword you can set everything;\n",
    "        country, pop = line.split('|')\n",
    "        popluation = int(pop.replace(',',''))\n",
    "        pops[country] = popluation\n",
    "    return pops"
   ]
  },
  {
   "cell_type": "code",
   "execution_count": 18,
   "id": "6d45ab84-83ed-4b5a-91d7-753ef6082e70",
   "metadata": {},
   "outputs": [],
   "source": [
    "populations = getPopulation('population.txt')"
   ]
  },
  {
   "cell_type": "code",
   "execution_count": 30,
   "id": "47426f44-6238-45c1-a42b-973d88e4e49b",
   "metadata": {},
   "outputs": [
    {
     "data": {
      "text/plain": [
       "50004441"
      ]
     },
     "execution_count": 30,
     "metadata": {},
     "output_type": "execute_result"
    }
   ],
   "source": [
    "populations['South Korea']"
   ]
  },
  {
   "cell_type": "code",
   "execution_count": 27,
   "id": "0103be43-0dc6-4380-af0a-012364560710",
   "metadata": {},
   "outputs": [
    {
     "name": "stdout",
     "output_type": "stream",
     "text": [
      "['China', 'India', 'United States', 'Indonesia', 'Brazil', 'Pakistan', 'Nigeria', 'Bangladesh', 'Russia', 'Japan', 'Mexico']\n"
     ]
    }
   ],
   "source": [
    "#get contries with population over 1 million\n",
    "large_pops = [c for c,p in populations.items() if p > 100000000]\n",
    "print(large_pops)"
   ]
  },
  {
   "cell_type": "markdown",
   "id": "dd7de0b1-c255-4a98-83b0-5b183b2c1785",
   "metadata": {},
   "source": [
    "### Exercise"
   ]
  },
  {
   "cell_type": "code",
   "execution_count": 38,
   "id": "e37be151-1715-49f3-9bd2-35ee5c78fefa",
   "metadata": {},
   "outputs": [
    {
     "name": "stdout",
     "output_type": "stream",
     "text": [
      "Counter({'he': 10, 'to': 6, 'the': 4, 'that': 4, 'his': 4, 'a': 3, 'and': 3, 'was': 3, 'look': 2, 'at': 2, 'dull': 2, 'feel': 2, 'right': 2, 'have': 2, 'gregor': 1, 'then': 1, 'turned': 1, 'out': 1, 'window': 1, 'weather.': 1, 'drops': 1, 'of': 1, 'rain': 1, 'could': 1, 'be': 1, 'heard': 1, 'hitting': 1, 'pane': 1, 'which': 1, 'made': 1, 'him': 1, 'quite': 1, 'sad.': 1, 'how': 1, 'about': 1, 'if': 1, 'i': 1, 'sleep': 1, 'little': 1, 'bit': 1, 'longer': 1, 'forget': 1, 'all': 1, 'this': 1, 'nonsense': 1, 'thought': 1, 'but': 1, 'something': 1, 'unable': 1, 'do': 1, 'because': 1, 'used': 1, 'sleeping': 1, 'on': 1, 'in': 1, 'present': 1, 'state': 1, \"couldn't\": 1, 'get': 1, 'into': 1, 'position.': 1, 'however': 1, 'hard': 1, 'threw': 1, 'himself': 1, 'onto': 1, 'always': 1, 'rolled': 1, 'back': 1, 'where': 1, 'was.': 1, 'must': 1, 'tried': 1, 'it': 1, 'hundred': 1, 'times': 1, 'shut': 1, 'eyes': 1, 'so': 1, \"wouldn't\": 1, 'floundering': 1, 'legs': 1, 'only': 1, 'stopped': 1, 'when': 1, 'began': 1, 'mild': 1, 'pain': 1, 'there': 1, 'had': 1, 'never': 1, 'felt': 1, 'before.': 1})\n"
     ]
    }
   ],
   "source": [
    "from collections import Counter\n",
    "\n",
    "word_counts = Counter()\n",
    "for line in open('metamorphosis.txt'):\n",
    "    tokens = line.split()     #each component is token\n",
    "    for token in tokens:\n",
    "        word_counts.update([token.lower().strip(',,')])\n",
    "        \n",
    "print(word_counts)"
   ]
  },
  {
   "cell_type": "code",
   "execution_count": 42,
   "id": "6b981765-6e7a-4c9a-986c-746d02fc2795",
   "metadata": {},
   "outputs": [
    {
     "name": "stdout",
     "output_type": "stream",
     "text": [
      "he 10\n",
      "to 6\n",
      "the 4\n",
      "that 4\n",
      "his 4\n"
     ]
    }
   ],
   "source": [
    "# find top 5 common words\n",
    "for word, count in word_counts.most_common(5):\n",
    "    print(word, count)"
   ]
  },
  {
   "cell_type": "code",
   "execution_count": 47,
   "id": "55498681-b7d3-4927-a9a1-66ec7fd623de",
   "metadata": {},
   "outputs": [
    {
     "data": {
      "text/plain": [
       "[('that', 4), ('look', 2), ('dull', 2), ('feel', 2), ('right', 2), ('have', 2)]"
      ]
     },
     "execution_count": 47,
     "metadata": {},
     "output_type": "execute_result"
    }
   ],
   "source": [
    "# find words of length 4 or more that occur at least twice\n",
    "commons = [(w,c) for w, c in word_counts.most_common() if len(w) >= 4 and c >= 2]\n",
    "commons"
   ]
  },
  {
   "cell_type": "code",
   "execution_count": 50,
   "id": "2876b36c-1851-4cc3-a5f9-41a696906c10",
   "metadata": {},
   "outputs": [
    {
     "data": {
      "text/plain": [
       "[('that', 4), ('look', 2), ('dull', 2), ('feel', 2), ('right', 2)]"
      ]
     },
     "execution_count": 50,
     "metadata": {},
     "output_type": "execute_result"
    }
   ],
   "source": [
    "#find up to 5 words of length 4 or more that occur at least twice\n",
    "commons = [(w,c) for w, c in word_counts.most_common() if len(w) >= 4 and c >= 2][:5]\n",
    "commons"
   ]
  },
  {
   "cell_type": "markdown",
   "id": "57876ca3-9b36-494c-9631-10cb12e1a188",
   "metadata": {},
   "source": [
    "---"
   ]
  },
  {
   "cell_type": "markdown",
   "id": "aba8e836-ce8e-4964-b361-e8f6f17684b9",
   "metadata": {},
   "source": [
    "### Regular Expressions"
   ]
  },
  {
   "cell_type": "code",
   "execution_count": 2,
   "id": "8af9cb1b-1b88-4522-92d9-e4084aac208a",
   "metadata": {},
   "outputs": [],
   "source": [
    "import re  # re-module"
   ]
  },
  {
   "cell_type": "code",
   "execution_count": 3,
   "id": "8dbf7d4a-0327-4d39-9f3c-aa8d07e68abf",
   "metadata": {},
   "outputs": [
    {
     "data": {
      "text/plain": [
       "<re.Match object; span=(1, 2), match='a'>"
      ]
     },
     "execution_count": 3,
     "metadata": {},
     "output_type": "execute_result"
    }
   ],
   "source": [
    "# Searching for a pattern in a string using re.search function\n",
    "res = re.search('a', 'cat') # search for pattern 'a' in target 'cat'\n",
    "res"
   ]
  },
  {
   "cell_type": "code",
   "execution_count": 4,
   "id": "d3bdff3e-cfa9-482a-a593-84a35cd06dcb",
   "metadata": {},
   "outputs": [],
   "source": [
    "res = re.search('a', 'dog')\n",
    "res"
   ]
  },
  {
   "cell_type": "code",
   "execution_count": 5,
   "id": "19f9d615-5e10-4b07-8599-bcec960a2e63",
   "metadata": {},
   "outputs": [
    {
     "name": "stdout",
     "output_type": "stream",
     "text": [
      "None\n"
     ]
    }
   ],
   "source": [
    "print(res)"
   ]
  },
  {
   "cell_type": "code",
   "execution_count": 6,
   "id": "9389626e-65e4-4a55-8391-37800bcb9ef3",
   "metadata": {},
   "outputs": [
    {
     "name": "stdout",
     "output_type": "stream",
     "text": [
      "Not matched\n"
     ]
    }
   ],
   "source": [
    "print('matched') if re.search('a', 'dog') else print('Not matched')"
   ]
  },
  {
   "cell_type": "code",
   "execution_count": 7,
   "id": "d635225b-3aa7-42d9-aed2-8f048dca92b1",
   "metadata": {},
   "outputs": [
    {
     "data": {
      "text/plain": [
       "<re.Match object; span=(1, 3), match='ar'>"
      ]
     },
     "execution_count": 7,
     "metadata": {},
     "output_type": "execute_result"
    }
   ],
   "source": [
    "res = re.search('ar', 'barbaric') # result show first accurance\n",
    "res"
   ]
  },
  {
   "cell_type": "markdown",
   "id": "22ae5992-3790-43a1-adeb-dc5858ff0ba2",
   "metadata": {},
   "source": [
    "### Writing regxp patterns with metacharacters"
   ]
  },
  {
   "cell_type": "code",
   "execution_count": 76,
   "id": "d90a1387-d6bc-40a9-a56c-930206d391f6",
   "metadata": {},
   "outputs": [
    {
     "name": "stdin",
     "output_type": "stream",
     "text": [
      "string? (\"quit\" to stop) account\n"
     ]
    },
    {
     "name": "stdout",
     "output_type": "stream",
     "text": [
      "not match\n"
     ]
    },
    {
     "name": "stdin",
     "output_type": "stream",
     "text": [
      "string? (\"quit\" to stop) cart\n"
     ]
    },
    {
     "name": "stdout",
     "output_type": "stream",
     "text": [
      "not match\n"
     ]
    },
    {
     "name": "stdin",
     "output_type": "stream",
     "text": [
      "string? (\"quit\" to stop) factor\n"
     ]
    },
    {
     "name": "stdout",
     "output_type": "stream",
     "text": [
      "match\n"
     ]
    },
    {
     "name": "stdin",
     "output_type": "stream",
     "text": [
      "string? (\"quit\" to stop) quit\n"
     ]
    }
   ],
   "source": [
    "# example 1 using * metacharacter\n",
    "while True:\n",
    "    astr = input('string? (\"quit\" to stop)')\n",
    "    if astr == 'quit':\n",
    "        break\n",
    "    res = re.search('act', astr)\n",
    "    print('match') if res else print('not match')"
   ]
  },
  {
   "cell_type": "code",
   "execution_count": 77,
   "id": "11392660-3910-4c35-99e0-5322bce019c8",
   "metadata": {},
   "outputs": [
    {
     "name": "stdin",
     "output_type": "stream",
     "text": [
      "string? (\"quit\" to stop) quit\n"
     ]
    }
   ],
   "source": [
    "# example 2 using metacharacter +\n",
    "while True:\n",
    "    astr = input('string? (\"quit\" to stop)')\n",
    "    if astr == 'quit':\n",
    "        break\n",
    "    res = re.search('ac+t', astr)\n",
    "    print('match') if res else print('not match')"
   ]
  },
  {
   "cell_type": "code",
   "execution_count": 79,
   "id": "c7613cdc-758e-4be2-95a9-a5427c793d87",
   "metadata": {},
   "outputs": [
    {
     "name": "stdin",
     "output_type": "stream",
     "text": [
      "string? (\"quit\" to stop) quit\n"
     ]
    }
   ],
   "source": [
    "# example 3 using metacharacter [] and *\n",
    "while True:\n",
    "    astr = input('string? (\"quit\" to stop)')\n",
    "    if astr == 'quit':\n",
    "        break\n",
    "    res = re.search('a[0-9]*t', astr)          # asequences start with a 'a' end with a 't' between 0 to 9\n",
    "    print('match') if res else print('not match')"
   ]
  },
  {
   "cell_type": "code",
   "execution_count": 83,
   "id": "b1c564b3-2dc7-4690-8516-3fb878ff73e7",
   "metadata": {},
   "outputs": [
    {
     "name": "stdin",
     "output_type": "stream",
     "text": [
      "string? (\"quit\" to stop) avnosinvoinrsvosrnoisrn209fwioenvrsvn09wwEFSFSDFSt\n"
     ]
    },
    {
     "name": "stdout",
     "output_type": "stream",
     "text": [
      "match\n"
     ]
    },
    {
     "name": "stdin",
     "output_type": "stream",
     "text": [
      "string? (\"quit\" to stop) quit\n"
     ]
    }
   ],
   "source": [
    "# example 3 using metacharacter [] and *\n",
    "while True:\n",
    "    astr = input('string? (\"quit\" to stop)')\n",
    "    if astr == 'quit':\n",
    "        break\n",
    "    res = re.search('a[a-zA-z0-9]+t', astr)          # asequences start with a 'a' end with a 't' between 0 - 9 a - z A - Z\n",
    "    print('match') if res else print('not match')"
   ]
  },
  {
   "cell_type": "code",
   "execution_count": 84,
   "id": "cb810388-9864-4aae-b39b-c1c6b3489bf6",
   "metadata": {},
   "outputs": [
    {
     "name": "stdin",
     "output_type": "stream",
     "text": [
      "string? (\"quit\" to stop) at\n"
     ]
    },
    {
     "name": "stdout",
     "output_type": "stream",
     "text": [
      "not match\n"
     ]
    },
    {
     "name": "stdin",
     "output_type": "stream",
     "text": [
      "string? (\"quit\" to stop) a2t\n"
     ]
    },
    {
     "name": "stdout",
     "output_type": "stream",
     "text": [
      "not match\n"
     ]
    },
    {
     "name": "stdin",
     "output_type": "stream",
     "text": [
      "string? (\"quit\" to stop) aa2t\n"
     ]
    },
    {
     "name": "stdout",
     "output_type": "stream",
     "text": [
      "match\n"
     ]
    },
    {
     "name": "stdin",
     "output_type": "stream",
     "text": [
      "string? (\"quit\" to stop) aaA1t\n"
     ]
    },
    {
     "name": "stdout",
     "output_type": "stream",
     "text": [
      "match\n"
     ]
    },
    {
     "name": "stdin",
     "output_type": "stream",
     "text": [
      "string? (\"quit\" to stop) a1A1t\n"
     ]
    },
    {
     "name": "stdout",
     "output_type": "stream",
     "text": [
      "not match\n"
     ]
    },
    {
     "name": "stdin",
     "output_type": "stream",
     "text": [
      "string? (\"quit\" to stop) a1At\n"
     ]
    },
    {
     "name": "stdout",
     "output_type": "stream",
     "text": [
      "not match\n"
     ]
    },
    {
     "name": "stdin",
     "output_type": "stream",
     "text": [
      "string? (\"quit\" to stop) quit\n"
     ]
    }
   ],
   "source": [
    "# example 5 using metacharacter [] and *\n",
    "while True:\n",
    "    astr = input('string? (\"quit\" to stop)')\n",
    "    if astr == 'quit':\n",
    "        break\n",
    "    res = re.search('a[a-zA-z]+[0-9]+t', astr)          # asequences start with a 'a' end with a 't'  a - z A - Z and then 0 - 9\n",
    "    print('match') if res else print('not match')"
   ]
  },
  {
   "cell_type": "code",
   "execution_count": 86,
   "id": "11402142-0ca6-4247-b339-920d26c4d4b6",
   "metadata": {},
   "outputs": [],
   "source": [
    "#metacharacter '.' matches any character"
   ]
  },
  {
   "cell_type": "code",
   "execution_count": 8,
   "id": "087cf348-e7f9-4424-82a6-0c96ceaf450c",
   "metadata": {},
   "outputs": [
    {
     "name": "stdin",
     "output_type": "stream",
     "text": [
      "string? (\"quit\" to stop) ainoesinvosient\n"
     ]
    },
    {
     "name": "stdout",
     "output_type": "stream",
     "text": [
      "match\n"
     ]
    },
    {
     "name": "stdin",
     "output_type": "stream",
     "text": [
      "string? (\"quit\" to stop) quit\n"
     ]
    }
   ],
   "source": [
    "# example1\n",
    "while True:\n",
    "    astr = input('string? (\"quit\" to stop)')\n",
    "    if astr == 'quit':\n",
    "        break\n",
    "    res = re.search('a.*t', astr)          \n",
    "    print('match') if res else print('not match')"
   ]
  },
  {
   "cell_type": "code",
   "execution_count": 14,
   "id": "42abd695-7e29-44e8-872e-b6ea28574a93",
   "metadata": {},
   "outputs": [
    {
     "name": "stdout",
     "output_type": "stream",
     "text": [
      "<re.Match object; span=(0, 2), match='at'>\n",
      "<re.Match object; span=(0, 2), match='at'>\n",
      "<re.Match object; span=(2, 5), match='act'>\n",
      "None\n",
      "None\n"
     ]
    }
   ],
   "source": [
    "#metacharacter '?' matches 0 or One occurance of parceding character(there or not there)\n",
    "res = re.search('ac?t', 'at')\n",
    "print(res)\n",
    "res = re.search('ac?t', 'at')\n",
    "print(res)\n",
    "res = re.search('ac?t', 'tractor')\n",
    "print(res)\n",
    "res = re.search('ac?t', 'accct')\n",
    "print(res)\n",
    "res = re.search('ac?t', 'art')\n",
    "print(res)"
   ]
  },
  {
   "cell_type": "code",
   "execution_count": null,
   "id": "a865f19a-2162-4493-af95-642e1024814e",
   "metadata": {},
   "outputs": [],
   "source": []
  }
 ],
 "metadata": {
  "kernelspec": {
   "display_name": "Python 3 (ipykernel)",
   "language": "python",
   "name": "python3"
  },
  "language_info": {
   "codemirror_mode": {
    "name": "ipython",
    "version": 3
   },
   "file_extension": ".py",
   "mimetype": "text/x-python",
   "name": "python",
   "nbconvert_exporter": "python",
   "pygments_lexer": "ipython3",
   "version": "3.9.7"
  }
 },
 "nbformat": 4,
 "nbformat_minor": 5
}
