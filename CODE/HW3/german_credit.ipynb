{
 "cells": [
  {
   "cell_type": "code",
   "execution_count": 42,
   "id": "0fe3b9da-3c6f-443a-b37e-b1fea0e38548",
   "metadata": {},
   "outputs": [],
   "source": [
    "import pandas as pd\n",
    "import numpy as np\n",
    "import matplotlib.pyplot as plt\n",
    "from pandas import Series\n",
    "from pandas import DataFrame"
   ]
  },
  {
   "cell_type": "code",
   "execution_count": 43,
   "id": "f29760c8-1f62-4e01-a72d-782c631ac6c8",
   "metadata": {},
   "outputs": [
    {
     "data": {
      "text/html": [
       "<div>\n",
       "<style scoped>\n",
       "    .dataframe tbody tr th:only-of-type {\n",
       "        vertical-align: middle;\n",
       "    }\n",
       "\n",
       "    .dataframe tbody tr th {\n",
       "        vertical-align: top;\n",
       "    }\n",
       "\n",
       "    .dataframe thead th {\n",
       "        text-align: right;\n",
       "    }\n",
       "</style>\n",
       "<table border=\"1\" class=\"dataframe\">\n",
       "  <thead>\n",
       "    <tr style=\"text-align: right;\">\n",
       "      <th></th>\n",
       "      <th>checking_status</th>\n",
       "      <th>duration</th>\n",
       "      <th>credit_history</th>\n",
       "      <th>purpose</th>\n",
       "      <th>credit_amount</th>\n",
       "      <th>savings_status</th>\n",
       "      <th>employment</th>\n",
       "      <th>installment_commitment</th>\n",
       "      <th>personal_status</th>\n",
       "      <th>other_parties</th>\n",
       "      <th>...</th>\n",
       "      <th>property_magnitude</th>\n",
       "      <th>age</th>\n",
       "      <th>other_payment_plans</th>\n",
       "      <th>housing</th>\n",
       "      <th>existing_credits</th>\n",
       "      <th>job</th>\n",
       "      <th>num_dependents</th>\n",
       "      <th>own_telephone</th>\n",
       "      <th>foreign_worker</th>\n",
       "      <th>class</th>\n",
       "    </tr>\n",
       "  </thead>\n",
       "  <tbody>\n",
       "    <tr>\n",
       "      <th>0</th>\n",
       "      <td>'&lt;0'</td>\n",
       "      <td>6</td>\n",
       "      <td>'critical/other existing credit'</td>\n",
       "      <td>radio/tv</td>\n",
       "      <td>1169</td>\n",
       "      <td>'no known savings'</td>\n",
       "      <td>'&gt;=7'</td>\n",
       "      <td>4</td>\n",
       "      <td>'male single'</td>\n",
       "      <td>none</td>\n",
       "      <td>...</td>\n",
       "      <td>'real estate'</td>\n",
       "      <td>67</td>\n",
       "      <td>none</td>\n",
       "      <td>own</td>\n",
       "      <td>2</td>\n",
       "      <td>skilled</td>\n",
       "      <td>1</td>\n",
       "      <td>yes</td>\n",
       "      <td>yes</td>\n",
       "      <td>good</td>\n",
       "    </tr>\n",
       "    <tr>\n",
       "      <th>1</th>\n",
       "      <td>'0&lt;=X&lt;200'</td>\n",
       "      <td>48</td>\n",
       "      <td>'existing paid'</td>\n",
       "      <td>radio/tv</td>\n",
       "      <td>5951</td>\n",
       "      <td>'&lt;100'</td>\n",
       "      <td>'1&lt;=X&lt;4'</td>\n",
       "      <td>2</td>\n",
       "      <td>'female div/dep/mar'</td>\n",
       "      <td>none</td>\n",
       "      <td>...</td>\n",
       "      <td>'real estate'</td>\n",
       "      <td>22</td>\n",
       "      <td>none</td>\n",
       "      <td>own</td>\n",
       "      <td>1</td>\n",
       "      <td>skilled</td>\n",
       "      <td>1</td>\n",
       "      <td>none</td>\n",
       "      <td>yes</td>\n",
       "      <td>bad</td>\n",
       "    </tr>\n",
       "    <tr>\n",
       "      <th>2</th>\n",
       "      <td>'no checking'</td>\n",
       "      <td>12</td>\n",
       "      <td>'critical/other existing credit'</td>\n",
       "      <td>education</td>\n",
       "      <td>2096</td>\n",
       "      <td>'&lt;100'</td>\n",
       "      <td>'4&lt;=X&lt;7'</td>\n",
       "      <td>2</td>\n",
       "      <td>'male single'</td>\n",
       "      <td>none</td>\n",
       "      <td>...</td>\n",
       "      <td>'real estate'</td>\n",
       "      <td>49</td>\n",
       "      <td>none</td>\n",
       "      <td>own</td>\n",
       "      <td>1</td>\n",
       "      <td>'unskilled resident'</td>\n",
       "      <td>2</td>\n",
       "      <td>none</td>\n",
       "      <td>yes</td>\n",
       "      <td>good</td>\n",
       "    </tr>\n",
       "    <tr>\n",
       "      <th>3</th>\n",
       "      <td>'&lt;0'</td>\n",
       "      <td>42</td>\n",
       "      <td>'existing paid'</td>\n",
       "      <td>furniture/equipment</td>\n",
       "      <td>7882</td>\n",
       "      <td>'&lt;100'</td>\n",
       "      <td>'4&lt;=X&lt;7'</td>\n",
       "      <td>2</td>\n",
       "      <td>'male single'</td>\n",
       "      <td>guarantor</td>\n",
       "      <td>...</td>\n",
       "      <td>'life insurance'</td>\n",
       "      <td>45</td>\n",
       "      <td>none</td>\n",
       "      <td>'for free'</td>\n",
       "      <td>1</td>\n",
       "      <td>skilled</td>\n",
       "      <td>2</td>\n",
       "      <td>none</td>\n",
       "      <td>yes</td>\n",
       "      <td>good</td>\n",
       "    </tr>\n",
       "    <tr>\n",
       "      <th>4</th>\n",
       "      <td>'&lt;0'</td>\n",
       "      <td>24</td>\n",
       "      <td>'delayed previously'</td>\n",
       "      <td>'new car'</td>\n",
       "      <td>4870</td>\n",
       "      <td>'&lt;100'</td>\n",
       "      <td>'1&lt;=X&lt;4'</td>\n",
       "      <td>3</td>\n",
       "      <td>'male single'</td>\n",
       "      <td>none</td>\n",
       "      <td>...</td>\n",
       "      <td>'no known property'</td>\n",
       "      <td>53</td>\n",
       "      <td>none</td>\n",
       "      <td>'for free'</td>\n",
       "      <td>2</td>\n",
       "      <td>skilled</td>\n",
       "      <td>2</td>\n",
       "      <td>none</td>\n",
       "      <td>yes</td>\n",
       "      <td>bad</td>\n",
       "    </tr>\n",
       "  </tbody>\n",
       "</table>\n",
       "<p>5 rows × 21 columns</p>\n",
       "</div>"
      ],
      "text/plain": [
       "  checking_status  duration                    credit_history  \\\n",
       "0            '<0'         6  'critical/other existing credit'   \n",
       "1      '0<=X<200'        48                   'existing paid'   \n",
       "2   'no checking'        12  'critical/other existing credit'   \n",
       "3            '<0'        42                   'existing paid'   \n",
       "4            '<0'        24              'delayed previously'   \n",
       "\n",
       "               purpose  credit_amount      savings_status employment  \\\n",
       "0             radio/tv           1169  'no known savings'      '>=7'   \n",
       "1             radio/tv           5951              '<100'   '1<=X<4'   \n",
       "2            education           2096              '<100'   '4<=X<7'   \n",
       "3  furniture/equipment           7882              '<100'   '4<=X<7'   \n",
       "4            'new car'           4870              '<100'   '1<=X<4'   \n",
       "\n",
       "   installment_commitment       personal_status other_parties  ...  \\\n",
       "0                       4         'male single'          none  ...   \n",
       "1                       2  'female div/dep/mar'          none  ...   \n",
       "2                       2         'male single'          none  ...   \n",
       "3                       2         'male single'     guarantor  ...   \n",
       "4                       3         'male single'          none  ...   \n",
       "\n",
       "    property_magnitude age  other_payment_plans     housing existing_credits  \\\n",
       "0        'real estate'  67                 none         own                2   \n",
       "1        'real estate'  22                 none         own                1   \n",
       "2        'real estate'  49                 none         own                1   \n",
       "3     'life insurance'  45                 none  'for free'                1   \n",
       "4  'no known property'  53                 none  'for free'                2   \n",
       "\n",
       "                    job num_dependents  own_telephone foreign_worker class  \n",
       "0               skilled              1            yes            yes  good  \n",
       "1               skilled              1           none            yes   bad  \n",
       "2  'unskilled resident'              2           none            yes  good  \n",
       "3               skilled              2           none            yes  good  \n",
       "4               skilled              2           none            yes   bad  \n",
       "\n",
       "[5 rows x 21 columns]"
      ]
     },
     "execution_count": 43,
     "metadata": {},
     "output_type": "execute_result"
    }
   ],
   "source": [
    "df = pd.read_csv('GermanCredit.csv')\n",
    "df.head()"
   ]
  },
  {
   "cell_type": "code",
   "execution_count": 44,
   "id": "d4b434ca-dc4d-4092-a946-ed9552c24668",
   "metadata": {},
   "outputs": [],
   "source": [
    "df.drop(columns=['other_parties','other_payment_plans','residence_since'], inplace=True)"
   ]
  },
  {
   "cell_type": "code",
   "execution_count": 45,
   "id": "7dd9f0ba-b638-4bb7-b460-86f99bb62c1b",
   "metadata": {},
   "outputs": [],
   "source": [
    "df.replace('\\'','', regex=True, inplace=True)"
   ]
  },
  {
   "cell_type": "code",
   "execution_count": 46,
   "id": "e06a7417-297b-430d-8b81-e633abe84e51",
   "metadata": {},
   "outputs": [],
   "source": [
    "df['checking_status'].replace({'no checking':'No Checking','<0':'Low','0<=X<200':'Medium','>=200':'High'},inplace=True)"
   ]
  },
  {
   "cell_type": "code",
   "execution_count": 47,
   "id": "29fc13cf-7ff1-4e75-81b1-70fe64462f3d",
   "metadata": {},
   "outputs": [],
   "source": [
    "df['savings_status'].replace({'no known savings':'No Savings','<100':'Low','100<=X<500':'Medium','500<=X<1000':'High','>=1000':'High'},inplace=True)"
   ]
  },
  {
   "cell_type": "code",
   "execution_count": 48,
   "id": "78fb320f-a2e1-4f99-8685-aa7a01fb188e",
   "metadata": {},
   "outputs": [],
   "source": [
    "df['employment'].replace({'unemployed':'Unemployed','<1':'Amateur','1<=X<4':'Professional','4<=X<7':'Experienced','>=7':'High'},inplace=True)"
   ]
  },
  {
   "cell_type": "code",
   "execution_count": 49,
   "id": "c1dc6558-0512-413f-a1ba-184258c52ba3",
   "metadata": {},
   "outputs": [],
   "source": [
    "df['class'].replace({'good':1,'bad':0},inplace=True)"
   ]
  },
  {
   "cell_type": "code",
   "execution_count": 50,
   "id": "a502751a-25a5-4d80-b5af-63f15c278792",
   "metadata": {},
   "outputs": [
    {
     "data": {
      "text/html": [
       "<div>\n",
       "<style scoped>\n",
       "    .dataframe tbody tr th:only-of-type {\n",
       "        vertical-align: middle;\n",
       "    }\n",
       "\n",
       "    .dataframe tbody tr th {\n",
       "        vertical-align: top;\n",
       "    }\n",
       "\n",
       "    .dataframe thead th {\n",
       "        text-align: right;\n",
       "    }\n",
       "</style>\n",
       "<table border=\"1\" class=\"dataframe\">\n",
       "  <thead>\n",
       "    <tr style=\"text-align: right;\">\n",
       "      <th></th>\n",
       "      <th>checking_status</th>\n",
       "      <th>duration</th>\n",
       "      <th>credit_history</th>\n",
       "      <th>purpose</th>\n",
       "      <th>credit_amount</th>\n",
       "      <th>savings_status</th>\n",
       "      <th>employment</th>\n",
       "      <th>installment_commitment</th>\n",
       "      <th>personal_status</th>\n",
       "      <th>property_magnitude</th>\n",
       "      <th>age</th>\n",
       "      <th>housing</th>\n",
       "      <th>existing_credits</th>\n",
       "      <th>job</th>\n",
       "      <th>num_dependents</th>\n",
       "      <th>own_telephone</th>\n",
       "      <th>foreign_worker</th>\n",
       "      <th>class</th>\n",
       "    </tr>\n",
       "  </thead>\n",
       "  <tbody>\n",
       "    <tr>\n",
       "      <th>0</th>\n",
       "      <td>Low</td>\n",
       "      <td>6</td>\n",
       "      <td>critical/other existing credit</td>\n",
       "      <td>radio/tv</td>\n",
       "      <td>1169</td>\n",
       "      <td>No Savings</td>\n",
       "      <td>High</td>\n",
       "      <td>4</td>\n",
       "      <td>male single</td>\n",
       "      <td>real estate</td>\n",
       "      <td>67</td>\n",
       "      <td>own</td>\n",
       "      <td>2</td>\n",
       "      <td>skilled</td>\n",
       "      <td>1</td>\n",
       "      <td>yes</td>\n",
       "      <td>yes</td>\n",
       "      <td>1</td>\n",
       "    </tr>\n",
       "    <tr>\n",
       "      <th>1</th>\n",
       "      <td>Medium</td>\n",
       "      <td>48</td>\n",
       "      <td>existing paid</td>\n",
       "      <td>radio/tv</td>\n",
       "      <td>5951</td>\n",
       "      <td>Low</td>\n",
       "      <td>Professional</td>\n",
       "      <td>2</td>\n",
       "      <td>female div/dep/mar</td>\n",
       "      <td>real estate</td>\n",
       "      <td>22</td>\n",
       "      <td>own</td>\n",
       "      <td>1</td>\n",
       "      <td>skilled</td>\n",
       "      <td>1</td>\n",
       "      <td>none</td>\n",
       "      <td>yes</td>\n",
       "      <td>0</td>\n",
       "    </tr>\n",
       "    <tr>\n",
       "      <th>2</th>\n",
       "      <td>No Checking</td>\n",
       "      <td>12</td>\n",
       "      <td>critical/other existing credit</td>\n",
       "      <td>education</td>\n",
       "      <td>2096</td>\n",
       "      <td>Low</td>\n",
       "      <td>Experienced</td>\n",
       "      <td>2</td>\n",
       "      <td>male single</td>\n",
       "      <td>real estate</td>\n",
       "      <td>49</td>\n",
       "      <td>own</td>\n",
       "      <td>1</td>\n",
       "      <td>unskilled resident</td>\n",
       "      <td>2</td>\n",
       "      <td>none</td>\n",
       "      <td>yes</td>\n",
       "      <td>1</td>\n",
       "    </tr>\n",
       "    <tr>\n",
       "      <th>3</th>\n",
       "      <td>Low</td>\n",
       "      <td>42</td>\n",
       "      <td>existing paid</td>\n",
       "      <td>furniture/equipment</td>\n",
       "      <td>7882</td>\n",
       "      <td>Low</td>\n",
       "      <td>Experienced</td>\n",
       "      <td>2</td>\n",
       "      <td>male single</td>\n",
       "      <td>life insurance</td>\n",
       "      <td>45</td>\n",
       "      <td>for free</td>\n",
       "      <td>1</td>\n",
       "      <td>skilled</td>\n",
       "      <td>2</td>\n",
       "      <td>none</td>\n",
       "      <td>yes</td>\n",
       "      <td>1</td>\n",
       "    </tr>\n",
       "    <tr>\n",
       "      <th>4</th>\n",
       "      <td>Low</td>\n",
       "      <td>24</td>\n",
       "      <td>delayed previously</td>\n",
       "      <td>new car</td>\n",
       "      <td>4870</td>\n",
       "      <td>Low</td>\n",
       "      <td>Professional</td>\n",
       "      <td>3</td>\n",
       "      <td>male single</td>\n",
       "      <td>no known property</td>\n",
       "      <td>53</td>\n",
       "      <td>for free</td>\n",
       "      <td>2</td>\n",
       "      <td>skilled</td>\n",
       "      <td>2</td>\n",
       "      <td>none</td>\n",
       "      <td>yes</td>\n",
       "      <td>0</td>\n",
       "    </tr>\n",
       "  </tbody>\n",
       "</table>\n",
       "</div>"
      ],
      "text/plain": [
       "  checking_status  duration                  credit_history  \\\n",
       "0             Low         6  critical/other existing credit   \n",
       "1          Medium        48                   existing paid   \n",
       "2     No Checking        12  critical/other existing credit   \n",
       "3             Low        42                   existing paid   \n",
       "4             Low        24              delayed previously   \n",
       "\n",
       "               purpose  credit_amount savings_status    employment  \\\n",
       "0             radio/tv           1169     No Savings          High   \n",
       "1             radio/tv           5951            Low  Professional   \n",
       "2            education           2096            Low   Experienced   \n",
       "3  furniture/equipment           7882            Low   Experienced   \n",
       "4              new car           4870            Low  Professional   \n",
       "\n",
       "   installment_commitment     personal_status property_magnitude  age  \\\n",
       "0                       4         male single        real estate   67   \n",
       "1                       2  female div/dep/mar        real estate   22   \n",
       "2                       2         male single        real estate   49   \n",
       "3                       2         male single     life insurance   45   \n",
       "4                       3         male single  no known property   53   \n",
       "\n",
       "    housing  existing_credits                 job  num_dependents  \\\n",
       "0       own                 2             skilled               1   \n",
       "1       own                 1             skilled               1   \n",
       "2       own                 1  unskilled resident               2   \n",
       "3  for free                 1             skilled               2   \n",
       "4  for free                 2             skilled               2   \n",
       "\n",
       "  own_telephone foreign_worker  class  \n",
       "0           yes            yes      1  \n",
       "1          none            yes      0  \n",
       "2          none            yes      1  \n",
       "3          none            yes      1  \n",
       "4          none            yes      0  "
      ]
     },
     "execution_count": 50,
     "metadata": {},
     "output_type": "execute_result"
    }
   ],
   "source": [
    "df.head()"
   ]
  },
  {
   "cell_type": "code",
   "execution_count": 51,
   "id": "fe530ff2-b623-4d00-9a46-9544de84e6a3",
   "metadata": {},
   "outputs": [
    {
     "data": {
      "text/plain": [
       "foreign_worker  class\n",
       "no              1         33\n",
       "                0          4\n",
       "yes             1        667\n",
       "                0        296\n",
       "Name: class, dtype: int64"
      ]
     },
     "execution_count": 51,
     "metadata": {},
     "output_type": "execute_result"
    }
   ],
   "source": [
    "df.groupby('foreign_worker')['class'].value_counts()"
   ]
  },
  {
   "cell_type": "code",
   "execution_count": 52,
   "id": "368bb581-0fad-4b57-b2b5-b616b2dea15e",
   "metadata": {},
   "outputs": [
    {
     "data": {
      "text/plain": [
       "employment    savings_status\n",
       "Amateur       Low               120\n",
       "              No Savings         23\n",
       "              Medium             17\n",
       "              High               12\n",
       "Experienced   Low               100\n",
       "              No Savings         32\n",
       "              Medium             24\n",
       "              High               18\n",
       "High          Low               133\n",
       "              No Savings         64\n",
       "              High               34\n",
       "              Medium             22\n",
       "Professional  Low               210\n",
       "              No Savings         52\n",
       "              High               44\n",
       "              Medium             33\n",
       "Unemployed    Low                40\n",
       "              No Savings         12\n",
       "              Medium              7\n",
       "              High                3\n",
       "Name: savings_status, dtype: int64"
      ]
     },
     "execution_count": 52,
     "metadata": {},
     "output_type": "execute_result"
    }
   ],
   "source": [
    "df.groupby('employment')['savings_status'].value_counts()"
   ]
  },
  {
   "cell_type": "code",
   "execution_count": 53,
   "id": "e469d7d7-ca32-48e9-9db1-b92d56615252",
   "metadata": {},
   "outputs": [
    {
     "data": {
      "text/plain": [
       "4142.592592592592"
      ]
     },
     "execution_count": 53,
     "metadata": {},
     "output_type": "execute_result"
    }
   ],
   "source": [
    "emp = df.loc[df['employment']=='Experienced']\n",
    "\n",
    "male = emp.loc[emp['personal_status']=='male single']\n",
    "\n",
    "male['credit_amount'].mean()"
   ]
  },
  {
   "cell_type": "code",
   "execution_count": 54,
   "id": "54a47c54-228f-42e6-bce6-5438ceb942cc",
   "metadata": {},
   "outputs": [
    {
     "data": {
      "text/plain": [
       "job\n",
       "high qualif/self emp/mgmt    25.168919\n",
       "skilled                      21.411111\n",
       "unemp/unskilled non res      17.363636\n",
       "unskilled resident           16.535000\n",
       "Name: duration, dtype: float64"
      ]
     },
     "execution_count": 54,
     "metadata": {},
     "output_type": "execute_result"
    }
   ],
   "source": [
    "df.groupby('job')['duration'].mean()"
   ]
  },
  {
   "cell_type": "code",
   "execution_count": 55,
   "id": "84a9229a-4531-4996-bb28-7144f92595a0",
   "metadata": {},
   "outputs": [
    {
     "name": "stdout",
     "output_type": "stream",
     "text": [
      "The most common checking status:  No Checking    20\n",
      "Name: checking_status, dtype: int64\n",
      "The most common savings status:  Low    30\n",
      "Name: savings_status, dtype: int64\n"
     ]
    }
   ],
   "source": [
    "edu = df.loc[df['purpose']=='education']\n",
    "\n",
    "status = edu['checking_status'].value_counts().head(1)\n",
    "print('The most common checking status: ',status)\n",
    "\n",
    "savings = edu['savings_status'].value_counts().head(1)\n",
    "print('The most common savings status: ',savings)"
   ]
  },
  {
   "cell_type": "code",
   "execution_count": 56,
   "id": "4928f541-ed34-4904-b1f3-165cc3582ea9",
   "metadata": {},
   "outputs": [
    {
     "data": {
      "image/png": "[encoded data removed]",
      "text/plain": [
       "<Figure size 720x360 with 4 Axes>"
      ]
     },
     "metadata": {
      "needs_background": "light"
     },
     "output_type": "display_data"
    },
    {
     "data": {
      "image/png": "[encoded data removed]",
      "text/plain": [
       "<Figure size 720x360 with 4 Axes>"
      ]
     },
     "metadata": {
      "needs_background": "light"
     },
     "output_type": "display_data"
    }
   ],
   "source": [
    "fig, axes = plt.subplots(4, figsize=(10, 5), sharex=True, sharey = True)\n",
    "\n",
    "fig.suptitle('Savings & Personal Status', fontsize = 12)\n",
    "df1 = df.groupby('savings_status')['personal_status'].value_counts()\n",
    "arr = ['male single', 'female div/dep/mar', 'male mar/wid', 'male div/sep']\n",
    "nosav = df1['No Savings']\n",
    "losav = df1['Low']\n",
    "midsav = df1['Medium']\n",
    "hisav = df1['High']\n",
    "plt.xlabel('Savings Status', ha ='center')\n",
    "axes[2].set_ylabel('Personal Status', ha ='left')\n",
    "axes[0].barh(arr, nosav, color = 'red')\n",
    "axes[1].barh(arr, losav, color = 'yellow')\n",
    "axes[2].barh(arr, midsav, color = 'blue')\n",
    "axes[3].barh(arr, hisav, color = 'green')\n",
    "plt.xticks(rotation=0)\n",
    "\n",
    "fig, axes = plt.subplots(4, figsize=(10, 5), sharex=True, sharey = True)\n",
    "\n",
    "fig.suptitle('Checking & Personal Status', fontsize = 12)\n",
    "df2 = df.groupby('checking_status')['personal_status'].value_counts()\n",
    "arr = ['male single', 'female div/dep/mar', 'male mar/wid', 'male div/sep']\n",
    "noche = df2['No Checking']\n",
    "loche = df2['Low']\n",
    "midche = df2['Medium']\n",
    "hiche = df2['High']\n",
    "plt.xlabel('Checking status', ha ='center')\n",
    "axes[2].set_ylabel('Personal Status', ha ='left')\n",
    "axes[0].barh(arr, noche, color = 'red')\n",
    "axes[1].barh(arr, loche, color = 'yellow')\n",
    "axes[2].barh(arr, midche, color = 'blue')\n",
    "axes[3].barh(arr, hiche, color = 'green')\n",
    "plt.xticks(rotation=0)\n",
    "\n",
    "plt.show()"
   ]
  },
  {
   "cell_type": "code",
   "execution_count": 57,
   "id": "1f98af03-9c58-4328-bb0b-77ff5f04568e",
   "metadata": {},
   "outputs": [
    {
     "data": {
      "text/plain": [
       "Text(0, 0.5, 'Average customer age')"
      ]
     },
     "execution_count": 57,
     "metadata": {},
     "output_type": "execute_result"
    },
    {
     "data": {
      "image/png": "[encoded data removed]",
      "text/plain": [
       "<Figure size 864x720 with 1 Axes>"
      ]
     },
     "metadata": {
      "needs_background": "light"
     },
     "output_type": "display_data"
    }
   ],
   "source": [
    "credit = df[df['credit_amount']>4000]\n",
    "plt.figure(figsize=(12,10))\n",
    "plt.bar(credit['property_magnitude'],credit['age'])\n",
    "plt.title('Property_magnitude and customer age')\n",
    "plt.xlabel('Property magnitude')\n",
    "plt.ylabel('Average customer age')"
   ]
  },
  {
   "cell_type": "code",
   "execution_count": 58,
   "id": "ef0d5c45-35f3-4ce6-a1f7-612ce565ba8c",
   "metadata": {},
   "outputs": [
    {
     "data": {
      "image/png": "[encoded data removed]",
      "text/plain": [
       "<Figure size 1080x360 with 3 Axes>"
      ]
     },
     "metadata": {},
     "output_type": "display_data"
    }
   ],
   "source": [
    "age = df[df['age']>40]\n",
    "savings = age[age['savings_status']=='High']\n",
    "\n",
    "fig, axes = plt.subplots(1, 3, figsize=(15, 5))\n",
    "\n",
    "axes[0].pie(savings['personal_status'].value_counts(), autopct = '%.1f%%')\n",
    "axes[0].set_title('Personal status', fontsize = 12)\n",
    "\n",
    "axes[1].pie(savings['job'].value_counts(), autopct = '%.1f%%')\n",
    "axes[1].set_title('Savings', fontsize = 12)\n",
    "\n",
    "axes[2].pie(savings['credit_history'].value_counts(), autopct = '%.1f%%')\n",
    "axes[2].set_title('Credit history', fontsize = 12)\n",
    "\n",
    "plt.show()"
   ]
  },
  {
   "cell_type": "code",
   "execution_count": null,
   "id": "655d289f-f524-4d81-9eb8-bb28e24873f0",
   "metadata": {},
   "outputs": [],
   "source": []
  }
 ],
 "metadata": {
  "kernelspec": {
   "display_name": "Python 3 (ipykernel)",
   "language": "python",
   "name": "python3"
  },
  "language_info": {
   "codemirror_mode": {
    "name": "ipython",
    "version": 3
   },
   "file_extension": ".py",
   "mimetype": "text/x-python",
   "name": "python",
   "nbconvert_exporter": "python",
   "pygments_lexer": "ipython3",
   "version": "3.9.7"
  }
 },
 "nbformat": 4,
 "nbformat_minor": 5
}
