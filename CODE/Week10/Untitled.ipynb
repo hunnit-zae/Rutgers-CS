{
 "cells": [
  {
   "cell_type": "markdown",
   "id": "b1444476-7aaa-4f26-827d-10b00c5a432b",
   "metadata": {},
   "source": [
    "Databases Continued"
   ]
  },
  {
   "cell_type": "code",
   "execution_count": 1,
   "id": "4831c0ae-367d-4a68-a7fc-315cd3df06fc",
   "metadata": {},
   "outputs": [],
   "source": [
    "import mysql.connector"
   ]
  },
  {
   "cell_type": "code",
   "execution_count": 3,
   "id": "6923bdbe-765f-4fe9-909d-93ad155b5366",
   "metadata": {},
   "outputs": [
    {
     "ename": "SyntaxError",
     "evalue": "invalid syntax (Temp/ipykernel_9456/2482405864.py, line 3)",
     "output_type": "error",
     "traceback": [
      "\u001b[1;36m  File \u001b[1;32m\"C:\\Users\\BAEKGE~1\\AppData\\Local\\Temp/ipykernel_9456/2482405864.py\"\u001b[1;36m, line \u001b[1;32m3\u001b[0m\n\u001b[1;33m    user='baek'\u001b[0m\n\u001b[1;37m    ^\u001b[0m\n\u001b[1;31mSyntaxError\u001b[0m\u001b[1;31m:\u001b[0m invalid syntax\n"
     ]
    }
   ],
   "source": [
    "mydb = mysql.connector.connect(\n",
    "    host='localhost'\n",
    "    user='baek'\n",
    "    passwd='baek'\n",
    "    databased='nobels'\n",
    ")"
   ]
  },
  {
   "cell_type": "code",
   "execution_count": null,
   "id": "dcde3539-6064-467b-aee6-1d36da7eda09",
   "metadata": {},
   "outputs": [],
   "source": [
    "import sys\n",
    "\n",
    "prev_year= 0 \n",
    "prev_cat = ''\n",
    "prev_motiv = ''\n",
    "for prize in nobels['prizes']:\n",
    "    if not 'lan"
   ]
  }
 ],
 "metadata": {
  "kernelspec": {
   "display_name": "Python 3 (ipykernel)",
   "language": "python",
   "name": "python3"
  },
  "language_info": {
   "codemirror_mode": {
    "name": "ipython",
    "version": 3
   },
   "file_extension": ".py",
   "mimetype": "text/x-python",
   "name": "python",
   "nbconvert_exporter": "python",
   "pygments_lexer": "ipython3",
   "version": "3.9.7"
  }
 },
 "nbformat": 4,
 "nbformat_minor": 5
}
