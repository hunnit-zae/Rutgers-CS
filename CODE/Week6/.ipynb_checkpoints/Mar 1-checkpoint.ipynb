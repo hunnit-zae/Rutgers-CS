{
 "cells": [
  {
   "cell_type": "markdown",
   "id": "92f33fe3-5624-4abb-bc83-eefd9e273fae",
   "metadata": {},
   "source": [
    "#### DictReader"
   ]
  },
  {
   "cell_type": "code",
   "execution_count": 3,
   "id": "a24f3586-6662-423e-98a4-d7b6e1266de5",
   "metadata": {},
   "outputs": [],
   "source": [
    "import csv"
   ]
  },
  {
   "cell_type": "code",
   "execution_count": 5,
   "id": "d07c2f9e-64d2-4c1b-a2cc-b71ad9d3301e",
   "metadata": {},
   "outputs": [
    {
     "name": "stdout",
     "output_type": "stream",
     "text": [
      "{'mpg': '18.0', 'cylinders': '8.', 'displacement': '307.0', 'horsepower': '130.0', 'weight': '3504.', 'acceleration': '12.0', 'model year': '70.', 'origin': '1.', 'car name': 'chevrolet chevelle malibu'}\n",
      "{'mpg': '15.0', 'cylinders': '8.', 'displacement': '350.0', 'horsepower': '165.0', 'weight': '3693.', 'acceleration': '11.5', 'model year': '70.', 'origin': '1.', 'car name': 'buick skylark 320'}\n",
      "{'mpg': '18.0', 'cylinders': '8.', 'displacement': '318.0', 'horsepower': '150.0', 'weight': '3436.', 'acceleration': '11.0', 'model year': '70.', 'origin': '1.', 'car name': 'plymouth satellite'}\n",
      "{'mpg': '16.0', 'cylinders': '8.', 'displacement': '304.0', 'horsepower': '150.0', 'weight': '3433.', 'acceleration': '12.0', 'model year': '70.', 'origin': '1.', 'car name': 'amc rebel sst'}\n",
      "{'mpg': '17.0', 'cylinders': '8.', 'displacement': '302.0', 'horsepower': '140.0', 'weight': '3449.', 'acceleration': '10.5', 'model year': '70.', 'origin': '1.', 'car name': 'ford torino'}\n"
     ]
    }
   ],
   "source": [
    "reader = csv.DictReader(open('auto_mpg_original.csv'))\n",
    "for index, row in enumerate(reader):\n",
    "    print(row)\n",
    "    if index > 3:\n",
    "        break"
   ]
  },
  {
   "cell_type": "code",
   "execution_count": 10,
   "id": "284402df-9442-467f-a45d-8e2f6996b0c9",
   "metadata": {},
   "outputs": [
    {
     "name": "stdout",
     "output_type": "stream",
     "text": [
      "['mpg', 'cylinders', 'displacement', 'horsepower', 'weight', 'acceleration', 'model year', 'origin', 'car name']\n",
      "mpg,cylinders,displacement,horsepower,weight,acceleration,model year,origin,car name\n",
      "NA,4.,133.0,115.0,3090.,17.5,70.,2.,\"citroen ds-21 pallas\"\n",
      "NA,8.,350.0,165.0,4142.,11.5,70.,1.,\"chevrolet chevelle concours (sw)\"\n",
      "NA,8.,351.0,153.0,4034.,11.0,70.,1.,\"ford torino (sw)\"\n",
      "NA,8.,383.0,175.0,4166.,10.5,70.,1.,\"plymouth satellite (sw)\"\n",
      "NA,8.,360.0,175.0,3850.,11.0,70.,1.,\"amc rebel sst (sw)\"\n",
      "NA,8.,302.0,140.0,3353.,8.0,70.,1.,\"ford mustang boss 302\"\n",
      "25.0,4.,98.00,NA,2046.,19.0,71.,1.,\"ford pinto\"\n",
      "NA,4.,97.00,48.00,1978.,20.0,71.,2.,\"volkswagen super beetle 117\"\n",
      "21.0,6.,200.0,NA,2875.,17.0,74.,1.,\"ford maverick\"\n",
      "40.9,4.,85.00,NA,1835.,17.3,80.,2.,\"renault lecar deluxe\"\n",
      "23.6,4.,140.0,NA,2905.,14.3,80.,1.,\"ford mustang cobra\"\n",
      "34.5,4.,100.0,NA,2320.,15.8,81.,2.,\"renault 18i\"\n",
      "NA,4.,121.0,110.0,2800.,15.4,81.,2.,\"saab 900s\"\n",
      "23.0,4.,151.0,NA,3035.,20.5,82.,1.,\"amc concord dl\"\n"
     ]
    }
   ],
   "source": [
    "# Using fieldnames and values\n",
    "reader = csv.DictReader(open('auto_mpg_original.csv'))\n",
    "print(reader.fieldnames)                                  # fieldmanes is a reader property\n",
    "print(','.join(reader.fieldnames))\n",
    "for row in reader:\n",
    "    values = list(row.values())                           # row.values is dict so make it to list\n",
    "    if 'NA' in values:\n",
    "        values[-1] = '\"' + values[-1] + '\"'\n",
    "        print(','.join(values)) "
   ]
  },
  {
   "cell_type": "code",
   "execution_count": 15,
   "id": "2a7c2944-a7d0-421a-a471-9e1766d2ae66",
   "metadata": {},
   "outputs": [
    {
     "ename": "TypeError",
     "evalue": "can only join an iterable",
     "output_type": "error",
     "traceback": [
      "\u001b[1;31m---------------------------------------------------------------------------\u001b[0m",
      "\u001b[1;31mTypeError\u001b[0m                                 Traceback (most recent call last)",
      "\u001b[1;32mC:\\Users\\BAEKGE~1\\AppData\\Local\\Temp/ipykernel_4052/1504552872.py\u001b[0m in \u001b[0;36m<module>\u001b[1;34m\u001b[0m\n\u001b[0;32m      2\u001b[0m \u001b[0mreader\u001b[0m \u001b[1;33m=\u001b[0m \u001b[0mcsv\u001b[0m\u001b[1;33m.\u001b[0m\u001b[0mDictReader\u001b[0m\u001b[1;33m(\u001b[0m\u001b[0mopen\u001b[0m\u001b[1;33m(\u001b[0m\u001b[1;34m'auto_mpg_original.csv'\u001b[0m\u001b[1;33m)\u001b[0m\u001b[1;33m)\u001b[0m\u001b[1;33m\u001b[0m\u001b[1;33m\u001b[0m\u001b[0m\n\u001b[0;32m      3\u001b[0m \u001b[1;32mwith\u001b[0m \u001b[0mopen\u001b[0m\u001b[1;33m(\u001b[0m\u001b[1;34m'auto_mpg_original.csv'\u001b[0m\u001b[1;33m,\u001b[0m \u001b[1;34m'w'\u001b[0m\u001b[1;33m)\u001b[0m \u001b[1;32mas\u001b[0m \u001b[0mcsvfile\u001b[0m\u001b[1;33m:\u001b[0m\u001b[1;33m\u001b[0m\u001b[1;33m\u001b[0m\u001b[0m\n\u001b[1;32m----> 4\u001b[1;33m     \u001b[0mcsvfile\u001b[0m\u001b[1;33m.\u001b[0m\u001b[0mwrite\u001b[0m\u001b[1;33m(\u001b[0m\u001b[1;34m','\u001b[0m\u001b[1;33m.\u001b[0m\u001b[0mjoin\u001b[0m\u001b[1;33m(\u001b[0m\u001b[0mreader\u001b[0m\u001b[1;33m.\u001b[0m\u001b[0mfieldnames\u001b[0m\u001b[1;33m)\u001b[0m \u001b[1;33m+\u001b[0m \u001b[1;34m'\\n'\u001b[0m\u001b[1;33m)\u001b[0m\u001b[1;33m\u001b[0m\u001b[1;33m\u001b[0m\u001b[0m\n\u001b[0m\u001b[0;32m      5\u001b[0m     \u001b[1;32mfor\u001b[0m \u001b[0mrow\u001b[0m \u001b[1;32min\u001b[0m \u001b[0mreader\u001b[0m\u001b[1;33m:\u001b[0m\u001b[1;33m\u001b[0m\u001b[1;33m\u001b[0m\u001b[0m\n\u001b[0;32m      6\u001b[0m         \u001b[1;32mif\u001b[0m \u001b[1;34m'NA'\u001b[0m \u001b[1;32min\u001b[0m \u001b[0mvalues\u001b[0m\u001b[1;33m(\u001b[0m\u001b[1;33m)\u001b[0m\u001b[1;33m:\u001b[0m\u001b[1;33m\u001b[0m\u001b[1;33m\u001b[0m\u001b[0m\n",
      "\u001b[1;31mTypeError\u001b[0m: can only join an iterable"
     ]
    }
   ],
   "source": [
    "# write cleaned up version in csv file\n",
    "reader = csv.DictReader(open('auto_mpg_original.csv'))\n",
    "with open('auto_mpg_original.csv', 'w') as csvfile:\n",
    "    csvfile.write(','.join(reader.fieldnames) + '\\n')\n",
    "    for row in reader:\n",
    "        if 'NA' in values():\n",
    "            continue\n",
    "        values = list(row.values())    \n",
    "        csvfile.write(','.join(values) + '\\n')"
   ]
  },
  {
   "cell_type": "code",
   "execution_count": 24,
   "id": "13889927-37d0-49c3-a989-45427e4d4dad",
   "metadata": {},
   "outputs": [
    {
     "ename": "TypeError",
     "evalue": "'NoneType' object is not iterable",
     "output_type": "error",
     "traceback": [
      "\u001b[1;31m---------------------------------------------------------------------------\u001b[0m",
      "\u001b[1;31mTypeError\u001b[0m                                 Traceback (most recent call last)",
      "\u001b[1;32mC:\\Users\\BAEKGE~1\\AppData\\Local\\Temp/ipykernel_4052/3683190506.py\u001b[0m in \u001b[0;36m<module>\u001b[1;34m\u001b[0m\n\u001b[0;32m      2\u001b[0m \u001b[1;32mwith\u001b[0m \u001b[0mopen\u001b[0m\u001b[1;33m(\u001b[0m\u001b[1;34m'auto_mpg_original.csv'\u001b[0m\u001b[1;33m,\u001b[0m \u001b[1;34m'w'\u001b[0m\u001b[1;33m)\u001b[0m \u001b[1;32mas\u001b[0m \u001b[0mcsvfile\u001b[0m\u001b[1;33m:\u001b[0m\u001b[1;33m\u001b[0m\u001b[1;33m\u001b[0m\u001b[0m\n\u001b[0;32m      3\u001b[0m     \u001b[0mwriter\u001b[0m \u001b[1;33m=\u001b[0m \u001b[0mcsv\u001b[0m\u001b[1;33m.\u001b[0m\u001b[0mDictWriter\u001b[0m\u001b[1;33m(\u001b[0m\u001b[0mcsvfile\u001b[0m\u001b[1;33m,\u001b[0m\u001b[0mfieldnames\u001b[0m \u001b[1;33m=\u001b[0m \u001b[0mreader\u001b[0m\u001b[1;33m.\u001b[0m\u001b[0mfieldnames\u001b[0m\u001b[1;33m,\u001b[0m \u001b[0mdelimiter\u001b[0m \u001b[1;33m=\u001b[0m \u001b[1;34m'\\t'\u001b[0m\u001b[1;33m)\u001b[0m\u001b[1;33m\u001b[0m\u001b[1;33m\u001b[0m\u001b[0m\n\u001b[1;32m----> 4\u001b[1;33m     \u001b[0mwriter\u001b[0m\u001b[1;33m.\u001b[0m\u001b[0mwriteheader\u001b[0m\u001b[1;33m(\u001b[0m\u001b[1;33m)\u001b[0m\u001b[1;33m\u001b[0m\u001b[1;33m\u001b[0m\u001b[0m\n\u001b[0m\u001b[0;32m      5\u001b[0m \u001b[1;33m\u001b[0m\u001b[0m\n\u001b[0;32m      6\u001b[0m     \u001b[1;32mfor\u001b[0m \u001b[0mrow\u001b[0m \u001b[1;32min\u001b[0m \u001b[0mreader\u001b[0m\u001b[1;33m:\u001b[0m\u001b[1;33m\u001b[0m\u001b[1;33m\u001b[0m\u001b[0m\n",
      "\u001b[1;32mC:\\ProgramData\\Anaconda3\\Lib\\csv.py\u001b[0m in \u001b[0;36mwriteheader\u001b[1;34m(self)\u001b[0m\n\u001b[0;32m    140\u001b[0m \u001b[1;33m\u001b[0m\u001b[0m\n\u001b[0;32m    141\u001b[0m     \u001b[1;32mdef\u001b[0m \u001b[0mwriteheader\u001b[0m\u001b[1;33m(\u001b[0m\u001b[0mself\u001b[0m\u001b[1;33m)\u001b[0m\u001b[1;33m:\u001b[0m\u001b[1;33m\u001b[0m\u001b[1;33m\u001b[0m\u001b[0m\n\u001b[1;32m--> 142\u001b[1;33m         \u001b[0mheader\u001b[0m \u001b[1;33m=\u001b[0m \u001b[0mdict\u001b[0m\u001b[1;33m(\u001b[0m\u001b[0mzip\u001b[0m\u001b[1;33m(\u001b[0m\u001b[0mself\u001b[0m\u001b[1;33m.\u001b[0m\u001b[0mfieldnames\u001b[0m\u001b[1;33m,\u001b[0m \u001b[0mself\u001b[0m\u001b[1;33m.\u001b[0m\u001b[0mfieldnames\u001b[0m\u001b[1;33m)\u001b[0m\u001b[1;33m)\u001b[0m\u001b[1;33m\u001b[0m\u001b[1;33m\u001b[0m\u001b[0m\n\u001b[0m\u001b[0;32m    143\u001b[0m         \u001b[1;32mreturn\u001b[0m \u001b[0mself\u001b[0m\u001b[1;33m.\u001b[0m\u001b[0mwriterow\u001b[0m\u001b[1;33m(\u001b[0m\u001b[0mheader\u001b[0m\u001b[1;33m)\u001b[0m\u001b[1;33m\u001b[0m\u001b[1;33m\u001b[0m\u001b[0m\n\u001b[0;32m    144\u001b[0m \u001b[1;33m\u001b[0m\u001b[0m\n",
      "\u001b[1;31mTypeError\u001b[0m: 'NoneType' object is not iterable"
     ]
    }
   ],
   "source": [
    "reader = csv.DictReader(open('auto_mpg_original.csv'))\n",
    "with open('auto_mpg_original.csv', 'w') as csvfile:\n",
    "    writer = csv.DictWriter(csvfile, fieldnames = reader.fieldnames, delimiter = '\\t')\n",
    "    writer.writeheader()\n",
    "                           \n",
    "    for row in reader:\n",
    "        if 'NA' in values():\n",
    "            continue\n",
    "        writer.writerow(row)"
   ]
  },
  {
   "cell_type": "markdown",
   "id": "a522c153-75d6-4957-a5e4-fcac37fa30ca",
   "metadata": {},
   "source": [
    "### JSON"
   ]
  },
  {
   "cell_type": "code",
   "execution_count": 26,
   "id": "c8843148-9c55-4031-a1a9-2f7735497765",
   "metadata": {},
   "outputs": [],
   "source": [
    "import json"
   ]
  },
  {
   "cell_type": "code",
   "execution_count": 30,
   "id": "1b24de13-ed97-4530-ad41-cb6d051d1e8c",
   "metadata": {},
   "outputs": [
    {
     "name": "stdout",
     "output_type": "stream",
     "text": [
      "{'hill center': 'Busch', 'AB': 'College Ave'}\n",
      "dict_keys(['hill center', 'AB'])\n",
      "dict_values(['Busch', 'College Ave'])\n"
     ]
    }
   ],
   "source": [
    "json1 = '{\"hill center\":\"Busch\", \"AB\":\"College Ave\"}'                   #JSON string is only signle quote\n",
    "# load this into Python\n",
    "dict1 = json.loads(json1)\n",
    "print(dict1)\n",
    "print(dict1.keys())\n",
    "print(dict1.values())"
   ]
  },
  {
   "cell_type": "code",
   "execution_count": 31,
   "id": "de374a36-9220-4ce6-919b-ec2507d6956b",
   "metadata": {},
   "outputs": [
    {
     "ename": "TypeError",
     "evalue": "the JSON object must be str, bytes or bytearray, not dict",
     "output_type": "error",
     "traceback": [
      "\u001b[1;31m---------------------------------------------------------------------------\u001b[0m",
      "\u001b[1;31mTypeError\u001b[0m                                 Traceback (most recent call last)",
      "\u001b[1;32mC:\\Users\\BAEKGE~1\\AppData\\Local\\Temp/ipykernel_4052/1979085920.py\u001b[0m in \u001b[0;36m<module>\u001b[1;34m\u001b[0m\n\u001b[0;32m      1\u001b[0m \u001b[0mjson1\u001b[0m \u001b[1;33m=\u001b[0m \u001b[1;33m{\u001b[0m\u001b[1;34m\"hill center\"\u001b[0m\u001b[1;33m:\u001b[0m\u001b[1;34m\"Busch\"\u001b[0m\u001b[1;33m,\u001b[0m \u001b[1;34m\"AB\"\u001b[0m\u001b[1;33m:\u001b[0m\u001b[1;34m\"College Ave\"\u001b[0m\u001b[1;33m}\u001b[0m\u001b[1;33m\u001b[0m\u001b[1;33m\u001b[0m\u001b[0m\n\u001b[0;32m      2\u001b[0m \u001b[1;31m# load this into Python\u001b[0m\u001b[1;33m\u001b[0m\u001b[1;33m\u001b[0m\u001b[1;33m\u001b[0m\u001b[0m\n\u001b[1;32m----> 3\u001b[1;33m \u001b[0mdict1\u001b[0m \u001b[1;33m=\u001b[0m \u001b[0mjson\u001b[0m\u001b[1;33m.\u001b[0m\u001b[0mloads\u001b[0m\u001b[1;33m(\u001b[0m\u001b[0mjson1\u001b[0m\u001b[1;33m)\u001b[0m\u001b[1;33m\u001b[0m\u001b[1;33m\u001b[0m\u001b[0m\n\u001b[0m",
      "\u001b[1;32mC:\\ProgramData\\Anaconda3\\Lib\\json\\__init__.py\u001b[0m in \u001b[0;36mloads\u001b[1;34m(s, cls, object_hook, parse_float, parse_int, parse_constant, object_pairs_hook, **kw)\u001b[0m\n\u001b[0;32m    339\u001b[0m     \u001b[1;32melse\u001b[0m\u001b[1;33m:\u001b[0m\u001b[1;33m\u001b[0m\u001b[1;33m\u001b[0m\u001b[0m\n\u001b[0;32m    340\u001b[0m         \u001b[1;32mif\u001b[0m \u001b[1;32mnot\u001b[0m \u001b[0misinstance\u001b[0m\u001b[1;33m(\u001b[0m\u001b[0ms\u001b[0m\u001b[1;33m,\u001b[0m \u001b[1;33m(\u001b[0m\u001b[0mbytes\u001b[0m\u001b[1;33m,\u001b[0m \u001b[0mbytearray\u001b[0m\u001b[1;33m)\u001b[0m\u001b[1;33m)\u001b[0m\u001b[1;33m:\u001b[0m\u001b[1;33m\u001b[0m\u001b[1;33m\u001b[0m\u001b[0m\n\u001b[1;32m--> 341\u001b[1;33m             raise TypeError(f'the JSON object must be str, bytes or bytearray, '\n\u001b[0m\u001b[0;32m    342\u001b[0m                             f'not {s.__class__.__name__}')\n\u001b[0;32m    343\u001b[0m         \u001b[0ms\u001b[0m \u001b[1;33m=\u001b[0m \u001b[0ms\u001b[0m\u001b[1;33m.\u001b[0m\u001b[0mdecode\u001b[0m\u001b[1;33m(\u001b[0m\u001b[0mdetect_encoding\u001b[0m\u001b[1;33m(\u001b[0m\u001b[0ms\u001b[0m\u001b[1;33m)\u001b[0m\u001b[1;33m,\u001b[0m \u001b[1;34m'surrogatepass'\u001b[0m\u001b[1;33m)\u001b[0m\u001b[1;33m\u001b[0m\u001b[1;33m\u001b[0m\u001b[0m\n",
      "\u001b[1;31mTypeError\u001b[0m: the JSON object must be str, bytes or bytearray, not dict"
     ]
    }
   ],
   "source": [
    "# Error \"the JSON object must be str, bytes or bytearray, not dict\"\n",
    "\n",
    "json1 = {\"hill center\":\"Busch\", \"AB\":\"College Ave\"}\n",
    "# load this into Python\n",
    "dict1 = json.loads(json1)"
   ]
  },
  {
   "cell_type": "code",
   "execution_count": 33,
   "id": "6d629b02-3684-4492-b7a6-286d366f6ebf",
   "metadata": {},
   "outputs": [
    {
     "name": "stdout",
     "output_type": "stream",
     "text": [
      "{'2': 'Busch', '1': 'Colllege Ave'}\n"
     ]
    }
   ],
   "source": [
    "# Error keys are also make a double qoute\n",
    "\n",
    "json1 = '{2: \"Busch\", 1: \"Colllege Ave\"}'\n",
    "dic1 = json.loads(json1)\n",
    "print(dic1)"
   ]
  },
  {
   "cell_type": "code",
   "execution_count": 34,
   "id": "38ecb2b3-2c64-4918-bcf0-9f432030e548",
   "metadata": {},
   "outputs": [
    {
     "name": "stdout",
     "output_type": "stream",
     "text": [
      "{'Busch': 2, 'Colllege Ave': 2}\n"
     ]
    }
   ],
   "source": [
    "# Values is not string is OK\n",
    "\n",
    "json1 = '{\"Busch\":2, \"Colllege Ave\":2}'\n",
    "dic1 = json.loads(json1)\n",
    "print(dic1)"
   ]
  },
  {
   "cell_type": "code",
   "execution_count": 36,
   "id": "db4c7ad1-c544-44d8-9bb7-92c7c6ed055d",
   "metadata": {},
   "outputs": [
    {
     "ename": "JSONDecodeError",
     "evalue": "Expecting property name enclosed in double quotes: line 1 column 2 (char 1)",
     "output_type": "error",
     "traceback": [
      "\u001b[1;31m---------------------------------------------------------------------------\u001b[0m",
      "\u001b[1;31mJSONDecodeError\u001b[0m                           Traceback (most recent call last)",
      "\u001b[1;32mC:\\Users\\BAEKGE~1\\AppData\\Local\\Temp/ipykernel_4052/392241765.py\u001b[0m in \u001b[0;36m<module>\u001b[1;34m\u001b[0m\n\u001b[0;32m      1\u001b[0m \u001b[0mjson1\u001b[0m \u001b[1;33m=\u001b[0m \u001b[1;34m\"{'Busch':2, 'Colllege Ave':2}\"\u001b[0m\u001b[1;33m\u001b[0m\u001b[1;33m\u001b[0m\u001b[0m\n\u001b[1;32m----> 2\u001b[1;33m \u001b[0mdic1\u001b[0m \u001b[1;33m=\u001b[0m \u001b[0mjson\u001b[0m\u001b[1;33m.\u001b[0m\u001b[0mloads\u001b[0m\u001b[1;33m(\u001b[0m\u001b[0mjson1\u001b[0m\u001b[1;33m)\u001b[0m\u001b[1;33m\u001b[0m\u001b[1;33m\u001b[0m\u001b[0m\n\u001b[0m\u001b[0;32m      3\u001b[0m \u001b[0mprint\u001b[0m\u001b[1;33m(\u001b[0m\u001b[0mdic1\u001b[0m\u001b[1;33m)\u001b[0m\u001b[1;33m\u001b[0m\u001b[1;33m\u001b[0m\u001b[0m\n",
      "\u001b[1;32mC:\\ProgramData\\Anaconda3\\Lib\\json\\__init__.py\u001b[0m in \u001b[0;36mloads\u001b[1;34m(s, cls, object_hook, parse_float, parse_int, parse_constant, object_pairs_hook, **kw)\u001b[0m\n\u001b[0;32m    355\u001b[0m             \u001b[0mparse_int\u001b[0m \u001b[1;32mis\u001b[0m \u001b[1;32mNone\u001b[0m \u001b[1;32mand\u001b[0m \u001b[0mparse_float\u001b[0m \u001b[1;32mis\u001b[0m \u001b[1;32mNone\u001b[0m \u001b[1;32mand\u001b[0m\u001b[1;33m\u001b[0m\u001b[1;33m\u001b[0m\u001b[0m\n\u001b[0;32m    356\u001b[0m             parse_constant is None and object_pairs_hook is None and not kw):\n\u001b[1;32m--> 357\u001b[1;33m         \u001b[1;32mreturn\u001b[0m \u001b[0m_default_decoder\u001b[0m\u001b[1;33m.\u001b[0m\u001b[0mdecode\u001b[0m\u001b[1;33m(\u001b[0m\u001b[0ms\u001b[0m\u001b[1;33m)\u001b[0m\u001b[1;33m\u001b[0m\u001b[1;33m\u001b[0m\u001b[0m\n\u001b[0m\u001b[0;32m    358\u001b[0m     \u001b[1;32mif\u001b[0m \u001b[0mcls\u001b[0m \u001b[1;32mis\u001b[0m \u001b[1;32mNone\u001b[0m\u001b[1;33m:\u001b[0m\u001b[1;33m\u001b[0m\u001b[1;33m\u001b[0m\u001b[0m\n\u001b[0;32m    359\u001b[0m         \u001b[0mcls\u001b[0m \u001b[1;33m=\u001b[0m \u001b[0mJSONDecoder\u001b[0m\u001b[1;33m\u001b[0m\u001b[1;33m\u001b[0m\u001b[0m\n",
      "\u001b[1;32mC:\\ProgramData\\Anaconda3\\Lib\\json\\decoder.py\u001b[0m in \u001b[0;36mdecode\u001b[1;34m(self, s, _w)\u001b[0m\n\u001b[0;32m    335\u001b[0m \u001b[1;33m\u001b[0m\u001b[0m\n\u001b[0;32m    336\u001b[0m         \"\"\"\n\u001b[1;32m--> 337\u001b[1;33m         \u001b[0mobj\u001b[0m\u001b[1;33m,\u001b[0m \u001b[0mend\u001b[0m \u001b[1;33m=\u001b[0m \u001b[0mself\u001b[0m\u001b[1;33m.\u001b[0m\u001b[0mraw_decode\u001b[0m\u001b[1;33m(\u001b[0m\u001b[0ms\u001b[0m\u001b[1;33m,\u001b[0m \u001b[0midx\u001b[0m\u001b[1;33m=\u001b[0m\u001b[0m_w\u001b[0m\u001b[1;33m(\u001b[0m\u001b[0ms\u001b[0m\u001b[1;33m,\u001b[0m \u001b[1;36m0\u001b[0m\u001b[1;33m)\u001b[0m\u001b[1;33m.\u001b[0m\u001b[0mend\u001b[0m\u001b[1;33m(\u001b[0m\u001b[1;33m)\u001b[0m\u001b[1;33m)\u001b[0m\u001b[1;33m\u001b[0m\u001b[1;33m\u001b[0m\u001b[0m\n\u001b[0m\u001b[0;32m    338\u001b[0m         \u001b[0mend\u001b[0m \u001b[1;33m=\u001b[0m \u001b[0m_w\u001b[0m\u001b[1;33m(\u001b[0m\u001b[0ms\u001b[0m\u001b[1;33m,\u001b[0m \u001b[0mend\u001b[0m\u001b[1;33m)\u001b[0m\u001b[1;33m.\u001b[0m\u001b[0mend\u001b[0m\u001b[1;33m(\u001b[0m\u001b[1;33m)\u001b[0m\u001b[1;33m\u001b[0m\u001b[1;33m\u001b[0m\u001b[0m\n\u001b[0;32m    339\u001b[0m         \u001b[1;32mif\u001b[0m \u001b[0mend\u001b[0m \u001b[1;33m!=\u001b[0m \u001b[0mlen\u001b[0m\u001b[1;33m(\u001b[0m\u001b[0ms\u001b[0m\u001b[1;33m)\u001b[0m\u001b[1;33m:\u001b[0m\u001b[1;33m\u001b[0m\u001b[1;33m\u001b[0m\u001b[0m\n",
      "\u001b[1;32mC:\\ProgramData\\Anaconda3\\Lib\\json\\decoder.py\u001b[0m in \u001b[0;36mraw_decode\u001b[1;34m(self, s, idx)\u001b[0m\n\u001b[0;32m    351\u001b[0m         \"\"\"\n\u001b[0;32m    352\u001b[0m         \u001b[1;32mtry\u001b[0m\u001b[1;33m:\u001b[0m\u001b[1;33m\u001b[0m\u001b[1;33m\u001b[0m\u001b[0m\n\u001b[1;32m--> 353\u001b[1;33m             \u001b[0mobj\u001b[0m\u001b[1;33m,\u001b[0m \u001b[0mend\u001b[0m \u001b[1;33m=\u001b[0m \u001b[0mself\u001b[0m\u001b[1;33m.\u001b[0m\u001b[0mscan_once\u001b[0m\u001b[1;33m(\u001b[0m\u001b[0ms\u001b[0m\u001b[1;33m,\u001b[0m \u001b[0midx\u001b[0m\u001b[1;33m)\u001b[0m\u001b[1;33m\u001b[0m\u001b[1;33m\u001b[0m\u001b[0m\n\u001b[0m\u001b[0;32m    354\u001b[0m         \u001b[1;32mexcept\u001b[0m \u001b[0mStopIteration\u001b[0m \u001b[1;32mas\u001b[0m \u001b[0merr\u001b[0m\u001b[1;33m:\u001b[0m\u001b[1;33m\u001b[0m\u001b[1;33m\u001b[0m\u001b[0m\n\u001b[0;32m    355\u001b[0m             \u001b[1;32mraise\u001b[0m \u001b[0mJSONDecodeError\u001b[0m\u001b[1;33m(\u001b[0m\u001b[1;34m\"Expecting value\"\u001b[0m\u001b[1;33m,\u001b[0m \u001b[0ms\u001b[0m\u001b[1;33m,\u001b[0m \u001b[0merr\u001b[0m\u001b[1;33m.\u001b[0m\u001b[0mvalue\u001b[0m\u001b[1;33m)\u001b[0m \u001b[1;32mfrom\u001b[0m \u001b[1;32mNone\u001b[0m\u001b[1;33m\u001b[0m\u001b[1;33m\u001b[0m\u001b[0m\n",
      "\u001b[1;31mJSONDecodeError\u001b[0m: Expecting property name enclosed in double quotes: line 1 column 2 (char 1)"
     ]
    }
   ],
   "source": [
    "# Error be careful to use the double and single qoute place \n",
    "\n",
    "json1 = \"{'Busch':2, 'Colllege Ave':2}\"\n",
    "dic1 = json.loads(json1)\n",
    "print(dic1)"
   ]
  },
  {
   "cell_type": "code",
   "execution_count": 38,
   "id": "0d251d96-01d4-4a00-a2d1-b9ea71e3347f",
   "metadata": {},
   "outputs": [
    {
     "name": "stdout",
     "output_type": "stream",
     "text": [
      "{2: 'Busch', 1: 'College Ave'}\n"
     ]
    }
   ],
   "source": [
    "# writing out a dictionary to JSON string(dumping)\n",
    "dict2 = {2: 'Busch', 1: 'College Ave'}\n",
    "dict2_str = json.dumps(dict2)                           #JSON's key is always string so dump it to double qoute\n",
    "print(dict2)"
   ]
  },
  {
   "cell_type": "code",
   "execution_count": 39,
   "id": "fbfd91f2-a889-46fc-9215-9b21411b81d7",
   "metadata": {},
   "outputs": [
    {
     "name": "stdout",
     "output_type": "stream",
     "text": [
      "{'2': 'Busch', '1': 'College Ave'}\n"
     ]
    }
   ],
   "source": [
    "dict3 = json.loads(dict2_str)                           # key is string\n",
    "print(dict3)"
   ]
  },
  {
   "cell_type": "code",
   "execution_count": 43,
   "id": "3b0d8b23-6b1e-440b-b412-4b7685286685",
   "metadata": {},
   "outputs": [
    {
     "name": "stdout",
     "output_type": "stream",
     "text": [
      "40\n"
     ]
    }
   ],
   "source": [
    "# using arrats as values\n",
    "json3 = '{\"name\": \"Anika\", \"quiz_score\":[38,40,36,28,32]}'\n",
    "dict4 = json.loads(json3)\n",
    "print(dict4['quiz_score'][1])"
   ]
  },
  {
   "cell_type": "code",
   "execution_count": 57,
   "id": "72767bb9-fafe-4412-88d4-b1becb2fbeba",
   "metadata": {},
   "outputs": [
    {
     "name": "stdout",
     "output_type": "stream",
     "text": [
      "Jaylin\n",
      "[50, 48, 32, 11, 42]\n"
     ]
    }
   ],
   "source": [
    "# Array of dictionaries\n",
    "json5 = '{\"quiz_score\" : [{\"name\": \"Anika\", \"scores\":[38,40,36,28,32]},{\"name\": \"Jaylin\", \"scores\":[50,48,32,11,42]}]}'\n",
    "dict5 = json.loads(json5)\n",
    "print(dict5['quiz_score'][1]['name'])\n",
    "print(dict5['quiz_score'][1]['scores'])\n"
   ]
  },
  {
   "cell_type": "code",
   "execution_count": 58,
   "id": "40391059-bc22-4720-b59a-3737adc4e5be",
   "metadata": {},
   "outputs": [],
   "source": [
    "# store json to file\n",
    "with open('quiz_score.json','w') as qsfile:\n",
    "    json.dump(dict5, qsfile)"
   ]
  },
  {
   "cell_type": "code",
   "execution_count": 59,
   "id": "bb0466f9-7258-438c-ba6d-294d1e8a74ce",
   "metadata": {},
   "outputs": [
    {
     "name": "stdout",
     "output_type": "stream",
     "text": [
      "{'quiz_score': [{'name': 'Anika', 'scores': [38, 40, 36, 28, 32]}, {'name': 'Jaylin', 'scores': [50, 48, 32, 11, 42]}]}\n"
     ]
    }
   ],
   "source": [
    "# load json to file\n",
    "json6 = json.load(open('quiz_score.json'))\n",
    "print(json6)"
   ]
  },
  {
   "cell_type": "code",
   "execution_count": 61,
   "id": "909fdbee-ee36-4492-8f55-e2424220b340",
   "metadata": {},
   "outputs": [],
   "source": [
    "# Getting JSON from a web page\n",
    "import requests                      #request to page\n",
    "nobel_url = 'http://api.nobelprize.org/v1/prize.json'\n",
    "resp = requests.get(nobel_url)\n",
    "nobels = json.loads(resp.text) \n"
   ]
  },
  {
   "cell_type": "code",
   "execution_count": 62,
   "id": "e2c31642-1907-47ad-b15a-a29087ec5551",
   "metadata": {},
   "outputs": [
    {
     "name": "stdout",
     "output_type": "stream",
     "text": [
      "dict_keys(['prizes'])\n"
     ]
    }
   ],
   "source": [
    "print(nobels.keys())"
   ]
  },
  {
   "cell_type": "code",
   "execution_count": 64,
   "id": "95e311d4-2b89-4ea1-a218-7ebd70165ed1",
   "metadata": {},
   "outputs": [
    {
     "data": {
      "text/plain": [
       "658"
      ]
     },
     "execution_count": 64,
     "metadata": {},
     "output_type": "execute_result"
    }
   ],
   "source": [
    "len(nobels['prizes'])"
   ]
  },
  {
   "cell_type": "code",
   "execution_count": 65,
   "id": "ef871c4c-e560-43ee-bbc7-9de5b2dd2bf1",
   "metadata": {},
   "outputs": [
    {
     "name": "stdout",
     "output_type": "stream",
     "text": [
      "{'year': '2021', 'category': 'chemistry', 'laureates': [{'id': '1002', 'firstname': 'Benjamin', 'surname': 'List', 'motivation': '\"for the development of asymmetric organocatalysis\"', 'share': '2'}, {'id': '1003', 'firstname': 'David', 'surname': 'MacMillan', 'motivation': '\"for the development of asymmetric organocatalysis\"', 'share': '2'}]}\n"
     ]
    }
   ],
   "source": [
    "print(nobels['prizes'][0])"
   ]
  },
  {
   "cell_type": "code",
   "execution_count": 66,
   "id": "fea77c73-42c3-4f8a-be5e-c246bab78bf0",
   "metadata": {},
   "outputs": [
    {
     "name": "stdout",
     "output_type": "stream",
     "text": [
      "{'year': '2021', 'category': 'economics', 'laureates': [{'id': '1007', 'firstname': 'David', 'surname': 'Card', 'motivation': '\"for his empirical contributions to labour economics\"', 'share': '2'}, {'id': '1008', 'firstname': 'Joshua', 'surname': 'Angrist', 'motivation': '\"for their methodological contributions to the analysis of causal relationships\"', 'share': '4'}, {'id': '1009', 'firstname': 'Guido', 'surname': 'Imbens', 'motivation': '\"for their methodological contributions to the analysis of causal relationships\"', 'share': '4'}]}\n"
     ]
    }
   ],
   "source": [
    "print(nobels['prizes'][1])"
   ]
  },
  {
   "cell_type": "code",
   "execution_count": 67,
   "id": "d9c8f856-ce3f-4194-a8ec-bb0193ab60ff",
   "metadata": {},
   "outputs": [
    {
     "name": "stdout",
     "output_type": "stream",
     "text": [
      "{'year': '2021', 'category': 'physics', 'overallMotivation': '\"for groundbreaking contributions to our understanding of complex physical systems\"', 'laureates': [{'id': '999', 'firstname': 'Syukuro', 'surname': 'Manabe', 'motivation': '\"for the physical modelling of Earth’s climate, quantifying variability and reliably predicting global warming\"', 'share': '4'}, {'id': '1000', 'firstname': 'Klaus', 'surname': 'Hasselmann', 'motivation': '\"for the physical modelling of Earth’s climate, quantifying variability and reliably predicting global warming\"', 'share': '4'}, {'id': '1001', 'firstname': 'Giorgio', 'surname': 'Parisi', 'motivation': '\"for the discovery of the interplay of disorder and fluctuations in physical systems from atomic to planetary scales\"', 'share': '2'}]}\n"
     ]
    }
   ],
   "source": [
    "print(nobels['prizes'][4])"
   ]
  },
  {
   "cell_type": "code",
   "execution_count": 75,
   "id": "5b06a619-a89c-4317-bf4e-e38c26f09d05",
   "metadata": {},
   "outputs": [
    {
     "name": "stdout",
     "output_type": "stream",
     "text": [
      "[{'year': '2021', 'category': 'chemistry', 'laureates': [{'id': '1002', 'firstname': 'Benjamin', 'surname': 'List', 'motivation': '\"for the development of asymmetric organocatalysis\"', 'share': '2'}, {'id': '1003', 'firstname': 'David', 'surname': 'MacMillan', 'motivation': '\"for the development of asymmetric organocatalysis\"', 'share': '2'}]}, {'year': '2021', 'category': 'economics', 'laureates': [{'id': '1007', 'firstname': 'David', 'surname': 'Card', 'motivation': '\"for his empirical contributions to labour economics\"', 'share': '2'}, {'id': '1008', 'firstname': 'Joshua', 'surname': 'Angrist', 'motivation': '\"for their methodological contributions to the analysis of causal relationships\"', 'share': '4'}, {'id': '1009', 'firstname': 'Guido', 'surname': 'Imbens', 'motivation': '\"for their methodological contributions to the analysis of causal relationships\"', 'share': '4'}]}, {'year': '2021', 'category': 'literature', 'laureates': [{'id': '1004', 'firstname': 'Abdulrazak', 'surname': 'Gurnah', 'motivation': '\"for his uncompromising and compassionate penetration of the effects of colonialism and the fate of the refugee in the gulf between cultures and continents\"', 'share': '1'}]}, {'year': '2021', 'category': 'peace', 'laureates': [{'id': '1005', 'firstname': 'Maria', 'surname': 'Ressa', 'motivation': '\"for their efforts to safeguard freedom of expression, which is a precondition for democracy and lasting peace\"', 'share': '2'}, {'id': '1006', 'firstname': 'Dmitry', 'surname': 'Muratov', 'motivation': '\"for their efforts to safeguard freedom of expression, which is a precondition for democracy and lasting peace\"', 'share': '2'}]}, {'year': '2021', 'category': 'physics', 'overallMotivation': '\"for groundbreaking contributions to our understanding of complex physical systems\"', 'laureates': [{'id': '999', 'firstname': 'Syukuro', 'surname': 'Manabe', 'motivation': '\"for the physical modelling of Earth’s climate, quantifying variability and reliably predicting global warming\"', 'share': '4'}, {'id': '1000', 'firstname': 'Klaus', 'surname': 'Hasselmann', 'motivation': '\"for the physical modelling of Earth’s climate, quantifying variability and reliably predicting global warming\"', 'share': '4'}, {'id': '1001', 'firstname': 'Giorgio', 'surname': 'Parisi', 'motivation': '\"for the discovery of the interplay of disorder and fluctuations in physical systems from atomic to planetary scales\"', 'share': '2'}]}, {'year': '2021', 'category': 'medicine', 'laureates': [{'id': '997', 'firstname': 'David', 'surname': 'Julius', 'motivation': '\"for their discoveries of receptors for temperature and touch\"', 'share': '2'}, {'id': '998', 'firstname': 'Ardem', 'surname': 'Patapoutian', 'motivation': '\"for their discoveries of receptors for temperature and touch\"', 'share': '2'}]}]\n"
     ]
    }
   ],
   "source": [
    "# get all prizes awarded in year 2021\n",
    "nobels_2021 = [prizes for prizes in nobels['prizes'] if prizes['year'] == '2021']\n",
    "print(nobels_2021)"
   ]
  },
  {
   "cell_type": "code",
   "execution_count": 79,
   "id": "e451f7a1-afe0-4377-8722-88cec956d8e5",
   "metadata": {},
   "outputs": [
    {
     "name": "stdout",
     "output_type": "stream",
     "text": [
      "Chemistry: Benjamin List,David MacMillan\n",
      "Economics: David Card,Joshua Angrist,Guido Imbens\n",
      "Literature: Abdulrazak Gurnah\n",
      "Peace: Maria Ressa,Dmitry Muratov\n",
      "Physics: Syukuro Manabe,Klaus Hasselmann,Giorgio Parisi\n",
      "Medicine: David Julius,Ardem Patapoutian\n"
     ]
    }
   ],
   "source": [
    "# we want:\n",
    "# Chem: name1, name2:\n",
    "# Econ: name1, name2:\n",
    "for prize in nobels_2021:\n",
    "    print(prize['category'].capitalize() + ': ', end='')\n",
    "    winners = [winner['firstname'] + ' ' + winner['surname'] for winner in prize['laureates']]\n",
    "    print(','.join(winners))"
   ]
  },
  {
   "cell_type": "code",
   "execution_count": 82,
   "id": "1817301c-53a7-4e2a-a524-65585db58330",
   "metadata": {},
   "outputs": [
    {
     "name": "stdout",
     "output_type": "stream",
     "text": [
      "Chemistry: Emmanuelle Charpentier, Jennifer A. Doudna\n",
      "Economics: Paul Milgrom, Robert Wilson\n",
      "Literature: Louise Glück\n",
      "Peace: "
     ]
    },
    {
     "ename": "KeyError",
     "evalue": "'surname'",
     "output_type": "error",
     "traceback": [
      "\u001b[1;31m---------------------------------------------------------------------------\u001b[0m",
      "\u001b[1;31mKeyError\u001b[0m                                  Traceback (most recent call last)",
      "\u001b[1;32mC:\\Users\\BAEKGE~1\\AppData\\Local\\Temp/ipykernel_4052/661059642.py\u001b[0m in \u001b[0;36m<module>\u001b[1;34m\u001b[0m\n\u001b[0;32m      4\u001b[0m \u001b[1;32mfor\u001b[0m \u001b[0mprize\u001b[0m \u001b[1;32min\u001b[0m \u001b[0mnobels_2020\u001b[0m\u001b[1;33m:\u001b[0m\u001b[1;33m\u001b[0m\u001b[1;33m\u001b[0m\u001b[0m\n\u001b[0;32m      5\u001b[0m     \u001b[0mprint\u001b[0m\u001b[1;33m(\u001b[0m\u001b[0mprize\u001b[0m\u001b[1;33m[\u001b[0m\u001b[1;34m'category'\u001b[0m\u001b[1;33m]\u001b[0m\u001b[1;33m.\u001b[0m\u001b[0mcapitalize\u001b[0m\u001b[1;33m(\u001b[0m\u001b[1;33m)\u001b[0m \u001b[1;33m+\u001b[0m \u001b[1;34m': '\u001b[0m\u001b[1;33m,\u001b[0m \u001b[0mend\u001b[0m\u001b[1;33m=\u001b[0m\u001b[1;34m''\u001b[0m\u001b[1;33m)\u001b[0m\u001b[1;33m\u001b[0m\u001b[1;33m\u001b[0m\u001b[0m\n\u001b[1;32m----> 6\u001b[1;33m     \u001b[0mwinners\u001b[0m \u001b[1;33m=\u001b[0m \u001b[1;33m[\u001b[0m\u001b[0mwinner\u001b[0m\u001b[1;33m[\u001b[0m\u001b[1;34m'firstname'\u001b[0m\u001b[1;33m]\u001b[0m \u001b[1;33m+\u001b[0m \u001b[1;34m' '\u001b[0m \u001b[1;33m+\u001b[0m \u001b[0mwinner\u001b[0m\u001b[1;33m[\u001b[0m\u001b[1;34m'surname'\u001b[0m\u001b[1;33m]\u001b[0m \u001b[1;32mfor\u001b[0m \u001b[0mwinner\u001b[0m \u001b[1;32min\u001b[0m \u001b[0mprize\u001b[0m\u001b[1;33m[\u001b[0m\u001b[1;34m'laureates'\u001b[0m\u001b[1;33m]\u001b[0m\u001b[1;33m]\u001b[0m\u001b[1;33m\u001b[0m\u001b[1;33m\u001b[0m\u001b[0m\n\u001b[0m\u001b[0;32m      7\u001b[0m     \u001b[0mprint\u001b[0m\u001b[1;33m(\u001b[0m\u001b[1;34m', '\u001b[0m\u001b[1;33m.\u001b[0m\u001b[0mjoin\u001b[0m\u001b[1;33m(\u001b[0m\u001b[0mwinners\u001b[0m\u001b[1;33m)\u001b[0m\u001b[1;33m)\u001b[0m\u001b[1;33m\u001b[0m\u001b[1;33m\u001b[0m\u001b[0m\n",
      "\u001b[1;32mC:\\Users\\BAEKGE~1\\AppData\\Local\\Temp/ipykernel_4052/661059642.py\u001b[0m in \u001b[0;36m<listcomp>\u001b[1;34m(.0)\u001b[0m\n\u001b[0;32m      4\u001b[0m \u001b[1;32mfor\u001b[0m \u001b[0mprize\u001b[0m \u001b[1;32min\u001b[0m \u001b[0mnobels_2020\u001b[0m\u001b[1;33m:\u001b[0m\u001b[1;33m\u001b[0m\u001b[1;33m\u001b[0m\u001b[0m\n\u001b[0;32m      5\u001b[0m     \u001b[0mprint\u001b[0m\u001b[1;33m(\u001b[0m\u001b[0mprize\u001b[0m\u001b[1;33m[\u001b[0m\u001b[1;34m'category'\u001b[0m\u001b[1;33m]\u001b[0m\u001b[1;33m.\u001b[0m\u001b[0mcapitalize\u001b[0m\u001b[1;33m(\u001b[0m\u001b[1;33m)\u001b[0m \u001b[1;33m+\u001b[0m \u001b[1;34m': '\u001b[0m\u001b[1;33m,\u001b[0m \u001b[0mend\u001b[0m\u001b[1;33m=\u001b[0m\u001b[1;34m''\u001b[0m\u001b[1;33m)\u001b[0m\u001b[1;33m\u001b[0m\u001b[1;33m\u001b[0m\u001b[0m\n\u001b[1;32m----> 6\u001b[1;33m     \u001b[0mwinners\u001b[0m \u001b[1;33m=\u001b[0m \u001b[1;33m[\u001b[0m\u001b[0mwinner\u001b[0m\u001b[1;33m[\u001b[0m\u001b[1;34m'firstname'\u001b[0m\u001b[1;33m]\u001b[0m \u001b[1;33m+\u001b[0m \u001b[1;34m' '\u001b[0m \u001b[1;33m+\u001b[0m \u001b[0mwinner\u001b[0m\u001b[1;33m[\u001b[0m\u001b[1;34m'surname'\u001b[0m\u001b[1;33m]\u001b[0m \u001b[1;32mfor\u001b[0m \u001b[0mwinner\u001b[0m \u001b[1;32min\u001b[0m \u001b[0mprize\u001b[0m\u001b[1;33m[\u001b[0m\u001b[1;34m'laureates'\u001b[0m\u001b[1;33m]\u001b[0m\u001b[1;33m]\u001b[0m\u001b[1;33m\u001b[0m\u001b[1;33m\u001b[0m\u001b[0m\n\u001b[0m\u001b[0;32m      7\u001b[0m     \u001b[0mprint\u001b[0m\u001b[1;33m(\u001b[0m\u001b[1;34m', '\u001b[0m\u001b[1;33m.\u001b[0m\u001b[0mjoin\u001b[0m\u001b[1;33m(\u001b[0m\u001b[0mwinners\u001b[0m\u001b[1;33m)\u001b[0m\u001b[1;33m)\u001b[0m\u001b[1;33m\u001b[0m\u001b[1;33m\u001b[0m\u001b[0m\n",
      "\u001b[1;31mKeyError\u001b[0m: 'surname'"
     ]
    }
   ],
   "source": [
    "# get all prize for year 2020\n",
    "nobels_2020 = [prizes for prizes in nobels['prizes'] if prizes['year'] == '2020']\n",
    "\n",
    "for prize in nobels_2020:\n",
    "    print(prize['category'].capitalize() + ': ', end='')\n",
    "    winners = [winner['firstname'] + ' ' + winner['surname'] for winner in prize['laureates']]\n",
    "    print(', '.join(winners))\n"
   ]
  },
  {
   "cell_type": "code",
   "execution_count": 83,
   "id": "214654f9-ac16-4f3f-a261-94fba4e0e2dd",
   "metadata": {},
   "outputs": [
    {
     "name": "stdout",
     "output_type": "stream",
     "text": [
      "Chemistry: Emmanuelle Charpentier,Jennifer A. Doudna\n",
      "Economics: Paul Milgrom,Robert Wilson\n",
      "Literature: Louise Glück\n",
      "Peace: World Food Programme \n",
      "Physics: Roger Penrose,Reinhard Genzel,Andrea Ghez\n",
      "Medicine: Harvey Alter,Michael Houghton,Charles Rice\n"
     ]
    }
   ],
   "source": [
    "for prize in nobels_2020:\n",
    "    print(prize['category'].capitalize() + ': ', end='')\n",
    "    winners = [winner['firstname'] + ' ' + winner.get('surname','') for winner in prize['laureates']]\n",
    "    print(','.join(winners))"
   ]
  },
  {
   "cell_type": "code",
   "execution_count": null,
   "id": "2d1df3c9-f70b-400f-adc0-be1437b06922",
   "metadata": {},
   "outputs": [],
   "source": []
  }
 ],
 "metadata": {
  "kernelspec": {
   "display_name": "Python 3 (ipykernel)",
   "language": "python",
   "name": "python3"
  },
  "language_info": {
   "codemirror_mode": {
    "name": "ipython",
    "version": 3
   },
   "file_extension": ".py",
   "mimetype": "text/x-python",
   "name": "python",
   "nbconvert_exporter": "python",
   "pygments_lexer": "ipython3",
   "version": "3.9.7"
  }
 },
 "nbformat": 4,
 "nbformat_minor": 5
}
