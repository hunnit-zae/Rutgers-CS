{
 "cells": [
  {
   "cell_type": "markdown",
   "id": "be8ac537-1f40-4dd4-94e0-7ee430f2920c",
   "metadata": {},
   "source": [
    "## regular Expressions - Countined "
   ]
  },
  {
   "cell_type": "code",
   "execution_count": 31,
   "id": "d4322af2-76bd-4e52-bf10-1b2a754ae62e",
   "metadata": {},
   "outputs": [],
   "source": [
    "import re"
   ]
  },
  {
   "cell_type": "markdown",
   "id": "c6be98b1-774c-4ddf-b98b-f743d6ba5f24",
   "metadata": {},
   "source": [
    "### Verbose, miltiline regexp\n",
    "#### suppose we want to de some capturing in an address of the form"
   ]
  },
  {
   "cell_type": "code",
   "execution_count": 9,
   "id": "33d64e91-ca67-4c0d-b1fb-717c6a330691",
   "metadata": {},
   "outputs": [
    {
     "ename": "SyntaxError",
     "evalue": "invalid syntax (Temp/ipykernel_23908/3758630658.py, line 14)",
     "output_type": "error",
     "traceback": [
      "\u001b[1;36m  File \u001b[1;32m\"C:\\Users\\BAEKGE~1\\AppData\\Local\\Temp/ipykernel_23908/3758630658.py\"\u001b[1;36m, line \u001b[1;32m14\u001b[0m\n\u001b[1;33m    \"\"\" re.VERBOSE()\u001b[0m\n\u001b[1;37m        ^\u001b[0m\n\u001b[1;31mSyntaxError\u001b[0m\u001b[1;31m:\u001b[0m invalid syntax\n"
     ]
    }
   ],
   "source": [
    "addr = re.compile(r\"\"\"\n",
    "        \\s*\n",
    "        \\#?\n",
    "        \\s*\n",
    "        (\\d+)\n",
    "        \\s+\n",
    "        (.*)?,\n",
    "        \\s*\n",
    "        ([A-Z]{2})\n",
    "        \\s*\n",
    "        (\\d{5})\n",
    "        \\s*\n",
    "        $\n",
    "        \"\"\", re.VERBOSE()"
   ]
  },
  {
   "cell_type": "code",
   "execution_count": 8,
   "id": "05445844-a5cc-49ad-aacb-7b2a21b24752",
   "metadata": {},
   "outputs": [
    {
     "ename": "NameError",
     "evalue": "name 'add' is not defined",
     "output_type": "error",
     "traceback": [
      "\u001b[1;31m---------------------------------------------------------------------------\u001b[0m",
      "\u001b[1;31mNameError\u001b[0m                                 Traceback (most recent call last)",
      "\u001b[1;32mC:\\Users\\BAEKGE~1\\AppData\\Local\\Temp/ipykernel_23908/4175987593.py\u001b[0m in \u001b[0;36m<module>\u001b[1;34m\u001b[0m\n\u001b[1;32m----> 1\u001b[1;33m \u001b[0mres\u001b[0m \u001b[1;33m=\u001b[0m \u001b[0madd\u001b[0m\u001b[1;33m.\u001b[0m\u001b[0mmatch\u001b[0m\u001b[1;33m(\u001b[0m\u001b[1;34m' # 25 Infinite Loop, Cupertino, CA 12345'\u001b[0m\u001b[1;33m)\u001b[0m\u001b[1;33m\u001b[0m\u001b[1;33m\u001b[0m\u001b[0m\n\u001b[0m\u001b[0;32m      2\u001b[0m \u001b[1;32mif\u001b[0m \u001b[0mres\u001b[0m\u001b[1;33m:\u001b[0m\u001b[1;33m\u001b[0m\u001b[1;33m\u001b[0m\u001b[0m\n\u001b[0;32m      3\u001b[0m     \u001b[1;32mfor\u001b[0m \u001b[0mgr\u001b[0m \u001b[1;32min\u001b[0m \u001b[0mres\u001b[0m\u001b[1;33m.\u001b[0m\u001b[0mgroups\u001b[0m\u001b[1;33m(\u001b[0m\u001b[1;33m)\u001b[0m\u001b[1;33m:\u001b[0m\u001b[1;33m\u001b[0m\u001b[1;33m\u001b[0m\u001b[0m\n\u001b[0;32m      4\u001b[0m         \u001b[0mprint\u001b[0m\u001b[1;33m(\u001b[0m\u001b[0mgr\u001b[0m\u001b[1;33m)\u001b[0m\u001b[1;33m\u001b[0m\u001b[1;33m\u001b[0m\u001b[0m\n",
      "\u001b[1;31mNameError\u001b[0m: name 'add' is not defined"
     ]
    }
   ],
   "source": [
    "res = add.match(' # 25 Infinite Loop, Cupertino, CA 12345')\n",
    "if res:\n",
    "    for gr in res.groups():\n",
    "        print(gr)"
   ]
  },
  {
   "cell_type": "markdown",
   "id": "024776b9-4a2d-4219-aa27-3cb916bfe457",
   "metadata": {},
   "source": [
    "#### Naming Captured fields"
   ]
  },
  {
   "cell_type": "code",
   "execution_count": null,
   "id": "a5f8e983-1ede-4fa4-8551-1e04d0833d14",
   "metadata": {},
   "outputs": [],
   "source": []
  },
  {
   "cell_type": "markdown",
   "id": "74827bb1-d636-402f-a59e-c43fe6694650",
   "metadata": {},
   "source": [
    "#### Suppressing captures"
   ]
  },
  {
   "cell_type": "code",
   "execution_count": 10,
   "id": "005f54a9-4c32-4b85-b06d-fa09ef2dd402",
   "metadata": {},
   "outputs": [
    {
     "ename": "NameError",
     "evalue": "name 'named_addr' is not defined",
     "output_type": "error",
     "traceback": [
      "\u001b[1;31m---------------------------------------------------------------------------\u001b[0m",
      "\u001b[1;31mNameError\u001b[0m                                 Traceback (most recent call last)",
      "\u001b[1;32mC:\\Users\\BAEKGE~1\\AppData\\Local\\Temp/ipykernel_23908/3044577632.py\u001b[0m in \u001b[0;36m<module>\u001b[1;34m\u001b[0m\n\u001b[0;32m      1\u001b[0m \u001b[1;31m# Can suppress cpature using ?: inside group\u001b[0m\u001b[1;33m\u001b[0m\u001b[1;33m\u001b[0m\u001b[1;33m\u001b[0m\u001b[0m\n\u001b[1;32m----> 2\u001b[1;33m \u001b[0mnamed_addr\u001b[0m\u001b[1;33m\u001b[0m\u001b[1;33m\u001b[0m\u001b[0m\n\u001b[0m",
      "\u001b[1;31mNameError\u001b[0m: name 'named_addr' is not defined"
     ]
    }
   ],
   "source": [
    "# Can suppress cpature using ?: inside group\n",
    "named_addr\n"
   ]
  },
  {
   "cell_type": "code",
   "execution_count": null,
   "id": "7ae221a0-b925-40cb-aef1-afa96d66fff2",
   "metadata": {},
   "outputs": [],
   "source": []
  },
  {
   "cell_type": "markdown",
   "id": "0171c087-9886-4adc-ae82-6391c3121ca5",
   "metadata": {},
   "source": [
    "#### Using dinfall and finditer functions to get all matches"
   ]
  },
  {
   "cell_type": "code",
   "execution_count": 12,
   "id": "68577aaa-659a-4d6b-ba49-46283e692dd7",
   "metadata": {},
   "outputs": [
    {
     "name": "stdout",
     "output_type": "stream",
     "text": [
      "['These', 'are', 'the', 'days', 'of', 'miracles', 'and', 'wonders']\n"
     ]
    }
   ],
   "source": [
    "# To-Do  Exmaples of findall and finiter\n",
    "res = re.findall(r'\\w+' , \"These are the days of miracles and wonders!\")\n",
    "print(res)"
   ]
  },
  {
   "cell_type": "code",
   "execution_count": 13,
   "id": "aacdc567-393c-4267-a298-e6231b8590e1",
   "metadata": {},
   "outputs": [
    {
     "name": "stdout",
     "output_type": "stream",
     "text": [
      "['I', 'can', 't', 'believe', 'it']\n"
     ]
    }
   ],
   "source": [
    "res = re.findall(r'\\w+', \"I can't believe it\")\n",
    "print(res)"
   ]
  },
  {
   "cell_type": "code",
   "execution_count": 17,
   "id": "b7e62830-b70a-40e8-bea6-293d76c90827",
   "metadata": {},
   "outputs": [
    {
     "name": "stdout",
     "output_type": "stream",
     "text": [
      "['I', \"can't\", 'believe', 'it']\n"
     ]
    }
   ],
   "source": [
    "res = re.findall(r'\\S+', \"I can't believe it\") #little s is space, big S is non-spacing\n",
    "print(res)"
   ]
  },
  {
   "cell_type": "code",
   "execution_count": 21,
   "id": "941076df-048b-4c9e-b9d8-58c923ffd44d",
   "metadata": {},
   "outputs": [
    {
     "name": "stdout",
     "output_type": "stream",
     "text": [
      "I @ (0, 1)\n",
      "can't @ (2, 7)\n",
      "believe @ (8, 15)\n",
      "it @ (16, 18)\n"
     ]
    }
   ],
   "source": [
    "iterator = re.finditer(r'\\S+', \"I can't believe it\")\n",
    "for match in iterator:          # Cna give ou back as many as you want\n",
    "    print(match.group(), '@', match.span())   "
   ]
  },
  {
   "cell_type": "markdown",
   "id": "1c5115fd-f266-459f-afe6-cc0fef798c9a",
   "metadata": {},
   "source": [
    "---"
   ]
  },
  {
   "cell_type": "markdown",
   "id": "462dceb3-b1ac-42f3-a305-c1dbd1e98663",
   "metadata": {},
   "source": [
    "### Processing Datasets"
   ]
  },
  {
   "cell_type": "markdown",
   "id": "769616c9-b2c1-4d95-a7fd-82e32c976d91",
   "metadata": {},
   "source": [
    "#### Exmaple 1: UCI Auto MPG dataset - Plain text file"
   ]
  },
  {
   "cell_type": "code",
   "execution_count": 48,
   "id": "5bc93c11-3f28-4a65-98a7-12c162ca5306",
   "metadata": {},
   "outputs": [],
   "source": [
    "# To-Do Solution\n",
    "import re\n",
    "\n",
    "test_str = '18.0   8.   307.0      130.0      3504.      12.0   70.  1.\t\"chevrolet chevelle malibu\"'\n",
    "car_reg = re.compile(r\"\"\"\n",
    "                        \\s*                          # skip over leading whitespace\n",
    "                        (?P<mpg>\\d{2}\\,\\d)            # mpg\n",
    "                        \\s*\n",
    "                        (?P<cyl>\\d)\\.                # cylinder don't need a decimal so skip it, only capture ingeter part\n",
    "                        .*                           # skpi all intervening stuff\n",
    "                        (?P<yy>\\d{2})\\.                # year\n",
    "                        \\s*\n",
    "                        \\d\\.                         # origin\n",
    "                        .*                           # tab char in file\n",
    "                        (?P<name>\".*\")               # car name is in double quotes              \n",
    "\"\"\", re.VERBOSE)"
   ]
  },
  {
   "cell_type": "code",
   "execution_count": 57,
   "id": "ae6cda06-3216-40a2-be76-bc66df79a6c5",
   "metadata": {},
   "outputs": [
    {
     "ename": "AttributeError",
     "evalue": "'NoneType' object has no attribute 'groupdict'",
     "output_type": "error",
     "traceback": [
      "\u001b[1;31m---------------------------------------------------------------------------\u001b[0m",
      "\u001b[1;31mAttributeError\u001b[0m                            Traceback (most recent call last)",
      "\u001b[1;32mC:\\Users\\BAEKGE~1\\AppData\\Local\\Temp/ipykernel_23908/4254363336.py\u001b[0m in \u001b[0;36m<module>\u001b[1;34m\u001b[0m\n\u001b[0;32m      1\u001b[0m \u001b[0mres\u001b[0m \u001b[1;33m=\u001b[0m \u001b[0mcar_reg\u001b[0m\u001b[1;33m.\u001b[0m\u001b[0mmatch\u001b[0m\u001b[1;33m(\u001b[0m\u001b[0mtest_str\u001b[0m\u001b[1;33m)\u001b[0m\u001b[1;33m\u001b[0m\u001b[1;33m\u001b[0m\u001b[0m\n\u001b[1;32m----> 2\u001b[1;33m \u001b[0mres\u001b[0m\u001b[1;33m.\u001b[0m\u001b[0mgroupdict\u001b[0m\u001b[1;33m(\u001b[0m\u001b[1;33m)\u001b[0m\u001b[1;33m\u001b[0m\u001b[1;33m\u001b[0m\u001b[0m\n\u001b[0m",
      "\u001b[1;31mAttributeError\u001b[0m: 'NoneType' object has no attribute 'groupdict'"
     ]
    }
   ],
   "source": [
    "res = car_reg.match(test_str)\n",
    "res.groupdict()"
   ]
  },
  {
   "cell_type": "code",
   "execution_count": 50,
   "id": "cc165c63-f1eb-405d-adb3-7db8f4117651",
   "metadata": {},
   "outputs": [],
   "source": [
    "res = car_reg.match(test_str)\n",
    "if res:\n",
    "    car_dict = res.groupdict()\n",
    "    keys = ['name', 'yy', 'cyl', 'mpg']\n",
    "    values = [car_dict[k] for k in keys]\n",
    "    values[1] = '19' + values[1]\n",
    "    print(','.join(values))"
   ]
  },
  {
   "cell_type": "code",
   "execution_count": 51,
   "id": "e1d814e1-cc2f-47dd-af5a-c66657a450e3",
   "metadata": {},
   "outputs": [],
   "source": [
    "def filter(in_line):\n",
    "    res = car_reg.match(in_line)\n",
    "    if res:\n",
    "        keys = ['name', 'yy', 'cyl', 'mpg']\n",
    "        values = [car_dict[k] for k in keys]\n",
    "        values[1] = '19' + values[1]\n",
    "        return ','.join(values)\n",
    "    return None"
   ]
  },
  {
   "cell_type": "code",
   "execution_count": 53,
   "id": "7a4d4d8c-aa7a-4705-8d75-b4fe92fbc684",
   "metadata": {},
   "outputs": [],
   "source": [
    "for i, line in enumerate(open(\"auto-mpg-original.txt\")):\n",
    "    out_line = filter(line)\n",
    "    if out_line:\n",
    "        print(out_line)\n",
    "    if i > 14:\n",
    "        break"
   ]
  },
  {
   "cell_type": "markdown",
   "id": "87d0185d-37c2-441c-8751-b616000fbd1f",
   "metadata": {},
   "source": [
    "----"
   ]
  },
  {
   "cell_type": "markdown",
   "id": "9bd8f0c2-cad6-467a-a857-b41b934055e6",
   "metadata": {},
   "source": [
    "#### Example 2 UCI Iris dataset"
   ]
  },
  {
   "cell_type": "code",
   "execution_count": 63,
   "id": "e45d3d28-07c8-4dab-9ed8-f7a83f5c64e2",
   "metadata": {},
   "outputs": [
    {
     "name": "stdout",
     "output_type": "stream",
     "text": [
      "009 >>> ['4.4', '2', '9', '1.4', '0.2', 'Iris-setosa']\n",
      "064 >>> ['6.1', '4.7', '1.4', 'Iris-versicolor']\n",
      "078 >>> ['6.7', '3.0', '4.5', '1.7', '6.5', 'Iris-versicolor']\n",
      "103 >>> ['7', '1', '3.0', '5.9', '2.1', 'Iris-virginica']\n",
      "113 >>> ['6.8', '3.0', '5.5', '2.1']\n",
      "152 >>> []\n"
     ]
    }
   ],
   "source": [
    "# To-Do Solution\n",
    "import csv\n",
    "\n",
    "# 1. read cvs file\n",
    "with open('iris-messy.csv') as irisfile:          # use with don't have to close file\n",
    "    reader = csv.reader(irisfile)\n",
    "    \n",
    "    next(reader) # skip the header line\n",
    "    for num,row in enumerate(reader):\n",
    "        if len(row) != 5:\n",
    "            print(f'{(num+1):03} >>> {row}')          # : means the format "
   ]
  },
  {
   "cell_type": "code",
   "execution_count": 64,
   "id": "131ee14c-ed92-4dc7-9993-912d5809abc3",
   "metadata": {},
   "outputs": [
    {
     "name": "stdout",
     "output_type": "stream",
     "text": [
      "009 >>> ['4.4', '2', '9', '1.4', '0.2', 'Iris-setosa']\n",
      "Row 013: Non-numeric Value\"N/A\"\n",
      "\t ['4.8', 'N/A', '1.4', '0.1', 'Iris-setosa'] \n",
      "\n",
      "Row 035: Non-numeric Value\"n/a\"\n",
      "\t ['4.9', '3.1', 'n/a', '0.1', 'Iris-setosa'] \n",
      "\n",
      "Row 036: Non-numeric Value\"na\"\n",
      "\t ['5.0', 'na', '1.2', '0.2', 'Iris-setosa'] \n",
      "\n",
      "Row 043: Non-numeric Value\"?\"\n",
      "\t ['?', '3.2', '1.3', '0.2', 'Iris-setosa'] \n",
      "\n",
      "064 >>> ['6.1', '4.7', '1.4', 'Iris-versicolor']\n",
      "Row 070: Non-numeric Value\"NA\"\n",
      "\t ['5.6', '2.5', '3.9', 'NA', 'Iris-versicolor'] \n",
      "\n",
      "Row 077: Non-numeric Value\"?\"\n",
      "\t ['6.8', '2.8', '?', '1.4', 'Iris-versicolor'] \n",
      "\n",
      "078 >>> ['6.7', '3.0', '4.5', '1.7', '6.5', 'Iris-versicolor']\n",
      "103 >>> ['7', '1', '3.0', '5.9', '2.1', 'Iris-virginica']\n",
      "113 >>> ['6.8', '3.0', '5.5', '2.1']\n",
      "Row 127: Non-numeric Value\"4x8\"\n",
      "\t ['6.2', '2.8', '4x8', '1.8', 'Iris-virginica'] \n",
      "\n",
      "Row 137: Non-numeric Value\"?\"\n",
      "\t ['6.3', '3.4', '5.6', '?', 'Iris-virginica'] \n",
      "\n",
      "Row 148: Non-numeric Value\"\"\n",
      "\t ['', '3.0', '5.2', '2.0', 'Iris-virginica'] \n",
      "\n",
      "152 >>> []\n"
     ]
    }
   ],
   "source": [
    "# make sure  all fields except last are real numbers\n",
    "with open('iris-messy.csv') as irisfile:          \n",
    "    reader = csv.reader(irisfile)\n",
    "    \n",
    "    next(reader) # skip the header line\n",
    "    for num,row in enumerate(reader):\n",
    "        if len(row) != 5:\n",
    "            print(f'{(num+1):03} >>> {row}')  \n",
    "        else:\n",
    "            for val in row[:-1]:\n",
    "                try:\n",
    "                    float(val)\n",
    "                except:\n",
    "                    print(f'Row {(num+1):03}: Non-numeric Value\"{val}\"')\n",
    "                    print('\\t',row,'\\n')"
   ]
  },
  {
   "cell_type": "code",
   "execution_count": null,
   "id": "b48a2ecf-4432-4ebd-848c-64edb1d56cd8",
   "metadata": {},
   "outputs": [],
   "source": []
  }
 ],
 "metadata": {
  "kernelspec": {
   "display_name": "Python 3 (ipykernel)",
   "language": "python",
   "name": "python3"
  },
  "language_info": {
   "codemirror_mode": {
    "name": "ipython",
    "version": 3
   },
   "file_extension": ".py",
   "mimetype": "text/x-python",
   "name": "python",
   "nbconvert_exporter": "python",
   "pygments_lexer": "ipython3",
   "version": "3.9.7"
  }
 },
 "nbformat": 4,
 "nbformat_minor": 5
}
