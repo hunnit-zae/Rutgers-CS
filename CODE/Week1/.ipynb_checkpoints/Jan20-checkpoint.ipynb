{
 "cells": [
  {
   "cell_type": "markdown",
   "id": "39748331-4554-4924-b924-be20cd38052c",
   "metadata": {},
   "source": [
    "**Arithmeic**"
   ]
  },
  {
   "cell_type": "code",
   "execution_count": 1,
   "id": "dad0aeb3-116e-49fd-a9b0-1e711f2d8614",
   "metadata": {},
   "outputs": [
    {
     "data": {
      "text/plain": [
       "1.5"
      ]
     },
     "execution_count": 1,
     "metadata": {},
     "output_type": "execute_result"
    }
   ],
   "source": [
    "3/2 #real number result"
   ]
  },
  {
   "cell_type": "code",
   "execution_count": 2,
   "id": "ab991bf8-e542-4a7b-9419-d718f0bee044",
   "metadata": {},
   "outputs": [
    {
     "data": {
      "text/plain": [
       "1"
      ]
     },
     "execution_count": 2,
     "metadata": {},
     "output_type": "execute_result"
    }
   ],
   "source": [
    "3 // 2 #integer result, quotient"
   ]
  },
  {
   "cell_type": "code",
   "execution_count": 4,
   "id": "2ce51e55-1c10-47d6-8d01-52d15fad72eb",
   "metadata": {},
   "outputs": [
    {
     "ename": "ZeroDivisionError",
     "evalue": "division by zero",
     "output_type": "error",
     "traceback": [
      "\u001b[1;31m---------------------------------------------------------------------------\u001b[0m",
      "\u001b[1;31mZeroDivisionError\u001b[0m                         Traceback (most recent call last)",
      "\u001b[1;32mC:\\Users\\BAEKGE~1\\AppData\\Local\\Temp/ipykernel_35308/3150626867.py\u001b[0m in \u001b[0;36m<module>\u001b[1;34m\u001b[0m\n\u001b[1;32m----> 1\u001b[1;33m \u001b[1;36m3\u001b[0m\u001b[1;33m/\u001b[0m\u001b[1;36m0\u001b[0m\u001b[1;33m\u001b[0m\u001b[1;33m\u001b[0m\u001b[0m\n\u001b[0m",
      "\u001b[1;31mZeroDivisionError\u001b[0m: division by zero"
     ]
    }
   ],
   "source": [
    "3/0"
   ]
  },
  {
   "cell_type": "code",
   "execution_count": 5,
   "id": "dc73e542-709a-4bf4-b16b-fa4c65506d1c",
   "metadata": {},
   "outputs": [
    {
     "data": {
      "text/plain": [
       "3"
      ]
     },
     "execution_count": 5,
     "metadata": {},
     "output_type": "execute_result"
    }
   ],
   "source": [
    "15 % 4 #mod function, gives remainer"
   ]
  },
  {
   "cell_type": "code",
   "execution_count": 6,
   "id": "f9d897aa-538f-46b5-8f15-f0e599306374",
   "metadata": {},
   "outputs": [
    {
     "data": {
      "text/plain": [
       "2.4000000000000004"
      ]
     },
     "execution_count": 6,
     "metadata": {},
     "output_type": "execute_result"
    }
   ],
   "source": [
    "7.4 % 5 #mod of real number divided by int"
   ]
  },
  {
   "cell_type": "code",
   "execution_count": 7,
   "id": "c5ce529e-64d9-49df-b757-dc5fa151a505",
   "metadata": {},
   "outputs": [
    {
     "data": {
      "text/plain": [
       "27"
      ]
     },
     "execution_count": 7,
     "metadata": {},
     "output_type": "execute_result"
    }
   ],
   "source": [
    "3 ** 3 # power"
   ]
  },
  {
   "cell_type": "code",
   "execution_count": 8,
   "id": "76d6fcda-0f90-499c-9391-0b81e96ec55e",
   "metadata": {},
   "outputs": [
    {
     "data": {
      "text/plain": [
       "5"
      ]
     },
     "execution_count": 8,
     "metadata": {},
     "output_type": "execute_result"
    }
   ],
   "source": [
    "# Casting\n",
    "# real to int\n",
    "x = int(5.5)\n",
    "x"
   ]
  },
  {
   "cell_type": "markdown",
   "id": "495b6504-6f97-4f25-b98d-7ad1d532b8af",
   "metadata": {},
   "source": [
    "### Using the math module"
   ]
  },
  {
   "cell_type": "code",
   "execution_count": 10,
   "id": "f741aaaa-651d-48b9-8b7f-fee3e639b6ce",
   "metadata": {},
   "outputs": [
    {
     "name": "stdout",
     "output_type": "stream",
     "text": [
      "9.0\n"
     ]
    }
   ],
   "source": [
    "import math as th\n",
    "\n",
    "print(th.pow(3,2))"
   ]
  },
  {
   "cell_type": "code",
   "execution_count": 11,
   "id": "29f21892-a038-40d2-95d2-980657e66e0e",
   "metadata": {},
   "outputs": [
    {
     "name": "stdout",
     "output_type": "stream",
     "text": [
      "10.240000000000002\n"
     ]
    }
   ],
   "source": [
    "print(th.pow(-3.2,2))"
   ]
  },
  {
   "cell_type": "code",
   "execution_count": 13,
   "id": "8ccceda2-0c89-40c7-b860-411aa7621c78",
   "metadata": {},
   "outputs": [
    {
     "name": "stdout",
     "output_type": "stream",
     "text": [
      "1.4142135623730951\n"
     ]
    }
   ],
   "source": [
    "print(th.pow(2,0.5)) #Square root"
   ]
  },
  {
   "cell_type": "markdown",
   "id": "d905c1d8-008f-4e4c-8b1f-45fd81dcf293",
   "metadata": {},
   "source": [
    "### String"
   ]
  },
  {
   "cell_type": "code",
   "execution_count": 14,
   "id": "f97521ca-c7cd-4f39-a476-8025169e94a6",
   "metadata": {},
   "outputs": [],
   "source": [
    "#multi_line string         three \" to use\n",
    "multi_line = \n",
    "\"\"\"\n",
    "line1,\n",
    "line2, and \n",
    "line3\n",
    "\"\"\""
   ]
  },
  {
   "cell_type": "code",
   "execution_count": 15,
   "id": "02263179-068c-4223-99b2-a1796d08478a",
   "metadata": {},
   "outputs": [
    {
     "data": {
      "text/plain": [
       "'line1,\\nline2, and line3\\n'"
      ]
     },
     "execution_count": 15,
     "metadata": {},
     "output_type": "execute_result"
    }
   ],
   "source": [
    "multi_line"
   ]
  },
  {
   "cell_type": "code",
   "execution_count": 20,
   "id": "443e3870-4ed5-4968-9d39-963cd4d43dd8",
   "metadata": {},
   "outputs": [],
   "source": [
    "tabbed_str = 'before\\after'"
   ]
  },
  {
   "cell_type": "code",
   "execution_count": 21,
   "id": "3ece2021-62c5-4385-866a-1208fc32e61b",
   "metadata": {},
   "outputs": [
    {
     "name": "stdout",
     "output_type": "stream",
     "text": [
      "before\u0007fter\n"
     ]
    }
   ],
   "source": [
    "print(tabbed_str)"
   ]
  },
  {
   "cell_type": "code",
   "execution_count": 24,
   "id": "17335cd6-502c-45da-83ae-adea8e99a2e2",
   "metadata": {},
   "outputs": [
    {
     "data": {
      "text/plain": [
       "'abcabc'"
      ]
     },
     "execution_count": 24,
     "metadata": {},
     "output_type": "execute_result"
    }
   ],
   "source": [
    "#Replicate a string\n",
    "'abc'*2"
   ]
  },
  {
   "cell_type": "code",
   "execution_count": 25,
   "id": "c6856206-0dfb-4fd4-84f9-08f34b656819",
   "metadata": {},
   "outputs": [
    {
     "data": {
      "text/plain": [
       "'abcabcabc'"
      ]
     },
     "execution_count": 25,
     "metadata": {},
     "output_type": "execute_result"
    }
   ],
   "source": [
    "'abc'*3"
   ]
  },
  {
   "cell_type": "markdown",
   "id": "8520039a-8ad4-4685-9b15-6fe53e91fc31",
   "metadata": {},
   "source": [
    "### Formatting printed ouptput"
   ]
  },
  {
   "cell_type": "markdown",
   "id": "9afc3682-4a54-4e2c-b4a1-dcab2d49445e",
   "metadata": {},
   "source": [
    "**1. Using the format function**"
   ]
  },
  {
   "cell_type": "code",
   "execution_count": 27,
   "id": "0ec3f377-652b-4d9d-aa09-c53cdf4857b7",
   "metadata": {},
   "outputs": [
    {
     "name": "stdout",
     "output_type": "stream",
     "text": [
      "15/10 = 1.5\n"
     ]
    }
   ],
   "source": [
    "m=15\n",
    "n=10\n",
    "print('{0}/{1} = {2}'.format(m,n,m/n))"
   ]
  },
  {
   "cell_type": "markdown",
   "id": "a6d5e600-cac5-4584-8601-186da1eac19e",
   "metadata": {},
   "source": [
    "**2. Using the f-string**"
   ]
  },
  {
   "cell_type": "code",
   "execution_count": 30,
   "id": "83a82f24-92bb-4ba6-95af-15b808413e20",
   "metadata": {},
   "outputs": [
    {
     "name": "stdout",
     "output_type": "stream",
     "text": [
      "15/10 = 1.5\n"
     ]
    }
   ],
   "source": [
    "print(f'{m}/{n} = {m/n}')"
   ]
  },
  {
   "cell_type": "markdown",
   "id": "4e1782ed-cde8-4bdb-9ac7-c77fdbfe1fbc",
   "metadata": {},
   "source": [
    "**3. Parse numeric values from string ,querying the type of value**"
   ]
  },
  {
   "cell_type": "code",
   "execution_count": 29,
   "id": "cffa687b-5430-4f42-95ee-f3255dea690b",
   "metadata": {},
   "outputs": [
    {
     "name": "stdout",
     "output_type": "stream",
     "text": [
      "5\n"
     ]
    },
    {
     "data": {
      "text/plain": [
       "int"
      ]
     },
     "execution_count": 29,
     "metadata": {},
     "output_type": "execute_result"
    }
   ],
   "source": [
    "x = int ('5')\n",
    "print(x)\n",
    "type(x)"
   ]
  },
  {
   "cell_type": "code",
   "execution_count": 31,
   "id": "5f66520f-472f-4217-b4bf-cecbff7f4ae1",
   "metadata": {},
   "outputs": [],
   "source": [
    "##float is as same as double in JAVA"
   ]
  },
  {
   "cell_type": "markdown",
   "id": "c5220f31-72ae-4b77-a981-a723b981c6cf",
   "metadata": {},
   "source": [
    "**Booleans**"
   ]
  },
  {
   "cell_type": "code",
   "execution_count": 34,
   "id": "275c9857-57ce-4d89-9d05-54610b25f4a5",
   "metadata": {},
   "outputs": [
    {
     "name": "stdout",
     "output_type": "stream",
     "text": [
      "True , False\n"
     ]
    }
   ],
   "source": [
    "tr = True\n",
    "fl = False\n",
    "print(tr, ',', fl)"
   ]
  },
  {
   "cell_type": "code",
   "execution_count": 35,
   "id": "7cbae35f-ae44-4fd0-bda9-7ba424d726fe",
   "metadata": {},
   "outputs": [],
   "source": [
    "# Precedence : not, then and, and lastly or "
   ]
  },
  {
   "cell_type": "code",
   "execution_count": 36,
   "id": "3838db6f-697e-4c8f-b1b2-e7ceb9e481bd",
   "metadata": {},
   "outputs": [],
   "source": [
    "num1 = 9\n",
    "num2 = -10\n",
    "num = 15"
   ]
  },
  {
   "cell_type": "code",
   "execution_count": 37,
   "id": "2af832b0-a4d3-4b5a-bcda-21ba1f874657",
   "metadata": {},
   "outputs": [
    {
     "data": {
      "text/plain": [
       "True"
      ]
     },
     "execution_count": 37,
     "metadata": {},
     "output_type": "execute_result"
    }
   ],
   "source": [
    "not num1<0 or num2 <0"
   ]
  },
  {
   "cell_type": "code",
   "execution_count": 38,
   "id": "7f1f2c89-7153-4e1c-b8f2-fde8a1e61c0a",
   "metadata": {},
   "outputs": [
    {
     "data": {
      "text/plain": [
       "False"
      ]
     },
     "execution_count": 38,
     "metadata": {},
     "output_type": "execute_result"
    }
   ],
   "source": [
    "not (num1<0 or num2 <0)"
   ]
  },
  {
   "cell_type": "code",
   "execution_count": 40,
   "id": "61f39c2d-5c7d-49e2-a967-8d1fe81d0b95",
   "metadata": {},
   "outputs": [
    {
     "data": {
      "text/plain": [
       "True"
      ]
     },
     "execution_count": 40,
     "metadata": {},
     "output_type": "execute_result"
    }
   ],
   "source": [
    "num1 < 0 and num3 < 0 or num2 < 0"
   ]
  },
  {
   "cell_type": "code",
   "execution_count": 43,
   "id": "ce52505a-7cc6-4af6-9012-a28194073a50",
   "metadata": {},
   "outputs": [
    {
     "data": {
      "text/plain": [
       "False"
      ]
     },
     "execution_count": 43,
     "metadata": {},
     "output_type": "execute_result"
    }
   ],
   "source": [
    "num1 < 0 and (num3 < 0 or num2 < 0)"
   ]
  },
  {
   "cell_type": "markdown",
   "id": "081177a9-78ca-4a8a-8752-34e1f05ce240",
   "metadata": {},
   "source": [
    "---"
   ]
  },
  {
   "cell_type": "markdown",
   "id": "77de54ec-a85f-419a-b77d-7a2ce37f0772",
   "metadata": {},
   "source": [
    "### Funtions"
   ]
  },
  {
   "cell_type": "code",
   "execution_count": 47,
   "id": "c4926f78-4d03-4e99-a002-f31c9f336a7d",
   "metadata": {},
   "outputs": [],
   "source": [
    "# funtion defintion \n",
    "# def just defines that its going to be a function\n",
    "def double(x):\n",
    "    return x*2"
   ]
  },
  {
   "cell_type": "code",
   "execution_count": 48,
   "id": "4ab2ad95-4901-40bc-820e-0d728c707fef",
   "metadata": {},
   "outputs": [
    {
     "name": "stdout",
     "output_type": "stream",
     "text": [
      "10 14\n"
     ]
    }
   ],
   "source": [
    "# call the funtion\n",
    "a = 5\n",
    "adoub = double(a) # call with a as argument\n",
    "doub7 = double(7)\n",
    "print(adoub, doub7)"
   ]
  },
  {
   "cell_type": "markdown",
   "id": "8adf37db-ccb2-4bc2-8296-c89d778ea563",
   "metadata": {},
   "source": [
    "---"
   ]
  },
  {
   "cell_type": "markdown",
   "id": "1def962e-0a96-47fc-81d9-092a6e0e7ec7",
   "metadata": {},
   "source": [
    "**String methods**"
   ]
  },
  {
   "cell_type": "code",
   "execution_count": 54,
   "id": "257daf36-a5da-4c98-b8b4-aaf7dc07741c",
   "metadata": {},
   "outputs": [
    {
     "data": {
      "text/plain": [
       "True"
      ]
     },
     "execution_count": 54,
     "metadata": {},
     "output_type": "execute_result"
    }
   ],
   "source": [
    "\"myfile.ipynb\".endswith('ipynb')"
   ]
  },
  {
   "cell_type": "code",
   "execution_count": 55,
   "id": "ea6e423b-ac52-477b-82d3-f3ee2e7118c5",
   "metadata": {},
   "outputs": [
    {
     "data": {
      "text/plain": [
       "False"
      ]
     },
     "execution_count": 55,
     "metadata": {},
     "output_type": "execute_result"
    }
   ],
   "source": [
    "\"myfile.ipynb\".startswith('ipynb')"
   ]
  },
  {
   "cell_type": "code",
   "execution_count": 57,
   "id": "1b04a05a-de37-4fbf-b253-3c16dbfd42b8",
   "metadata": {},
   "outputs": [
    {
     "data": {
      "text/plain": [
       "13"
      ]
     },
     "execution_count": 57,
     "metadata": {},
     "output_type": "execute_result"
    }
   ],
   "source": [
    "str = \"This is A sentence.\"\n",
    "str.find('ten')"
   ]
  },
  {
   "cell_type": "code",
   "execution_count": 59,
   "id": "46222b58-f52c-46e1-a8c6-99f139f1d250",
   "metadata": {},
   "outputs": [
    {
     "data": {
      "text/plain": [
       "-1"
      ]
     },
     "execution_count": 59,
     "metadata": {},
     "output_type": "execute_result"
    }
   ],
   "source": [
    "str.find('tense')"
   ]
  },
  {
   "cell_type": "code",
   "execution_count": 61,
   "id": "98901130-bbc2-481d-91c8-41c5a699d2f0",
   "metadata": {},
   "outputs": [
    {
     "data": {
      "text/plain": [
       "False"
      ]
     },
     "execution_count": 61,
     "metadata": {},
     "output_type": "execute_result"
    }
   ],
   "source": [
    "str.isalpha()"
   ]
  },
  {
   "cell_type": "code",
   "execution_count": 62,
   "id": "33f9c417-9778-47fe-b158-3ba235107eec",
   "metadata": {},
   "outputs": [
    {
     "data": {
      "text/plain": [
       "True"
      ]
     },
     "execution_count": 62,
     "metadata": {},
     "output_type": "execute_result"
    }
   ],
   "source": [
    "\"xyz\".isalpha()"
   ]
  },
  {
   "cell_type": "code",
   "execution_count": 63,
   "id": "ec925361-32d6-4e3d-ba2c-5cd1d493d889",
   "metadata": {},
   "outputs": [
    {
     "data": {
      "text/plain": [
       "False"
      ]
     },
     "execution_count": 63,
     "metadata": {},
     "output_type": "execute_result"
    }
   ],
   "source": [
    "\"\".isalpha() #empty string"
   ]
  },
  {
   "cell_type": "code",
   "execution_count": 64,
   "id": "1f489ac7-fbf8-46f8-aaa4-2372739a78a2",
   "metadata": {},
   "outputs": [
    {
     "data": {
      "text/plain": [
       "True"
      ]
     },
     "execution_count": 64,
     "metadata": {},
     "output_type": "execute_result"
    }
   ],
   "source": [
    "'1234'.isdigit()"
   ]
  },
  {
   "cell_type": "code",
   "execution_count": 65,
   "id": "1d7a9588-1975-4cb5-a24f-97e015f0c474",
   "metadata": {},
   "outputs": [
    {
     "data": {
      "text/plain": [
       "False"
      ]
     },
     "execution_count": 65,
     "metadata": {},
     "output_type": "execute_result"
    }
   ],
   "source": [
    "'123-456'.isdigit()"
   ]
  },
  {
   "cell_type": "code",
   "execution_count": 66,
   "id": "9d71d08b-01a1-4220-9ddd-8cae604bb902",
   "metadata": {},
   "outputs": [
    {
     "data": {
      "text/plain": [
       "'01-20-2022'"
      ]
     },
     "execution_count": 66,
     "metadata": {},
     "output_type": "execute_result"
    }
   ],
   "source": [
    "#replace\n",
    "\"01/20/2022\".replace(\"/\",\"-\")"
   ]
  },
  {
   "cell_type": "code",
   "execution_count": 69,
   "id": "d8a0c431-0760-4c36-87fe-b6a23b6a9fbc",
   "metadata": {},
   "outputs": [
    {
     "name": "stdout",
     "output_type": "stream",
     "text": [
      "This and that&the other\n"
     ]
    }
   ],
   "source": [
    "res = \"This&that&the other\".replace(\"&\", \" and \" , 1) #only replace first occurrences\n",
    "print(res)"
   ]
  },
  {
   "cell_type": "code",
   "execution_count": 70,
   "id": "6a6ec162-3ca2-4407-8d78-2de47b8d9492",
   "metadata": {},
   "outputs": [
    {
     "name": "stdout",
     "output_type": "stream",
     "text": [
      "Strip out\n"
     ]
    }
   ],
   "source": [
    "str = \"Strip out;,!\"\n",
    "newstr = str.strip(\";,!\")\n",
    "print(newstr)"
   ]
  },
  {
   "cell_type": "code",
   "execution_count": 71,
   "id": "3f5249e6-f0ae-44fc-9547-64afef94def1",
   "metadata": {},
   "outputs": [
    {
     "data": {
      "text/plain": [
       "9"
      ]
     },
     "execution_count": 71,
     "metadata": {},
     "output_type": "execute_result"
    }
   ],
   "source": [
    "len(newstr)"
   ]
  },
  {
   "cell_type": "code",
   "execution_count": 72,
   "id": "7a2d4413-3b61-48b8-9dea-8d896e578abc",
   "metadata": {},
   "outputs": [
    {
     "name": "stdout",
     "output_type": "stream",
     "text": [
      "Strip out;,\n"
     ]
    }
   ],
   "source": [
    "newstr = str.strip(\";!\")\n",
    "print(newstr)"
   ]
  },
  {
   "cell_type": "code",
   "execution_count": null,
   "id": "b8b050bd-7700-4fea-8294-fceef02c5d03",
   "metadata": {},
   "outputs": [],
   "source": []
  }
 ],
 "metadata": {
  "kernelspec": {
   "display_name": "Python 3 (ipykernel)",
   "language": "python",
   "name": "python3"
  },
  "language_info": {
   "codemirror_mode": {
    "name": "ipython",
    "version": 3
   },
   "file_extension": ".py",
   "mimetype": "text/x-python",
   "name": "python",
   "nbconvert_exporter": "python",
   "pygments_lexer": "ipython3",
   "version": "3.9.7"
  }
 },
 "nbformat": 4,
 "nbformat_minor": 5
}
