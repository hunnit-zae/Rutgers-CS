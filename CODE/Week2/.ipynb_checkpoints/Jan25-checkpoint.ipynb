{
 "cells": [
  {
   "cell_type": "markdown",
   "id": "ab7ea12f-44cf-408a-8ced-b1b49b94ed58",
   "metadata": {},
   "source": [
    "## Party expense exercise"
   ]
  },
  {
   "cell_type": "code",
   "execution_count": 75,
   "id": "cbd7dc8f-422f-4fff-98fc-ef143cc113a5",
   "metadata": {},
   "outputs": [],
   "source": [
    "### import math\n",
    "\n",
    "def party_cost(n=5,p=2,s=1,pc=10,ps=8,sc=1.5,cc=12):\n",
    "    pizza_cost = math.ceil((n*p)/ps)*pc\n",
    "    soda_cost = math.ceil((n*s)/cc)*sc\n",
    "    return pizza_cost + soda_cost"
   ]
  },
  {
   "cell_type": "code",
   "execution_count": 76,
   "id": "586957ff-ec5e-447b-9238-ad07f26f48b3",
   "metadata": {
    "tags": []
   },
   "outputs": [
    {
     "data": {
      "text/plain": [
       "21.5"
      ]
     },
     "execution_count": 76,
     "metadata": {},
     "output_type": "execute_result"
    }
   ],
   "source": [
    "party_cost()"
   ]
  },
  {
   "cell_type": "code",
   "execution_count": 77,
   "id": "20239838-a8a2-4588-9eb4-07ef59bdf24b",
   "metadata": {
    "tags": []
   },
   "outputs": [
    {
     "data": {
      "text/plain": [
       "21.5"
      ]
     },
     "execution_count": 77,
     "metadata": {},
     "output_type": "execute_result"
    }
   ],
   "source": [
    "party_cost(5)"
   ]
  },
  {
   "cell_type": "code",
   "execution_count": 78,
   "id": "52b9fbef-f4e4-4857-b74e-3152b1a839ab",
   "metadata": {
    "tags": []
   },
   "outputs": [
    {
     "data": {
      "text/plain": [
       "31.5"
      ]
     },
     "execution_count": 78,
     "metadata": {},
     "output_type": "execute_result"
    }
   ],
   "source": [
    "party_cost(10)"
   ]
  },
  {
   "cell_type": "code",
   "execution_count": 79,
   "id": "124c11b3-54d3-4d38-b75e-df08e27c3441",
   "metadata": {
    "tags": []
   },
   "outputs": [
    {
     "data": {
      "text/plain": [
       "51.5"
      ]
     },
     "execution_count": 79,
     "metadata": {},
     "output_type": "execute_result"
    }
   ],
   "source": [
    "party_cost(10,4)"
   ]
  },
  {
   "cell_type": "code",
   "execution_count": 80,
   "id": "a05e9183-8393-4f69-8143-d280d97ee57a",
   "metadata": {
    "tags": []
   },
   "outputs": [
    {
     "data": {
      "text/plain": [
       "64.5"
      ]
     },
     "execution_count": 80,
     "metadata": {},
     "output_type": "execute_result"
    }
   ],
   "source": [
    "party_cost(15,3,2)"
   ]
  },
  {
   "cell_type": "code",
   "execution_count": 81,
   "id": "ec77336f-0da7-40f3-a223-74abe872d8a8",
   "metadata": {
    "tags": []
   },
   "outputs": [
    {
     "ename": "TypeError",
     "evalue": "func() missing 1 required positional argument: 'x'",
     "output_type": "error",
     "traceback": [
      "\u001b[1;31m---------------------------------------------------------------------------\u001b[0m",
      "\u001b[1;31mTypeError\u001b[0m                                 Traceback (most recent call last)",
      "\u001b[1;32mC:\\Users\\BAEKGE~1\\AppData\\Local\\Temp/ipykernel_11208/167006724.py\u001b[0m in \u001b[0;36m<module>\u001b[1;34m\u001b[0m\n\u001b[0;32m      2\u001b[0m     \u001b[1;32mreturn\u001b[0m \u001b[0mx\u001b[0m\u001b[1;33m+\u001b[0m\u001b[0my\u001b[0m\u001b[1;33m\u001b[0m\u001b[1;33m\u001b[0m\u001b[0m\n\u001b[0;32m      3\u001b[0m \u001b[1;33m\u001b[0m\u001b[0m\n\u001b[1;32m----> 4\u001b[1;33m \u001b[0mprint\u001b[0m\u001b[1;33m(\u001b[0m\u001b[0mfunc\u001b[0m\u001b[1;33m(\u001b[0m\u001b[1;33m)\u001b[0m\u001b[1;33m)\u001b[0m\u001b[1;33m\u001b[0m\u001b[1;33m\u001b[0m\u001b[0m\n\u001b[0m",
      "\u001b[1;31mTypeError\u001b[0m: func() missing 1 required positional argument: 'x'"
     ]
    }
   ],
   "source": [
    "def func(x,y=5):\n",
    "    return x+y\n",
    "\n",
    "print(func())"
   ]
  },
  {
   "cell_type": "code",
   "execution_count": 82,
   "id": "f8193cd5-e579-4a7d-93c6-3654ca406cc0",
   "metadata": {},
   "outputs": [
    {
     "ename": "SyntaxError",
     "evalue": "non-default argument follows default argument (Temp/ipykernel_11208/3404258407.py, line 1)",
     "output_type": "error",
     "traceback": [
      "\u001b[1;36m  File \u001b[1;32m\"C:\\Users\\BAEKGE~1\\AppData\\Local\\Temp/ipykernel_11208/3404258407.py\"\u001b[1;36m, line \u001b[1;32m1\u001b[0m\n\u001b[1;33m    def func(x=5,y):\u001b[0m\n\u001b[1;37m                  ^\u001b[0m\n\u001b[1;31mSyntaxError\u001b[0m\u001b[1;31m:\u001b[0m non-default argument follows default argument\n"
     ]
    }
   ],
   "source": [
    "def func(x=5,y):\n",
    "    return (x+y)\n",
    "\n",
    "print(func(3))"
   ]
  },
  {
   "cell_type": "code",
   "execution_count": 83,
   "id": "202f4ac6-a4ff-41e7-be0e-29d6961ca484",
   "metadata": {},
   "outputs": [],
   "source": [
    "#### deafult args must be at the end"
   ]
  },
  {
   "cell_type": "code",
   "execution_count": 84,
   "id": "5dffaea0-d7dc-4129-9063-4eb910d58439",
   "metadata": {},
   "outputs": [],
   "source": [
    "def party_cost_new(n=5,p=2,s=1,pc=10,ps=8,sc=1.5,cc=12):\n",
    "    pies = math.ceil((n*p)/ps)\n",
    "    pizza_cost = pies*pc\n",
    "    soda_case = math.ceil((n*s)/cc)\n",
    "    soda_cost = soda_case * sc\n",
    "    return pies, soda_case, pizza_cost + soda_cost"
   ]
  },
  {
   "cell_type": "code",
   "execution_count": 85,
   "id": "3c4667fb-de39-4271-8127-d34d36f25e5a",
   "metadata": {},
   "outputs": [
    {
     "name": "stdout",
     "output_type": "stream",
     "text": [
      "pies=2, case = 1, cost=21.5\n"
     ]
    }
   ],
   "source": [
    "pies, case, cost = party_cost_new()\n",
    "print(f'pies={pies}, case = {case}, cost={cost}')"
   ]
  },
  {
   "cell_type": "code",
   "execution_count": 86,
   "id": "c9290e3e-cd1f-4074-8a7b-e95630a75e47",
   "metadata": {},
   "outputs": [],
   "source": [
    "### Discisions "
   ]
  },
  {
   "cell_type": "code",
   "execution_count": 87,
   "id": "d01c879b-1f4f-4acb-b437-4a3289197d72",
   "metadata": {},
   "outputs": [
    {
     "name": "stdout",
     "output_type": "stream",
     "text": [
      "y > x\n",
      "outside the if\n"
     ]
    }
   ],
   "source": [
    "x=2\n",
    "y=3\n",
    "if x < y:\n",
    "    print('y > x')\n",
    "print('outside the if')"
   ]
  },
  {
   "cell_type": "code",
   "execution_count": 88,
   "id": "d8d1626c-d6cb-49b5-8b20-622e5931b75b",
   "metadata": {},
   "outputs": [
    {
     "name": "stdout",
     "output_type": "stream",
     "text": [
      "outside the if\n"
     ]
    }
   ],
   "source": [
    "x=3\n",
    "y=2\n",
    "if x < y:\n",
    "    print('y > x')\n",
    "print('outside the if')"
   ]
  },
  {
   "cell_type": "code",
   "execution_count": 89,
   "id": "1d6e4a54-2f53-4b60-aca2-37cb57077f7d",
   "metadata": {},
   "outputs": [
    {
     "name": "stdout",
     "output_type": "stream",
     "text": [
      "x > y\n"
     ]
    }
   ],
   "source": [
    "if x > y:\n",
    "    print('x > y')\n",
    "else:\n",
    "    print('x not > y')"
   ]
  },
  {
   "cell_type": "code",
   "execution_count": 90,
   "id": "30b3f597-e648-43ec-8b2e-56420e1ca7f1",
   "metadata": {},
   "outputs": [
    {
     "name": "stdout",
     "output_type": "stream",
     "text": [
      "x not < y, and y < z\n"
     ]
    }
   ],
   "source": [
    "z = 10\n",
    "if x < y:\n",
    "    print('x < y')\n",
    "elif y < z:  #else if condition\n",
    "    print('x not < y, and y < z')\n",
    "else:\n",
    "    print('x not < y, and y > z')"
   ]
  },
  {
   "cell_type": "code",
   "execution_count": 91,
   "id": "44fe76f6-3929-4d1e-8bb2-3c8cdac65d72",
   "metadata": {},
   "outputs": [
    {
     "name": "stdout",
     "output_type": "stream",
     "text": [
      "x not < y, and y < z\n"
     ]
    }
   ],
   "source": [
    "# java version\n",
    "z = 10\n",
    "if x < y:\n",
    "    print('x < y')\n",
    "else:\n",
    "    if y < z:\n",
    "        print('x not < y, and y < z')\n",
    "    else:\n",
    "        print('x not < y, and y > z')"
   ]
  },
  {
   "cell_type": "code",
   "execution_count": 92,
   "id": "a9ae9ec4-e119-486d-872f-83a40d0da8cf",
   "metadata": {},
   "outputs": [],
   "source": [
    "#arrange 3 numbers in ascending order\n",
    "def sort3(x, y, z):\n",
    "    if x < y:\n",
    "        if(y < z):\n",
    "            return x,y,z\n",
    "        elif x < z:\n",
    "            return x,z,y\n",
    "        else:\n",
    "            z,x,y\n",
    "    else:\n",
    "        if x < z:\n",
    "            return y,x,z\n",
    "        elif y < z:\n",
    "            return y,z,x\n",
    "        else:\n",
    "            return z,y,x"
   ]
  },
  {
   "cell_type": "code",
   "execution_count": 93,
   "id": "7543a932-b79b-4ab0-9cfb-82aa2658fe94",
   "metadata": {},
   "outputs": [
    {
     "name": "stdout",
     "output_type": "stream",
     "text": [
      "(1, 2, 3)\n"
     ]
    }
   ],
   "source": [
    "print(sort3(1,2,3))"
   ]
  },
  {
   "cell_type": "code",
   "execution_count": 94,
   "id": "79c9eafd-fc6c-4afe-b744-05d4e0ae4926",
   "metadata": {},
   "outputs": [
    {
     "name": "stdout",
     "output_type": "stream",
     "text": [
      "(1, 2, 3)\n"
     ]
    }
   ],
   "source": [
    "print(sort3(3,2,1))"
   ]
  },
  {
   "cell_type": "code",
   "execution_count": 95,
   "id": "7ece092e-040a-4b47-837b-6478cf0b9fef",
   "metadata": {},
   "outputs": [
    {
     "name": "stdout",
     "output_type": "stream",
     "text": [
      "(1, 2, 3)\n"
     ]
    }
   ],
   "source": [
    "print(sort3(3,1,2))"
   ]
  },
  {
   "cell_type": "code",
   "execution_count": 96,
   "id": "84495cc8-617e-42f5-ba5c-ece8c57c328e",
   "metadata": {},
   "outputs": [
    {
     "name": "stdout",
     "output_type": "stream",
     "text": [
      "(4, 5, 10)\n"
     ]
    }
   ],
   "source": [
    "print(sort3(10,4,5))"
   ]
  },
  {
   "cell_type": "code",
   "execution_count": 97,
   "id": "f799afb0-318f-4f64-aa75-97bbb8cd91f3",
   "metadata": {},
   "outputs": [],
   "source": [
    "def grade(score):\n",
    "    if score >= 90:\n",
    "        grade = 'A'\n",
    "    elif score >= 80:\n",
    "        grade = 'B'\n",
    "    elif score >= 70:\n",
    "        grade = 'C'\n",
    "    elif score >= 60:\n",
    "        grade = 'D'\n",
    "    else:\n",
    "        grade = 'F'\n",
    "    return grade\n",
    "        "
   ]
  },
  {
   "cell_type": "code",
   "execution_count": 98,
   "id": "19b9478b-6612-4bb2-b4e8-0c4706ea6723",
   "metadata": {},
   "outputs": [
    {
     "name": "stdout",
     "output_type": "stream",
     "text": [
      "A\n"
     ]
    }
   ],
   "source": [
    "print(grade(90))"
   ]
  },
  {
   "cell_type": "code",
   "execution_count": 99,
   "id": "a8d93bfc-7fe2-422f-811d-d42a7f2924e6",
   "metadata": {},
   "outputs": [
    {
     "name": "stdout",
     "output_type": "stream",
     "text": [
      "F\n"
     ]
    }
   ],
   "source": [
    "print(grade(50))"
   ]
  },
  {
   "cell_type": "code",
   "execution_count": 100,
   "id": "f73f19ec-9c0b-43e1-8717-341e5ffdc767",
   "metadata": {},
   "outputs": [],
   "source": [
    "# version 2, without elifs\n",
    "def grade(score):\n",
    "    if score >= 90:\n",
    "        return 'A'\n",
    "    if score >= 80:\n",
    "        return 'B'\n",
    "    if score >= 70:\n",
    "        return 'C'\n",
    "    if score >= 60:\n",
    "        return 'D'\n",
    "    else:\n",
    "        return 'F'\n",
    "    return grade"
   ]
  },
  {
   "cell_type": "code",
   "execution_count": 101,
   "id": "ca4b5b5e-4e45-48e8-b77f-c06a7cee9ecc",
   "metadata": {},
   "outputs": [
    {
     "name": "stdout",
     "output_type": "stream",
     "text": [
      "F\n"
     ]
    }
   ],
   "source": [
    "print(grade(50))"
   ]
  },
  {
   "cell_type": "code",
   "execution_count": 102,
   "id": "79706125-863a-429e-a74a-a43ade51a6d7",
   "metadata": {},
   "outputs": [
    {
     "name": "stdout",
     "output_type": "stream",
     "text": [
      "B\n"
     ]
    }
   ],
   "source": [
    "print(grade(80))"
   ]
  },
  {
   "cell_type": "code",
   "execution_count": 103,
   "id": "29430901-c56c-4537-bfaa-427fcd15aec5",
   "metadata": {},
   "outputs": [],
   "source": [
    "def convert(temp, dir='ctof'):\n",
    "    if dir == 'ctof':\n",
    "        res = temp*9/5 + 32\n",
    "    else:\n",
    "        res = (temp - 32)*5/9\n",
    "    return res"
   ]
  },
  {
   "cell_type": "code",
   "execution_count": 104,
   "id": "13b9153f-968d-4da4-9215-b62045ae3f24",
   "metadata": {},
   "outputs": [
    {
     "name": "stdout",
     "output_type": "stream",
     "text": [
      "86.0\n"
     ]
    }
   ],
   "source": [
    "print(convert(30))"
   ]
  },
  {
   "cell_type": "code",
   "execution_count": 105,
   "id": "cfd6b43b-eb01-4da4-b8b6-df3092984736",
   "metadata": {},
   "outputs": [
    {
     "name": "stdout",
     "output_type": "stream",
     "text": [
      "-1.1111111111111112\n"
     ]
    }
   ],
   "source": [
    "print(convert(30,'ftoc'))"
   ]
  },
  {
   "cell_type": "code",
   "execution_count": 106,
   "id": "9903a27b-49e5-4588-a849-704507a0718c",
   "metadata": {},
   "outputs": [
    {
     "name": "stdout",
     "output_type": "stream",
     "text": [
      "15.555555555555555\n"
     ]
    }
   ],
   "source": [
    "print(convert(60,'ftoc'))"
   ]
  },
  {
   "cell_type": "code",
   "execution_count": 108,
   "id": "1f301ffa-3275-44c1-8db6-7d9aced986a8",
   "metadata": {},
   "outputs": [
    {
     "name": "stdout",
     "output_type": "stream",
     "text": [
      "15.83\n"
     ]
    }
   ],
   "source": [
    "# formatting\n",
    "cval = convert(60.5,'ftoc')\n",
    "print(f'{cval:.2f}')"
   ]
  },
  {
   "cell_type": "markdown",
   "id": "ab1730bf-9201-49df-aabc-0cf81c16ea4a",
   "metadata": {},
   "source": [
    "### Read input from console"
   ]
  },
  {
   "cell_type": "code",
   "execution_count": 118,
   "id": "b809ce5c-d871-4f13-a34d-eab240896c80",
   "metadata": {},
   "outputs": [],
   "source": [
    "def tempconvert():\n",
    "    dir = input(\"Enter the 'f2c' or 'c2f : '\")\n",
    "    if dir == 'f2c':\n",
    "        f = float(input('enter F: '))\n",
    "        c = (f-32)* 5/9\n",
    "        return c\n",
    "    else:\n",
    "        c = float(input('enter C: '))\n",
    "        f = c*9/5 + 32\n",
    "        return f"
   ]
  },
  {
   "cell_type": "code",
   "execution_count": 120,
   "id": "bfecf938-6eb2-4327-9e31-d369608997b5",
   "metadata": {},
   "outputs": [
    {
     "name": "stdin",
     "output_type": "stream",
     "text": [
      "Enter the 'f2c' or 'c2f : ' c2f\n",
      "enter C:  100\n"
     ]
    },
    {
     "data": {
      "text/plain": [
       "212.0"
      ]
     },
     "execution_count": 120,
     "metadata": {},
     "output_type": "execute_result"
    }
   ],
   "source": [
    "tempconvert()"
   ]
  },
  {
   "cell_type": "code",
   "execution_count": 123,
   "id": "c586921c-aea7-48d2-abea-bc9c90ca543b",
   "metadata": {},
   "outputs": [],
   "source": [
    "def tempconvert():\n",
    "    dir = input(\"Enter the 'f2c' or 'c2f' : \")\n",
    "    try:\n",
    "        if dir == 'f2c':\n",
    "            f = float(input('enter F: '))\n",
    "            c = (f-32)* 5/9\n",
    "            return c\n",
    "        else:\n",
    "            c = float(input('enter C: '))\n",
    "            f = c*9/5 + 32\n",
    "            return f\n",
    "    except ValueError as err: #read and print the valueerror\n",
    "        print(err)"
   ]
  },
  {
   "cell_type": "code",
   "execution_count": 124,
   "id": "acfcaee4-baad-46f0-bfe8-2db667aa015a",
   "metadata": {},
   "outputs": [
    {
     "name": "stdin",
     "output_type": "stream",
     "text": [
      "Enter the 'f2c' or 'c2f' :  ff\n",
      "enter C:  f\n"
     ]
    },
    {
     "name": "stdout",
     "output_type": "stream",
     "text": [
      "could not convert string to float: 'f'\n"
     ]
    }
   ],
   "source": [
    "tempconvert()"
   ]
  },
  {
   "cell_type": "code",
   "execution_count": 128,
   "id": "99c6bd9a-e699-4ab3-970a-9a4aa054c9c2",
   "metadata": {},
   "outputs": [],
   "source": [
    "# replace with new message that is more pointed, and contextual \n",
    "def tempconvert():\n",
    "    dir = input(\"Enter the 'f2c' or 'c2f' : \")\n",
    "    try:\n",
    "        if dir == 'f2c':\n",
    "            inp = input('enter F: ')\n",
    "            f = float(inp) # error might happen here during conversion\n",
    "            c = (f-32)* 5/9\n",
    "            return c\n",
    "        else:\n",
    "            inp = input('enter C: ')\n",
    "            c = float(inp) # error might happen here during conversion\n",
    "            f = c*9/5 + 32\n",
    "            return f\n",
    "    except ValueError:\n",
    "        print(f'Input must be a real number, you enterd \"{inp}\"')\n",
    "        "
   ]
  },
  {
   "cell_type": "code",
   "execution_count": 129,
   "id": "03d93391-8ef5-4d3c-8301-ab6d61a9148c",
   "metadata": {},
   "outputs": [
    {
     "name": "stdin",
     "output_type": "stream",
     "text": [
      "Enter the 'f2c' or 'c2f' :  f2c\n",
      "enter F:  f\n"
     ]
    },
    {
     "name": "stdout",
     "output_type": "stream",
     "text": [
      "Input must be a real number, you enterd \"f\"\n"
     ]
    }
   ],
   "source": [
    "tempconvert()"
   ]
  },
  {
   "cell_type": "code",
   "execution_count": null,
   "id": "5d6983d4-4c14-4700-bc6b-329cb9578f94",
   "metadata": {},
   "outputs": [],
   "source": []
  }
 ],
 "metadata": {
  "kernelspec": {
   "display_name": "Python 3 (ipykernel)",
   "language": "python",
   "name": "python3"
  },
  "language_info": {
   "codemirror_mode": {
    "name": "ipython",
    "version": 3
   },
   "file_extension": ".py",
   "mimetype": "text/x-python",
   "name": "python",
   "nbconvert_exporter": "python",
   "pygments_lexer": "ipython3",
   "version": "3.9.7"
  }
 },
 "nbformat": 4,
 "nbformat_minor": 5
}
